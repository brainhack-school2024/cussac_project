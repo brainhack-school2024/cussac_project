{
 "cells": [
  {
   "cell_type": "markdown",
   "id": "b3ba7262-2b4d-46b2-9ba1-6d360f8d4de8",
   "metadata": {
    "jp-MarkdownHeadingCollapsed": true
   },
   "source": [
    "#### Importation bibliothèques et données"
   ]
  },
  {
   "cell_type": "code",
   "execution_count": 276,
   "id": "ac3b8073-e48a-4b22-9a0b-d90fdf60a1d8",
   "metadata": {},
   "outputs": [],
   "source": [
    "#Importation des bibliothèques\n",
    "\n",
    "import nilearn.datasets\n",
    "import numpy as np\n",
    "import matplotlib.pyplot as plt\n",
    "import pandas as pd\n",
    "import nibabel as nib\n",
    "import seaborn as sns\n",
    "\n",
    "from nilearn.input_data import NiftiMasker, NiftiMapsMasker, NiftiSpheresMasker, NiftiLabelsMasker\n",
    "from nilearn import plotting\n",
    "from nilearn.connectome import ConnectivityMeasure\n",
    "from nilearn.plotting import plot_connectome\n",
    "\n",
    "from sklearn.neighbors import KNeighborsClassifier\n",
    "from sklearn.linear_model import LogisticRegression\n",
    "from sklearn.naive_bayes import GaussianNB\n",
    "from sklearn.ensemble import RandomForestClassifier, GradientBoostingClassifier\n",
    "from sklearn.svm import SVC\n",
    "from sklearn.model_selection import cross_val_predict, cross_val_score, train_test_split, StratifiedKFold, GridSearchCV\n",
    "from sklearn.metrics import confusion_matrix, classification_report, accuracy_score, ConfusionMatrixDisplay, RocCurveDisplay, auc, roc_curve"
   ]
  },
  {
   "cell_type": "code",
   "execution_count": 2,
   "id": "e33ed7ed-7e4e-4f80-a5ca-a270bf881399",
   "metadata": {
    "scrolled": true
   },
   "outputs": [
    {
     "data": {
      "text/plain": [
       "dict_keys(['description', 'phenotypic', 'func_preproc'])"
      ]
     },
     "execution_count": 2,
     "metadata": {},
     "output_type": "execute_result"
    }
   ],
   "source": [
    "#Jeu de données\n",
    "\n",
    "dataset_abide = nilearn.datasets.fetch_abide_pcp(n_subjects=500)\n",
    "fmri_filenames = dataset_abide['func_preproc']\n",
    "dataset_abide.keys()"
   ]
  },
  {
   "cell_type": "code",
   "execution_count": 3,
   "id": "5fc6a0d0-67d5-4006-99e1-fe534fecf4d0",
   "metadata": {
    "scrolled": true
   },
   "outputs": [
    {
     "data": {
      "text/html": [
       "<div>\n",
       "<style scoped>\n",
       "    .dataframe tbody tr th:only-of-type {\n",
       "        vertical-align: middle;\n",
       "    }\n",
       "\n",
       "    .dataframe tbody tr th {\n",
       "        vertical-align: top;\n",
       "    }\n",
       "\n",
       "    .dataframe thead th {\n",
       "        text-align: right;\n",
       "    }\n",
       "</style>\n",
       "<table border=\"1\" class=\"dataframe\">\n",
       "  <thead>\n",
       "    <tr style=\"text-align: right;\">\n",
       "      <th></th>\n",
       "      <th>SUB_ID</th>\n",
       "      <th>X</th>\n",
       "      <th>subject</th>\n",
       "      <th>SITE_ID</th>\n",
       "      <th>FILE_ID</th>\n",
       "      <th>DX_GROUP</th>\n",
       "      <th>DSM_IV_TR</th>\n",
       "      <th>AGE_AT_SCAN</th>\n",
       "      <th>SEX</th>\n",
       "      <th>HANDEDNESS_CATEGORY</th>\n",
       "      <th>...</th>\n",
       "      <th>qc_notes_rater_1</th>\n",
       "      <th>qc_anat_rater_2</th>\n",
       "      <th>qc_anat_notes_rater_2</th>\n",
       "      <th>qc_func_rater_2</th>\n",
       "      <th>qc_func_notes_rater_2</th>\n",
       "      <th>qc_anat_rater_3</th>\n",
       "      <th>qc_anat_notes_rater_3</th>\n",
       "      <th>qc_func_rater_3</th>\n",
       "      <th>qc_func_notes_rater_3</th>\n",
       "      <th>SUB_IN_SMP</th>\n",
       "    </tr>\n",
       "  </thead>\n",
       "  <tbody>\n",
       "    <tr>\n",
       "      <th>0</th>\n",
       "      <td>50003</td>\n",
       "      <td>2</td>\n",
       "      <td>50003</td>\n",
       "      <td>PITT</td>\n",
       "      <td>Pitt_0050003</td>\n",
       "      <td>1</td>\n",
       "      <td>1</td>\n",
       "      <td>24.45</td>\n",
       "      <td>1</td>\n",
       "      <td>R</td>\n",
       "      <td>...</td>\n",
       "      <td>NaN</td>\n",
       "      <td>OK</td>\n",
       "      <td>NaN</td>\n",
       "      <td>OK</td>\n",
       "      <td>NaN</td>\n",
       "      <td>OK</td>\n",
       "      <td>NaN</td>\n",
       "      <td>OK</td>\n",
       "      <td>NaN</td>\n",
       "      <td>1</td>\n",
       "    </tr>\n",
       "    <tr>\n",
       "      <th>1</th>\n",
       "      <td>50004</td>\n",
       "      <td>3</td>\n",
       "      <td>50004</td>\n",
       "      <td>PITT</td>\n",
       "      <td>Pitt_0050004</td>\n",
       "      <td>1</td>\n",
       "      <td>1</td>\n",
       "      <td>19.09</td>\n",
       "      <td>1</td>\n",
       "      <td>R</td>\n",
       "      <td>...</td>\n",
       "      <td>NaN</td>\n",
       "      <td>OK</td>\n",
       "      <td>NaN</td>\n",
       "      <td>OK</td>\n",
       "      <td>NaN</td>\n",
       "      <td>OK</td>\n",
       "      <td>NaN</td>\n",
       "      <td>OK</td>\n",
       "      <td>NaN</td>\n",
       "      <td>1</td>\n",
       "    </tr>\n",
       "    <tr>\n",
       "      <th>2</th>\n",
       "      <td>50005</td>\n",
       "      <td>4</td>\n",
       "      <td>50005</td>\n",
       "      <td>PITT</td>\n",
       "      <td>Pitt_0050005</td>\n",
       "      <td>1</td>\n",
       "      <td>1</td>\n",
       "      <td>13.73</td>\n",
       "      <td>2</td>\n",
       "      <td>R</td>\n",
       "      <td>...</td>\n",
       "      <td>NaN</td>\n",
       "      <td>OK</td>\n",
       "      <td>NaN</td>\n",
       "      <td>maybe</td>\n",
       "      <td>ic-parietal-cerebellum</td>\n",
       "      <td>OK</td>\n",
       "      <td>NaN</td>\n",
       "      <td>OK</td>\n",
       "      <td>NaN</td>\n",
       "      <td>0</td>\n",
       "    </tr>\n",
       "    <tr>\n",
       "      <th>3</th>\n",
       "      <td>50006</td>\n",
       "      <td>5</td>\n",
       "      <td>50006</td>\n",
       "      <td>PITT</td>\n",
       "      <td>Pitt_0050006</td>\n",
       "      <td>1</td>\n",
       "      <td>1</td>\n",
       "      <td>13.37</td>\n",
       "      <td>1</td>\n",
       "      <td>L</td>\n",
       "      <td>...</td>\n",
       "      <td>NaN</td>\n",
       "      <td>OK</td>\n",
       "      <td>NaN</td>\n",
       "      <td>maybe</td>\n",
       "      <td>ic-parietal slight</td>\n",
       "      <td>OK</td>\n",
       "      <td>NaN</td>\n",
       "      <td>OK</td>\n",
       "      <td>NaN</td>\n",
       "      <td>1</td>\n",
       "    </tr>\n",
       "    <tr>\n",
       "      <th>4</th>\n",
       "      <td>50007</td>\n",
       "      <td>6</td>\n",
       "      <td>50007</td>\n",
       "      <td>PITT</td>\n",
       "      <td>Pitt_0050007</td>\n",
       "      <td>1</td>\n",
       "      <td>1</td>\n",
       "      <td>17.78</td>\n",
       "      <td>1</td>\n",
       "      <td>R</td>\n",
       "      <td>...</td>\n",
       "      <td>NaN</td>\n",
       "      <td>OK</td>\n",
       "      <td>NaN</td>\n",
       "      <td>maybe</td>\n",
       "      <td>ic-cerebellum_temporal_lob</td>\n",
       "      <td>OK</td>\n",
       "      <td>NaN</td>\n",
       "      <td>OK</td>\n",
       "      <td>NaN</td>\n",
       "      <td>1</td>\n",
       "    </tr>\n",
       "    <tr>\n",
       "      <th>...</th>\n",
       "      <td>...</td>\n",
       "      <td>...</td>\n",
       "      <td>...</td>\n",
       "      <td>...</td>\n",
       "      <td>...</td>\n",
       "      <td>...</td>\n",
       "      <td>...</td>\n",
       "      <td>...</td>\n",
       "      <td>...</td>\n",
       "      <td>...</td>\n",
       "      <td>...</td>\n",
       "      <td>...</td>\n",
       "      <td>...</td>\n",
       "      <td>...</td>\n",
       "      <td>...</td>\n",
       "      <td>...</td>\n",
       "      <td>...</td>\n",
       "      <td>...</td>\n",
       "      <td>...</td>\n",
       "      <td>...</td>\n",
       "      <td>...</td>\n",
       "    </tr>\n",
       "    <tr>\n",
       "      <th>495</th>\n",
       "      <td>50957</td>\n",
       "      <td>649</td>\n",
       "      <td>50957</td>\n",
       "      <td>NYU</td>\n",
       "      <td>NYU_0050957</td>\n",
       "      <td>1</td>\n",
       "      <td>1</td>\n",
       "      <td>14.75</td>\n",
       "      <td>2</td>\n",
       "      <td>NaN</td>\n",
       "      <td>...</td>\n",
       "      <td>NaN</td>\n",
       "      <td>OK</td>\n",
       "      <td>NaN</td>\n",
       "      <td>OK</td>\n",
       "      <td>NaN</td>\n",
       "      <td>OK</td>\n",
       "      <td>NaN</td>\n",
       "      <td>OK</td>\n",
       "      <td>NaN</td>\n",
       "      <td>0</td>\n",
       "    </tr>\n",
       "    <tr>\n",
       "      <th>496</th>\n",
       "      <td>50958</td>\n",
       "      <td>650</td>\n",
       "      <td>50958</td>\n",
       "      <td>NYU</td>\n",
       "      <td>NYU_0050958</td>\n",
       "      <td>1</td>\n",
       "      <td>1</td>\n",
       "      <td>10.23</td>\n",
       "      <td>2</td>\n",
       "      <td>NaN</td>\n",
       "      <td>...</td>\n",
       "      <td>NaN</td>\n",
       "      <td>OK</td>\n",
       "      <td>NaN</td>\n",
       "      <td>OK</td>\n",
       "      <td>NaN</td>\n",
       "      <td>OK</td>\n",
       "      <td>NaN</td>\n",
       "      <td>OK</td>\n",
       "      <td>NaN</td>\n",
       "      <td>0</td>\n",
       "    </tr>\n",
       "    <tr>\n",
       "      <th>497</th>\n",
       "      <td>50959</td>\n",
       "      <td>651</td>\n",
       "      <td>50959</td>\n",
       "      <td>NYU</td>\n",
       "      <td>NYU_0050959</td>\n",
       "      <td>1</td>\n",
       "      <td>2</td>\n",
       "      <td>22.81</td>\n",
       "      <td>2</td>\n",
       "      <td>NaN</td>\n",
       "      <td>...</td>\n",
       "      <td>NaN</td>\n",
       "      <td>OK</td>\n",
       "      <td>NaN</td>\n",
       "      <td>OK</td>\n",
       "      <td>NaN</td>\n",
       "      <td>OK</td>\n",
       "      <td>NaN</td>\n",
       "      <td>OK</td>\n",
       "      <td>NaN</td>\n",
       "      <td>0</td>\n",
       "    </tr>\n",
       "    <tr>\n",
       "      <th>498</th>\n",
       "      <td>50960</td>\n",
       "      <td>652</td>\n",
       "      <td>50960</td>\n",
       "      <td>NYU</td>\n",
       "      <td>NYU_0050960</td>\n",
       "      <td>1</td>\n",
       "      <td>2</td>\n",
       "      <td>38.76</td>\n",
       "      <td>2</td>\n",
       "      <td>NaN</td>\n",
       "      <td>...</td>\n",
       "      <td>NaN</td>\n",
       "      <td>OK</td>\n",
       "      <td>NaN</td>\n",
       "      <td>OK</td>\n",
       "      <td>NaN</td>\n",
       "      <td>OK</td>\n",
       "      <td>NaN</td>\n",
       "      <td>OK</td>\n",
       "      <td>NaN</td>\n",
       "      <td>0</td>\n",
       "    </tr>\n",
       "    <tr>\n",
       "      <th>499</th>\n",
       "      <td>50961</td>\n",
       "      <td>653</td>\n",
       "      <td>50961</td>\n",
       "      <td>NYU</td>\n",
       "      <td>NYU_0050961</td>\n",
       "      <td>1</td>\n",
       "      <td>2</td>\n",
       "      <td>25.02</td>\n",
       "      <td>2</td>\n",
       "      <td>NaN</td>\n",
       "      <td>...</td>\n",
       "      <td>NaN</td>\n",
       "      <td>OK</td>\n",
       "      <td>NaN</td>\n",
       "      <td>OK</td>\n",
       "      <td>NaN</td>\n",
       "      <td>OK</td>\n",
       "      <td>NaN</td>\n",
       "      <td>OK</td>\n",
       "      <td>NaN</td>\n",
       "      <td>0</td>\n",
       "    </tr>\n",
       "  </tbody>\n",
       "</table>\n",
       "<p>500 rows × 104 columns</p>\n",
       "</div>"
      ],
      "text/plain": [
       "     SUB_ID    X  subject SITE_ID       FILE_ID  DX_GROUP  DSM_IV_TR  \\\n",
       "0     50003    2    50003    PITT  Pitt_0050003         1          1   \n",
       "1     50004    3    50004    PITT  Pitt_0050004         1          1   \n",
       "2     50005    4    50005    PITT  Pitt_0050005         1          1   \n",
       "3     50006    5    50006    PITT  Pitt_0050006         1          1   \n",
       "4     50007    6    50007    PITT  Pitt_0050007         1          1   \n",
       "..      ...  ...      ...     ...           ...       ...        ...   \n",
       "495   50957  649    50957     NYU   NYU_0050957         1          1   \n",
       "496   50958  650    50958     NYU   NYU_0050958         1          1   \n",
       "497   50959  651    50959     NYU   NYU_0050959         1          2   \n",
       "498   50960  652    50960     NYU   NYU_0050960         1          2   \n",
       "499   50961  653    50961     NYU   NYU_0050961         1          2   \n",
       "\n",
       "     AGE_AT_SCAN  SEX HANDEDNESS_CATEGORY  ...  qc_notes_rater_1  \\\n",
       "0          24.45    1                   R  ...               NaN   \n",
       "1          19.09    1                   R  ...               NaN   \n",
       "2          13.73    2                   R  ...               NaN   \n",
       "3          13.37    1                   L  ...               NaN   \n",
       "4          17.78    1                   R  ...               NaN   \n",
       "..           ...  ...                 ...  ...               ...   \n",
       "495        14.75    2                 NaN  ...               NaN   \n",
       "496        10.23    2                 NaN  ...               NaN   \n",
       "497        22.81    2                 NaN  ...               NaN   \n",
       "498        38.76    2                 NaN  ...               NaN   \n",
       "499        25.02    2                 NaN  ...               NaN   \n",
       "\n",
       "     qc_anat_rater_2  qc_anat_notes_rater_2  qc_func_rater_2  \\\n",
       "0                 OK                    NaN               OK   \n",
       "1                 OK                    NaN               OK   \n",
       "2                 OK                    NaN            maybe   \n",
       "3                 OK                    NaN            maybe   \n",
       "4                 OK                    NaN            maybe   \n",
       "..               ...                    ...              ...   \n",
       "495               OK                    NaN               OK   \n",
       "496               OK                    NaN               OK   \n",
       "497               OK                    NaN               OK   \n",
       "498               OK                    NaN               OK   \n",
       "499               OK                    NaN               OK   \n",
       "\n",
       "          qc_func_notes_rater_2 qc_anat_rater_3 qc_anat_notes_rater_3  \\\n",
       "0                           NaN              OK                   NaN   \n",
       "1                           NaN              OK                   NaN   \n",
       "2        ic-parietal-cerebellum              OK                   NaN   \n",
       "3            ic-parietal slight              OK                   NaN   \n",
       "4    ic-cerebellum_temporal_lob              OK                   NaN   \n",
       "..                          ...             ...                   ...   \n",
       "495                         NaN              OK                   NaN   \n",
       "496                         NaN              OK                   NaN   \n",
       "497                         NaN              OK                   NaN   \n",
       "498                         NaN              OK                   NaN   \n",
       "499                         NaN              OK                   NaN   \n",
       "\n",
       "     qc_func_rater_3  qc_func_notes_rater_3  SUB_IN_SMP  \n",
       "0                 OK                    NaN           1  \n",
       "1                 OK                    NaN           1  \n",
       "2                 OK                    NaN           0  \n",
       "3                 OK                    NaN           1  \n",
       "4                 OK                    NaN           1  \n",
       "..               ...                    ...         ...  \n",
       "495               OK                    NaN           0  \n",
       "496               OK                    NaN           0  \n",
       "497               OK                    NaN           0  \n",
       "498               OK                    NaN           0  \n",
       "499               OK                    NaN           0  \n",
       "\n",
       "[500 rows x 104 columns]"
      ]
     },
     "execution_count": 3,
     "metadata": {},
     "output_type": "execute_result"
    }
   ],
   "source": [
    "pheno = pd.DataFrame(dataset_abide['phenotypic'])\n",
    "pheno.drop(columns = ['i', 'Unnamed: 0'])"
   ]
  },
  {
   "cell_type": "code",
   "execution_count": 4,
   "id": "60cc9e59-5011-428a-9151-95df886c1366",
   "metadata": {},
   "outputs": [],
   "source": [
    "y_diagnostic = pheno['DX_GROUP']"
   ]
  },
  {
   "cell_type": "code",
   "execution_count": 5,
   "id": "4a7e024e-4262-479b-916d-c86dabdfed7c",
   "metadata": {},
   "outputs": [
    {
     "data": {
      "text/plain": [
       "DX_GROUP\n",
       "2    258\n",
       "1    242\n",
       "Name: count, dtype: int64"
      ]
     },
     "execution_count": 5,
     "metadata": {},
     "output_type": "execute_result"
    }
   ],
   "source": [
    "y_diagnostic.value_counts()"
   ]
  },
  {
   "cell_type": "markdown",
   "id": "72ea9de1-64b5-45fa-92f1-e802ad61d055",
   "metadata": {
    "jp-MarkdownHeadingCollapsed": true
   },
   "source": [
    "#### Visualisation données et phénotype"
   ]
  },
  {
   "cell_type": "code",
   "execution_count": 11,
   "id": "fd6ebdf9-c1c5-4360-ac93-8d67cc225b17",
   "metadata": {},
   "outputs": [
    {
     "data": {
      "text/plain": [
       "<Axes: xlabel='SITE_ID', ylabel='count'>"
      ]
     },
     "execution_count": 11,
     "metadata": {},
     "output_type": "execute_result"
    },
    {
     "data": {
      "image/png": "[encoded data removed]",
      "text/plain": [
       "<Figure size 640x480 with 1 Axes>"
      ]
     },
     "metadata": {},
     "output_type": "display_data"
    }
   ],
   "source": [
    "df_site = pd.DataFrame(pheno['SITE_ID'].value_counts()).reset_index()\n",
    "df_site.columns = ['SITE_ID', 'count']\n",
    "\n",
    "sns.barplot(x = 'SITE_ID',\n",
    "            y = 'count',\n",
    "            data = df_site,\n",
    "           color = 'blue')"
   ]
  },
  {
   "cell_type": "code",
   "execution_count": 13,
   "id": "0edfc0b5-1751-4743-a840-c78954173748",
   "metadata": {},
   "outputs": [
    {
     "data": {
      "text/plain": [
       "<Axes: xlabel='DX_GROUP', ylabel='AGE_AT_SCAN'>"
      ]
     },
     "execution_count": 13,
     "metadata": {},
     "output_type": "execute_result"
    },
    {
     "data": {
      "image/png": "[encoded data removed]",
      "text/plain": [
       "<Figure size 640x480 with 1 Axes>"
      ]
     },
     "metadata": {},
     "output_type": "display_data"
    }
   ],
   "source": [
    "sns.violinplot(data=pheno, x='DX_GROUP', y='AGE_AT_SCAN', hue=\"SEX\", split=True, inner=\"quart\")"
   ]
  },
  {
   "cell_type": "markdown",
   "id": "dded594e-9a3a-45af-9917-39f35c6ad982",
   "metadata": {
    "jp-MarkdownHeadingCollapsed": true
   },
   "source": [
    "#### Application des atlas aux données : HO, Destrieux, Basc197"
   ]
  },
  {
   "cell_type": "markdown",
   "id": "0421a6d4-cca4-45ed-af86-35dd11383217",
   "metadata": {
    "jp-MarkdownHeadingCollapsed": true
   },
   "source": [
    "##### Atlas Harvard Oxford"
   ]
  },
  {
   "cell_type": "code",
   "execution_count": 15,
   "id": "ce71bb85-20a4-40a3-b442-cc91d88687db",
   "metadata": {},
   "outputs": [],
   "source": [
    "# Atlas HO\n",
    "atlas_ho_dataset = nilearn.datasets.fetch_atlas_harvard_oxford('cort-maxprob-thr25-2mm')\n",
    "atlas_ho_filepath = atlas_ho_dataset.maps\n",
    "labels_ho = atlas_ho_dataset.labels"
   ]
  },
  {
   "cell_type": "code",
   "execution_count": 17,
   "id": "f63281b6-73c2-4472-b03b-5326a5e01730",
   "metadata": {},
   "outputs": [
    {
     "data": {
      "text/plain": [
       "<nilearn.plotting.displays._slicers.OrthoSlicer at 0x266d0df1f10>"
      ]
     },
     "execution_count": 17,
     "metadata": {},
     "output_type": "execute_result"
    },
    {
     "data": {
      "image/png": "[encoded data removed]",
      "text/plain": [
       "<Figure size 660x350 with 4 Axes>"
      ]
     },
     "metadata": {},
     "output_type": "display_data"
    }
   ],
   "source": [
    "plotting.plot_roi(atlas_ho_dataset.filename, draw_cross=True)"
   ]
  },
  {
   "cell_type": "code",
   "execution_count": 18,
   "id": "b82f347b-8c6b-4b64-bd69-dcb937436610",
   "metadata": {
    "scrolled": true
   },
   "outputs": [
    {
     "data": {
      "text/plain": [
       "\"\\n# initialize masker \\nmasker_ho = NiftiLabelsMasker(labels_img=atlas_ho_dataset.filename, standardize=True, \\n                           memory='nilearn_cache', verbose=0)\\n\\n# initialize correlation measure, set to vectorize\\ncorrelation_measure_ho = ConnectivityMeasure(kind='correlation', vectorize=True,\\n                                         discard_diagonal=True)\\n\\nall_features_corr_ho = []\\n\\nfor i,subj in enumerate(fmri_filenames):\\n    # extract the timeseries from the ROIs in the atlas\\n    time_series = masker_ho.fit_transform(subj)\\n    # create a region x region correlation matrix\\n    correlation_matrix_ho = correlation_measure_ho.fit_transform([time_series])[0]\\n    # add to our container\\n    all_features_corr_ho.append(correlation_matrix_ho)\\n    # keep track of status\\n    print('finished %s of %s'%(i+1,len(fmri_filenames)))\\n    \""
      ]
     },
     "execution_count": 18,
     "metadata": {},
     "output_type": "execute_result"
    }
   ],
   "source": [
    "# Application de l'atlas HO aux données\n",
    "\n",
    "\"\"\"\n",
    "# initialize masker \n",
    "masker_ho = NiftiLabelsMasker(labels_img=atlas_ho_dataset.filename, standardize=True, \n",
    "                           memory='nilearn_cache', verbose=0)\n",
    "\n",
    "# initialize correlation measure, set to vectorize\n",
    "correlation_measure_ho = ConnectivityMeasure(kind='correlation', vectorize=True,\n",
    "                                         discard_diagonal=True)\n",
    "\n",
    "all_features_corr_ho = []\n",
    "\n",
    "for i,subj in enumerate(fmri_filenames):\n",
    "    # extract the timeseries from the ROIs in the atlas\n",
    "    time_series = masker_ho.fit_transform(subj)\n",
    "    # create a region x region correlation matrix\n",
    "    correlation_matrix_ho = correlation_measure_ho.fit_transform([time_series])[0]\n",
    "    # add to our container\n",
    "    all_features_corr_ho.append(correlation_matrix_ho)\n",
    "    # keep track of status\n",
    "    print('finished %s of %s'%(i+1,len(fmri_filenames)))\n",
    "    \"\"\""
   ]
  },
  {
   "cell_type": "code",
   "execution_count": 21,
   "id": "c3e19725-0bb6-43fa-b3cd-94fd28e7a136",
   "metadata": {},
   "outputs": [],
   "source": [
    "#np.savez_compressed('correlation_ho_500patients',a = all_features_corr_ho)"
   ]
  },
  {
   "cell_type": "code",
   "execution_count": 23,
   "id": "62cc81ca-84bf-444b-8807-9021fccc1c3c",
   "metadata": {},
   "outputs": [],
   "source": [
    "feat_file = 'correlation_ho_500patients.npz'\n",
    "X_features_corr_ho = np.load(feat_file)['a']"
   ]
  },
  {
   "cell_type": "markdown",
   "id": "db265cd4-f41d-4ebe-9e42-0a0fa0c5fbe4",
   "metadata": {
    "jp-MarkdownHeadingCollapsed": true
   },
   "source": [
    "##### Atlas Destrieux"
   ]
  },
  {
   "cell_type": "code",
   "execution_count": 25,
   "id": "e3f98ec3-bf6d-4bd3-84d8-1c7e367e2887",
   "metadata": {},
   "outputs": [],
   "source": [
    "# Atlas Destrieux\n",
    "\n",
    "atlas_destrieux_dataset = nilearn.datasets.fetch_atlas_destrieux_2009()\n",
    "atlas_destrieux_filepath = atlas_destrieux_dataset.maps\n",
    "labels_destrieux = atlas_destrieux_dataset.labels"
   ]
  },
  {
   "cell_type": "code",
   "execution_count": 27,
   "id": "c0bbe342-eb34-4963-886f-70abed373bad",
   "metadata": {},
   "outputs": [
    {
     "data": {
      "text/plain": [
       "<nilearn.plotting.displays._slicers.OrthoSlicer at 0x266c9939dd0>"
      ]
     },
     "execution_count": 27,
     "metadata": {},
     "output_type": "execute_result"
    },
    {
     "data": {
      "image/png": "[encoded data removed]",
      "text/plain": [
       "<Figure size 660x350 with 4 Axes>"
      ]
     },
     "metadata": {},
     "output_type": "display_data"
    }
   ],
   "source": [
    "plotting.plot_roi(atlas_destrieux_dataset.maps, draw_cross=True)"
   ]
  },
  {
   "cell_type": "code",
   "execution_count": 29,
   "id": "7d5c862c-850b-4b6f-9d03-76aee382d150",
   "metadata": {
    "scrolled": true
   },
   "outputs": [
    {
     "data": {
      "text/plain": [
       "\"\\n# initialize masker\\nmasker_destrieux = NiftiLabelsMasker(labels_img=atlas_destrieux_dataset.maps, standardize=True, \\n                           memory='nilearn_cache', verbose=0)\\n                           \\n# initialize correlation measure, set to vectorize\\ncorrelation_measure_destrieux = ConnectivityMeasure(kind='correlation', vectorize=True,\\n                                         discard_diagonal=True)\\n\\nall_features_corr_destrieux = []\\n\\nfor i,subj in enumerate(fmri_filenames):\\n    # extract the timeseries from the ROIs in the atlas\\n    time_series = masker_destrieux.fit_transform(subj)\\n    # create a region x region correlation matrix\\n    correlation_matrix_destrieux = correlation_measure_destrieux.fit_transform([time_series])[0]\\n    # add to our container\\n    all_features_corr_destrieux.append(correlation_matrix_destrieux)\\n    # keep track of status\\n    print('finished %s of %s'%(i+1,len(fmri_filenames)))\""
      ]
     },
     "execution_count": 29,
     "metadata": {},
     "output_type": "execute_result"
    }
   ],
   "source": [
    "# Application de l'atlas Destrieux aux données\n",
    "\n",
    "\"\"\"\n",
    "# initialize masker\n",
    "masker_destrieux = NiftiLabelsMasker(labels_img=atlas_destrieux_dataset.maps, standardize=True, \n",
    "                           memory='nilearn_cache', verbose=0)\n",
    "                           \n",
    "# initialize correlation measure, set to vectorize\n",
    "correlation_measure_destrieux = ConnectivityMeasure(kind='correlation', vectorize=True,\n",
    "                                         discard_diagonal=True)\n",
    "\n",
    "all_features_corr_destrieux = []\n",
    "\n",
    "for i,subj in enumerate(fmri_filenames):\n",
    "    # extract the timeseries from the ROIs in the atlas\n",
    "    time_series = masker_destrieux.fit_transform(subj)\n",
    "    # create a region x region correlation matrix\n",
    "    correlation_matrix_destrieux = correlation_measure_destrieux.fit_transform([time_series])[0]\n",
    "    # add to our container\n",
    "    all_features_corr_destrieux.append(correlation_matrix_destrieux)\n",
    "    # keep track of status\n",
    "    print('finished %s of %s'%(i+1,len(fmri_filenames)))\"\"\""
   ]
  },
  {
   "cell_type": "code",
   "execution_count": 31,
   "id": "2ac63134-9469-4a1e-a97e-27a93fcd551e",
   "metadata": {},
   "outputs": [],
   "source": [
    "#np.savez_compressed('correlation_destrieux_500patients',a = all_features_corr_destrieux)"
   ]
  },
  {
   "cell_type": "code",
   "execution_count": 33,
   "id": "aed91e5a-2047-49c9-a658-220d1f8d7fb2",
   "metadata": {},
   "outputs": [],
   "source": [
    "feat_file = 'correlation_destrieux_500patients.npz'\n",
    "X_features_corr_destrieux = np.load(feat_file)['a']"
   ]
  },
  {
   "cell_type": "markdown",
   "id": "6f3e64b0-7e58-4e75-8776-b4f138bc9cd7",
   "metadata": {
    "jp-MarkdownHeadingCollapsed": true
   },
   "source": [
    "##### Atlas Basc197"
   ]
  },
  {
   "cell_type": "code",
   "execution_count": 168,
   "id": "9dced635-c399-40f2-8a53-476aefe6536f",
   "metadata": {},
   "outputs": [],
   "source": [
    "# Atlas BASC197\n",
    "\n",
    "atlas_basc_dataset = nilearn.datasets.fetch_atlas_basc_multiscale_2015(version='sym')\n",
    "atlas_basc197_dataset = atlas_basc_dataset.scale197"
   ]
  },
  {
   "cell_type": "code",
   "execution_count": 170,
   "id": "c174bf6b-8255-4a7f-8426-58bcb7493f4c",
   "metadata": {},
   "outputs": [
    {
     "data": {
      "text/plain": [
       "<nilearn.plotting.displays._slicers.OrthoSlicer at 0x266e0d27310>"
      ]
     },
     "execution_count": 170,
     "metadata": {},
     "output_type": "execute_result"
    },
    {
     "data": {
      "image/png": "[encoded data removed]",
      "text/plain": [
       "<Figure size 660x350 with 4 Axes>"
      ]
     },
     "metadata": {},
     "output_type": "display_data"
    }
   ],
   "source": [
    "plotting.plot_roi(atlas_basc197_dataset, draw_cross=True)"
   ]
  },
  {
   "cell_type": "code",
   "execution_count": 172,
   "id": "f0b51b83-3992-4650-922a-a77ecd30111f",
   "metadata": {
    "scrolled": true
   },
   "outputs": [
    {
     "name": "stdout",
     "output_type": "stream",
     "text": [
      "finished 1 of 500\n",
      "finished 2 of 500\n",
      "finished 3 of 500\n",
      "finished 4 of 500\n",
      "finished 5 of 500\n",
      "finished 6 of 500\n",
      "finished 7 of 500\n",
      "finished 8 of 500\n",
      "finished 9 of 500\n",
      "finished 10 of 500\n",
      "finished 11 of 500\n",
      "finished 12 of 500\n",
      "finished 13 of 500\n",
      "finished 14 of 500\n",
      "finished 15 of 500\n",
      "finished 16 of 500\n",
      "finished 17 of 500\n",
      "finished 18 of 500\n",
      "finished 19 of 500\n",
      "finished 20 of 500\n",
      "finished 21 of 500\n",
      "finished 22 of 500\n",
      "finished 23 of 500\n",
      "finished 24 of 500\n",
      "finished 25 of 500\n",
      "finished 26 of 500\n",
      "finished 27 of 500\n",
      "finished 28 of 500\n",
      "finished 29 of 500\n",
      "finished 30 of 500\n",
      "finished 31 of 500\n",
      "finished 32 of 500\n",
      "finished 33 of 500\n",
      "finished 34 of 500\n",
      "finished 35 of 500\n",
      "finished 36 of 500\n",
      "finished 37 of 500\n",
      "finished 38 of 500\n",
      "finished 39 of 500\n",
      "finished 40 of 500\n",
      "finished 41 of 500\n",
      "finished 42 of 500\n",
      "finished 43 of 500\n",
      "finished 44 of 500\n",
      "finished 45 of 500\n",
      "finished 46 of 500\n",
      "finished 47 of 500\n",
      "finished 48 of 500\n",
      "finished 49 of 500\n",
      "finished 50 of 500\n",
      "finished 51 of 500\n",
      "finished 52 of 500\n",
      "finished 53 of 500\n",
      "finished 54 of 500\n",
      "finished 55 of 500\n",
      "finished 56 of 500\n",
      "finished 57 of 500\n",
      "finished 58 of 500\n",
      "finished 59 of 500\n",
      "finished 60 of 500\n",
      "finished 61 of 500\n",
      "finished 62 of 500\n",
      "finished 63 of 500\n",
      "finished 64 of 500\n",
      "finished 65 of 500\n",
      "finished 66 of 500\n",
      "finished 67 of 500\n",
      "finished 68 of 500\n",
      "finished 69 of 500\n",
      "finished 70 of 500\n",
      "finished 71 of 500\n",
      "finished 72 of 500\n",
      "finished 73 of 500\n",
      "finished 74 of 500\n",
      "finished 75 of 500\n",
      "finished 76 of 500\n",
      "finished 77 of 500\n",
      "finished 78 of 500\n",
      "finished 79 of 500\n",
      "finished 80 of 500\n",
      "finished 81 of 500\n",
      "finished 82 of 500\n",
      "finished 83 of 500\n",
      "finished 84 of 500\n",
      "finished 85 of 500\n",
      "finished 86 of 500\n",
      "finished 87 of 500\n",
      "finished 88 of 500\n",
      "finished 89 of 500\n",
      "finished 90 of 500\n",
      "finished 91 of 500\n",
      "finished 92 of 500\n",
      "finished 93 of 500\n",
      "finished 94 of 500\n",
      "finished 95 of 500\n",
      "finished 96 of 500\n",
      "finished 97 of 500\n",
      "finished 98 of 500\n",
      "finished 99 of 500\n",
      "finished 100 of 500\n",
      "finished 101 of 500\n",
      "finished 102 of 500\n",
      "finished 103 of 500\n",
      "finished 104 of 500\n",
      "finished 105 of 500\n",
      "finished 106 of 500\n",
      "finished 107 of 500\n",
      "finished 108 of 500\n",
      "finished 109 of 500\n",
      "finished 110 of 500\n",
      "finished 111 of 500\n",
      "finished 112 of 500\n",
      "finished 113 of 500\n",
      "finished 114 of 500\n",
      "finished 115 of 500\n",
      "finished 116 of 500\n",
      "finished 117 of 500\n",
      "finished 118 of 500\n",
      "finished 119 of 500\n",
      "finished 120 of 500\n",
      "finished 121 of 500\n",
      "finished 122 of 500\n",
      "finished 123 of 500\n",
      "finished 124 of 500\n",
      "finished 125 of 500\n",
      "finished 126 of 500\n",
      "finished 127 of 500\n",
      "finished 128 of 500\n",
      "finished 129 of 500\n",
      "finished 130 of 500\n",
      "finished 131 of 500\n",
      "finished 132 of 500\n",
      "finished 133 of 500\n",
      "finished 134 of 500\n",
      "finished 135 of 500\n",
      "finished 136 of 500\n",
      "finished 137 of 500\n",
      "finished 138 of 500\n",
      "finished 139 of 500\n",
      "finished 140 of 500\n",
      "finished 141 of 500\n",
      "finished 142 of 500\n",
      "finished 143 of 500\n",
      "finished 144 of 500\n",
      "finished 145 of 500\n",
      "finished 146 of 500\n",
      "finished 147 of 500\n",
      "finished 148 of 500\n",
      "finished 149 of 500\n",
      "finished 150 of 500\n",
      "finished 151 of 500\n",
      "finished 152 of 500\n",
      "finished 153 of 500\n",
      "finished 154 of 500\n",
      "finished 155 of 500\n",
      "finished 156 of 500\n",
      "finished 157 of 500\n",
      "finished 158 of 500\n",
      "finished 159 of 500\n",
      "finished 160 of 500\n",
      "finished 161 of 500\n",
      "finished 162 of 500\n",
      "finished 163 of 500\n",
      "finished 164 of 500\n",
      "finished 165 of 500\n",
      "finished 166 of 500\n",
      "finished 167 of 500\n",
      "finished 168 of 500\n",
      "finished 169 of 500\n",
      "finished 170 of 500\n",
      "finished 171 of 500\n",
      "finished 172 of 500\n",
      "finished 173 of 500\n",
      "finished 174 of 500\n",
      "finished 175 of 500\n",
      "finished 176 of 500\n",
      "finished 177 of 500\n",
      "finished 178 of 500\n",
      "finished 179 of 500\n",
      "finished 180 of 500\n",
      "finished 181 of 500\n",
      "finished 182 of 500\n",
      "finished 183 of 500\n",
      "finished 184 of 500\n",
      "finished 185 of 500\n",
      "finished 186 of 500\n",
      "finished 187 of 500\n",
      "finished 188 of 500\n",
      "finished 189 of 500\n",
      "finished 190 of 500\n",
      "finished 191 of 500\n",
      "finished 192 of 500\n",
      "finished 193 of 500\n",
      "finished 194 of 500\n",
      "finished 195 of 500\n",
      "finished 196 of 500\n",
      "finished 197 of 500\n",
      "finished 198 of 500\n",
      "finished 199 of 500\n",
      "finished 200 of 500\n",
      "finished 201 of 500\n",
      "finished 202 of 500\n",
      "finished 203 of 500\n",
      "finished 204 of 500\n",
      "finished 205 of 500\n",
      "finished 206 of 500\n",
      "finished 207 of 500\n",
      "finished 208 of 500\n",
      "finished 209 of 500\n",
      "finished 210 of 500\n",
      "finished 211 of 500\n",
      "finished 212 of 500\n",
      "finished 213 of 500\n",
      "finished 214 of 500\n",
      "finished 215 of 500\n",
      "finished 216 of 500\n",
      "finished 217 of 500\n",
      "finished 218 of 500\n",
      "finished 219 of 500\n",
      "finished 220 of 500\n",
      "finished 221 of 500\n",
      "finished 222 of 500\n",
      "finished 223 of 500\n",
      "finished 224 of 500\n",
      "finished 225 of 500\n",
      "finished 226 of 500\n",
      "finished 227 of 500\n",
      "finished 228 of 500\n",
      "finished 229 of 500\n",
      "finished 230 of 500\n",
      "finished 231 of 500\n",
      "finished 232 of 500\n",
      "finished 233 of 500\n",
      "finished 234 of 500\n",
      "finished 235 of 500\n",
      "finished 236 of 500\n",
      "finished 237 of 500\n",
      "finished 238 of 500\n",
      "finished 239 of 500\n",
      "finished 240 of 500\n",
      "finished 241 of 500\n",
      "finished 242 of 500\n",
      "finished 243 of 500\n",
      "finished 244 of 500\n",
      "finished 245 of 500\n",
      "finished 246 of 500\n",
      "finished 247 of 500\n",
      "finished 248 of 500\n",
      "finished 249 of 500\n",
      "finished 250 of 500\n",
      "finished 251 of 500\n",
      "finished 252 of 500\n",
      "finished 253 of 500\n",
      "finished 254 of 500\n",
      "finished 255 of 500\n",
      "finished 256 of 500\n",
      "finished 257 of 500\n",
      "finished 258 of 500\n",
      "finished 259 of 500\n",
      "finished 260 of 500\n",
      "finished 261 of 500\n",
      "finished 262 of 500\n",
      "finished 263 of 500\n",
      "finished 264 of 500\n",
      "finished 265 of 500\n",
      "finished 266 of 500\n",
      "finished 267 of 500\n",
      "finished 268 of 500\n",
      "finished 269 of 500\n",
      "finished 270 of 500\n",
      "finished 271 of 500\n",
      "finished 272 of 500\n",
      "finished 273 of 500\n",
      "finished 274 of 500\n",
      "finished 275 of 500\n",
      "finished 276 of 500\n",
      "finished 277 of 500\n",
      "finished 278 of 500\n",
      "finished 279 of 500\n",
      "finished 280 of 500\n",
      "finished 281 of 500\n",
      "finished 282 of 500\n",
      "finished 283 of 500\n",
      "finished 284 of 500\n",
      "finished 285 of 500\n",
      "finished 286 of 500\n",
      "finished 287 of 500\n",
      "finished 288 of 500\n",
      "finished 289 of 500\n",
      "finished 290 of 500\n",
      "finished 291 of 500\n",
      "finished 292 of 500\n",
      "finished 293 of 500\n",
      "finished 294 of 500\n",
      "finished 295 of 500\n",
      "finished 296 of 500\n",
      "finished 297 of 500\n",
      "finished 298 of 500\n",
      "finished 299 of 500\n",
      "finished 300 of 500\n",
      "finished 301 of 500\n",
      "finished 302 of 500\n",
      "finished 303 of 500\n",
      "finished 304 of 500\n",
      "finished 305 of 500\n",
      "finished 306 of 500\n",
      "finished 307 of 500\n",
      "finished 308 of 500\n",
      "finished 309 of 500\n",
      "finished 310 of 500\n",
      "finished 311 of 500\n",
      "finished 312 of 500\n",
      "finished 313 of 500\n",
      "finished 314 of 500\n",
      "finished 315 of 500\n",
      "finished 316 of 500\n",
      "finished 317 of 500\n",
      "finished 318 of 500\n",
      "finished 319 of 500\n",
      "finished 320 of 500\n",
      "finished 321 of 500\n",
      "finished 322 of 500\n",
      "finished 323 of 500\n",
      "finished 324 of 500\n",
      "finished 325 of 500\n",
      "finished 326 of 500\n",
      "finished 327 of 500\n",
      "finished 328 of 500\n",
      "finished 329 of 500\n",
      "finished 330 of 500\n",
      "finished 331 of 500\n",
      "finished 332 of 500\n",
      "finished 333 of 500\n",
      "finished 334 of 500\n",
      "finished 335 of 500\n",
      "finished 336 of 500\n",
      "finished 337 of 500\n",
      "finished 338 of 500\n",
      "finished 339 of 500\n",
      "finished 340 of 500\n",
      "finished 341 of 500\n",
      "finished 342 of 500\n",
      "finished 343 of 500\n",
      "finished 344 of 500\n",
      "finished 345 of 500\n",
      "finished 346 of 500\n",
      "finished 347 of 500\n",
      "finished 348 of 500\n",
      "finished 349 of 500\n",
      "finished 350 of 500\n",
      "finished 351 of 500\n",
      "finished 352 of 500\n",
      "finished 353 of 500\n",
      "finished 354 of 500\n",
      "finished 355 of 500\n",
      "finished 356 of 500\n",
      "finished 357 of 500\n",
      "finished 358 of 500\n",
      "finished 359 of 500\n",
      "finished 360 of 500\n",
      "finished 361 of 500\n",
      "finished 362 of 500\n",
      "finished 363 of 500\n",
      "finished 364 of 500\n",
      "finished 365 of 500\n",
      "finished 366 of 500\n",
      "finished 367 of 500\n",
      "finished 368 of 500\n",
      "finished 369 of 500\n",
      "finished 370 of 500\n",
      "finished 371 of 500\n",
      "finished 372 of 500\n",
      "finished 373 of 500\n",
      "finished 374 of 500\n",
      "finished 375 of 500\n",
      "finished 376 of 500\n",
      "finished 377 of 500\n",
      "finished 378 of 500\n",
      "finished 379 of 500\n",
      "finished 380 of 500\n",
      "finished 381 of 500\n",
      "finished 382 of 500\n",
      "finished 383 of 500\n",
      "finished 384 of 500\n",
      "finished 385 of 500\n",
      "finished 386 of 500\n",
      "finished 387 of 500\n",
      "finished 388 of 500\n",
      "finished 389 of 500\n",
      "finished 390 of 500\n",
      "finished 391 of 500\n",
      "finished 392 of 500\n",
      "finished 393 of 500\n",
      "finished 394 of 500\n",
      "finished 395 of 500\n",
      "finished 396 of 500\n",
      "finished 397 of 500\n",
      "finished 398 of 500\n",
      "finished 399 of 500\n",
      "finished 400 of 500\n",
      "finished 401 of 500\n",
      "finished 402 of 500\n",
      "finished 403 of 500\n",
      "finished 404 of 500\n",
      "finished 405 of 500\n",
      "finished 406 of 500\n",
      "finished 407 of 500\n",
      "finished 408 of 500\n",
      "finished 409 of 500\n",
      "finished 410 of 500\n",
      "finished 411 of 500\n",
      "finished 412 of 500\n",
      "finished 413 of 500\n",
      "finished 414 of 500\n",
      "finished 415 of 500\n",
      "finished 416 of 500\n",
      "finished 417 of 500\n",
      "finished 418 of 500\n",
      "finished 419 of 500\n",
      "finished 420 of 500\n",
      "finished 421 of 500\n",
      "finished 422 of 500\n",
      "finished 423 of 500\n",
      "finished 424 of 500\n",
      "finished 425 of 500\n",
      "finished 426 of 500\n",
      "finished 427 of 500\n",
      "finished 428 of 500\n",
      "finished 429 of 500\n",
      "finished 430 of 500\n",
      "finished 431 of 500\n",
      "finished 432 of 500\n",
      "finished 433 of 500\n",
      "finished 434 of 500\n",
      "finished 435 of 500\n",
      "finished 436 of 500\n",
      "finished 437 of 500\n",
      "finished 438 of 500\n",
      "finished 439 of 500\n",
      "finished 440 of 500\n",
      "finished 441 of 500\n",
      "finished 442 of 500\n",
      "finished 443 of 500\n",
      "finished 444 of 500\n",
      "finished 445 of 500\n",
      "finished 446 of 500\n",
      "finished 447 of 500\n",
      "finished 448 of 500\n",
      "finished 449 of 500\n",
      "finished 450 of 500\n",
      "finished 451 of 500\n",
      "finished 452 of 500\n",
      "finished 453 of 500\n",
      "finished 454 of 500\n",
      "finished 455 of 500\n",
      "finished 456 of 500\n",
      "finished 457 of 500\n",
      "finished 458 of 500\n",
      "finished 459 of 500\n",
      "finished 460 of 500\n",
      "finished 461 of 500\n",
      "finished 462 of 500\n",
      "finished 463 of 500\n",
      "finished 464 of 500\n",
      "finished 465 of 500\n",
      "finished 466 of 500\n",
      "finished 467 of 500\n",
      "finished 468 of 500\n",
      "finished 469 of 500\n",
      "finished 470 of 500\n",
      "finished 471 of 500\n",
      "finished 472 of 500\n",
      "finished 473 of 500\n",
      "finished 474 of 500\n",
      "finished 475 of 500\n",
      "finished 476 of 500\n",
      "finished 477 of 500\n",
      "finished 478 of 500\n",
      "finished 479 of 500\n",
      "finished 480 of 500\n",
      "finished 481 of 500\n",
      "finished 482 of 500\n",
      "finished 483 of 500\n",
      "finished 484 of 500\n",
      "finished 485 of 500\n",
      "finished 486 of 500\n",
      "finished 487 of 500\n",
      "finished 488 of 500\n",
      "finished 489 of 500\n",
      "finished 490 of 500\n",
      "finished 491 of 500\n",
      "finished 492 of 500\n",
      "finished 493 of 500\n",
      "finished 494 of 500\n",
      "finished 495 of 500\n",
      "finished 496 of 500\n",
      "finished 497 of 500\n",
      "finished 498 of 500\n",
      "finished 499 of 500\n",
      "finished 500 of 500\n"
     ]
    }
   ],
   "source": [
    "# Application de l'atlas BASC197 aux données\n",
    "\"\"\"\n",
    "# initialize masker - à tester\n",
    "masker_basc197 = NiftiLabelsMasker(labels_img=atlas_basc197_dataset, standardize=True, \n",
    "                           memory='nilearn_cache', verbose=0)\n",
    "\n",
    "# initialize correlation measure, set to vectorize\n",
    "correlation_measure_basc197 = ConnectivityMeasure(kind='correlation', vectorize=True,\n",
    "                                         discard_diagonal=True)\n",
    "\n",
    "all_features_corr_basc197 = []\n",
    "\n",
    "for i,subj in enumerate(fmri_filenames):\n",
    "    # extract the timeseries from the ROIs in the atlas\n",
    "    time_series = masker_basc197.fit_transform(subj)\n",
    "    # create a region x region correlation matrix\n",
    "    correlation_matrix_basc197 = correlation_measure_basc197.fit_transform([time_series])[0]\n",
    "    # add to our container\n",
    "    all_features_corr_basc197.append(correlation_matrix_basc197)\n",
    "    # keep track of status\n",
    "    print('finished %s of %s'%(i+1,len(fmri_filenames)))\"\"\""
   ]
  },
  {
   "cell_type": "code",
   "execution_count": 174,
   "id": "ef1574d2-fdae-4d00-811a-5843b37441e6",
   "metadata": {},
   "outputs": [],
   "source": [
    "np.savez_compressed('correlation_basc197_500patients',a = all_features_corr_basc197)"
   ]
  },
  {
   "cell_type": "code",
   "execution_count": 176,
   "id": "6103eefb-1363-46ff-a2f8-79c61c0d4fe0",
   "metadata": {},
   "outputs": [],
   "source": [
    "feat_file = 'correlation_basc197_500patients.npz'\n",
    "X_features_corr_basc197 = np.load(feat_file)['a']"
   ]
  },
  {
   "cell_type": "markdown",
   "id": "8dc48eb6-54b5-4a0b-9d6b-939fc5cd4ce8",
   "metadata": {
    "jp-MarkdownHeadingCollapsed": true
   },
   "source": [
    "#### Premier test machine learning : Corrélation - HO - KNN sur 500 sujets"
   ]
  },
  {
   "cell_type": "code",
   "execution_count": 37,
   "id": "55a76923-3dae-40a7-8174-14eb3417931e",
   "metadata": {},
   "outputs": [
    {
     "name": "stdout",
     "output_type": "stream",
     "text": [
      "training: 375 testing: 125\n",
      "Train DX_GROUP\n",
      "2    194\n",
      "1    181\n",
      "Name: count, dtype: int64\n",
      "Test DX_GROUP\n",
      "2    64\n",
      "1    61\n",
      "Name: count, dtype: int64\n"
     ]
    }
   ],
   "source": [
    "X_train, X_test, y_train, y_test = train_test_split(X_features_corr_ho,\n",
    "                                                    y_diagnostic,\n",
    "                                                    test_size = 0.25,\n",
    "                                                    shuffle = True,\n",
    "                                                    stratify = y_diagnostic,\n",
    "                                                    random_state = 123)\n",
    "\n",
    "# print the size of our training and test groups\n",
    "print('training:', len(X_train),\n",
    "     'testing:', len(X_test))\n",
    "\n",
    "print(\"Train\", y_train.value_counts())\n",
    "print(\"Test\", y_test.value_counts())"
   ]
  },
  {
   "cell_type": "code",
   "execution_count": 39,
   "id": "5b3be298-52cd-4054-9fc1-6d9bc051ce5f",
   "metadata": {},
   "outputs": [],
   "source": [
    "# KNN1 : Cross validation 10 folds\n",
    "\n",
    "knn1 = KNeighborsClassifier(n_neighbors=1)\n",
    "cv = StratifiedKFold(n_splits=10)\n",
    "y_pred_corr_ho_knn1 = cross_val_predict(knn1, X_train, y_train, cv = cv)"
   ]
  },
  {
   "cell_type": "code",
   "execution_count": 41,
   "id": "15f1da5f-9678-4928-8303-aac6c88bb2ad",
   "metadata": {},
   "outputs": [
    {
     "data": {
      "image/png": "[encoded data removed]",
      "text/plain": [
       "<Figure size 640x480 with 2 Axes>"
      ]
     },
     "metadata": {},
     "output_type": "display_data"
    }
   ],
   "source": [
    "# Matrice de confusion\n",
    "\n",
    "conf_matrix_corr_ho_knn1 = confusion_matrix(y_train, y_pred_corr_ho_knn1)\n",
    "\n",
    "disp = ConfusionMatrixDisplay(conf_matrix_corr_ho_knn1, display_labels=[\"ASD\",\"TD\"])\n",
    "disp.plot()\n",
    "plt.show()"
   ]
  },
  {
   "cell_type": "code",
   "execution_count": 43,
   "id": "6b432c7d-663e-488f-ad3f-07d966bed0ff",
   "metadata": {},
   "outputs": [
    {
     "name": "stdout",
     "output_type": "stream",
     "text": [
      "Accuracy :  0.536\n",
      "Sensitivité :  0.526\n",
      "Spécificité :  0.547\n",
      "Classification Report :\n",
      "               precision    recall  f1-score   support\n",
      "\n",
      "           1       0.52      0.55      0.53       181\n",
      "           2       0.55      0.53      0.54       194\n",
      "\n",
      "    accuracy                           0.54       375\n",
      "   macro avg       0.54      0.54      0.54       375\n",
      "weighted avg       0.54      0.54      0.54       375\n",
      "\n"
     ]
    }
   ],
   "source": [
    "#Affichage des métriques\n",
    "\n",
    "# Calcul de l'accuracy\n",
    "accuracy_corr_ho_knn1 = accuracy_score(y_train, y_pred_corr_ho_knn1)\n",
    "print(\"Accuracy : \", round(accuracy_corr_ho_knn1,3))\n",
    "\n",
    "# Calcul de la sensitivité\n",
    "sensitivity_corr_ho_knn1 = conf_matrix_corr_ho_knn1[1,1] / (conf_matrix_corr_ho_knn1[1,0] + conf_matrix_corr_ho_knn1[1,1])\n",
    "print(\"Sensitivité : \", round(sensitivity_corr_ho_knn1,3))\n",
    "\n",
    "# Calcul de la spécificité\n",
    "specificity_corr_ho_knn1 = conf_matrix_corr_ho_knn1[0,0] / (conf_matrix_corr_ho_knn1[0,0] + conf_matrix_corr_ho_knn1[0,1])\n",
    "print(\"Spécificité : \", round(specificity_corr_ho_knn1,3))\n",
    "\n",
    "# Calcul du classification report\n",
    "class_report_corr_ho_knn1 = classification_report(y_train, y_pred_corr_ho_knn1)\n",
    "print(\"Classification Report :\\n\", class_report_corr_ho_knn1)"
   ]
  },
  {
   "cell_type": "code",
   "execution_count": null,
   "id": "78e1246c-aefc-4763-b2ce-100e16257c1a",
   "metadata": {},
   "outputs": [],
   "source": [
    "#Affichage de courbe ROC"
   ]
  },
  {
   "cell_type": "markdown",
   "id": "a8be1b2d-8001-46ed-b16a-3799d2ccb2cd",
   "metadata": {
    "jp-MarkdownHeadingCollapsed": true
   },
   "source": [
    "#### ML : 500 sujets - Corrélation - Atlas HO - LR/GNB/kSVM/RF/GradientBoosting"
   ]
  },
  {
   "cell_type": "markdown",
   "id": "1439ec0b-45ad-4b90-83b1-170f117b8f89",
   "metadata": {
    "jp-MarkdownHeadingCollapsed": true
   },
   "source": [
    "##### Création base d'entraînement et base de test"
   ]
  },
  {
   "cell_type": "code",
   "execution_count": 234,
   "id": "41136032-4ba2-4472-bd73-bffa4d9a3c3d",
   "metadata": {},
   "outputs": [
    {
     "name": "stdout",
     "output_type": "stream",
     "text": [
      "training: 375 testing: 125\n",
      "Train : DX_GROUP\n",
      "2    194\n",
      "1    181\n",
      "Name: count, dtype: int64\n",
      "Test DX_GROUP\n",
      "2    64\n",
      "1    61\n",
      "Name: count, dtype: int64\n"
     ]
    }
   ],
   "source": [
    "X_train_ho, X_test_ho, y_train_ho, y_test_ho = train_test_split(X_features_corr_ho,\n",
    "                                                    y_diagnostic,\n",
    "                                                    test_size = 0.25,\n",
    "                                                    shuffle = True,\n",
    "                                                    stratify = y_diagnostic,\n",
    "                                                    random_state = 123)\n",
    "\n",
    "# print the size of our training and test groups\n",
    "print('training:', len(X_train_ho),\n",
    "     'testing:', len(X_test_ho))\n",
    "\n",
    "print(\"Train :\", y_train_ho.value_counts())\n",
    "print(\"Test\", y_test_ho.value_counts())"
   ]
  },
  {
   "cell_type": "markdown",
   "id": "bb2bc718-187b-4c28-92a0-c3eab2460ae2",
   "metadata": {
    "jp-MarkdownHeadingCollapsed": true
   },
   "source": [
    "##### Régression Logistique"
   ]
  },
  {
   "cell_type": "code",
   "execution_count": 236,
   "id": "9f5d812c-cb5d-4ad4-91b7-6e3a889e94fd",
   "metadata": {
    "scrolled": true
   },
   "outputs": [
    {
     "name": "stderr",
     "output_type": "stream",
     "text": [
      "C:\\Users\\elodi\\anaconda3\\Lib\\site-packages\\sklearn\\linear_model\\_logistic.py:458: ConvergenceWarning: lbfgs failed to converge (status=1):\n",
      "STOP: TOTAL NO. of ITERATIONS REACHED LIMIT.\n",
      "\n",
      "Increase the number of iterations (max_iter) or scale the data as shown in:\n",
      "    https://scikit-learn.org/stable/modules/preprocessing.html\n",
      "Please also refer to the documentation for alternative solver options:\n",
      "    https://scikit-learn.org/stable/modules/linear_model.html#logistic-regression\n",
      "  n_iter_i = _check_optimize_result(\n",
      "C:\\Users\\elodi\\anaconda3\\Lib\\site-packages\\sklearn\\linear_model\\_logistic.py:458: ConvergenceWarning: lbfgs failed to converge (status=1):\n",
      "STOP: TOTAL NO. of ITERATIONS REACHED LIMIT.\n",
      "\n",
      "Increase the number of iterations (max_iter) or scale the data as shown in:\n",
      "    https://scikit-learn.org/stable/modules/preprocessing.html\n",
      "Please also refer to the documentation for alternative solver options:\n",
      "    https://scikit-learn.org/stable/modules/linear_model.html#logistic-regression\n",
      "  n_iter_i = _check_optimize_result(\n",
      "C:\\Users\\elodi\\anaconda3\\Lib\\site-packages\\sklearn\\linear_model\\_logistic.py:458: ConvergenceWarning: lbfgs failed to converge (status=1):\n",
      "STOP: TOTAL NO. of ITERATIONS REACHED LIMIT.\n",
      "\n",
      "Increase the number of iterations (max_iter) or scale the data as shown in:\n",
      "    https://scikit-learn.org/stable/modules/preprocessing.html\n",
      "Please also refer to the documentation for alternative solver options:\n",
      "    https://scikit-learn.org/stable/modules/linear_model.html#logistic-regression\n",
      "  n_iter_i = _check_optimize_result(\n",
      "C:\\Users\\elodi\\anaconda3\\Lib\\site-packages\\sklearn\\linear_model\\_logistic.py:458: ConvergenceWarning: lbfgs failed to converge (status=1):\n",
      "STOP: TOTAL NO. of ITERATIONS REACHED LIMIT.\n",
      "\n",
      "Increase the number of iterations (max_iter) or scale the data as shown in:\n",
      "    https://scikit-learn.org/stable/modules/preprocessing.html\n",
      "Please also refer to the documentation for alternative solver options:\n",
      "    https://scikit-learn.org/stable/modules/linear_model.html#logistic-regression\n",
      "  n_iter_i = _check_optimize_result(\n",
      "C:\\Users\\elodi\\anaconda3\\Lib\\site-packages\\sklearn\\linear_model\\_logistic.py:458: ConvergenceWarning: lbfgs failed to converge (status=1):\n",
      "STOP: TOTAL NO. of ITERATIONS REACHED LIMIT.\n",
      "\n",
      "Increase the number of iterations (max_iter) or scale the data as shown in:\n",
      "    https://scikit-learn.org/stable/modules/preprocessing.html\n",
      "Please also refer to the documentation for alternative solver options:\n",
      "    https://scikit-learn.org/stable/modules/linear_model.html#logistic-regression\n",
      "  n_iter_i = _check_optimize_result(\n",
      "C:\\Users\\elodi\\anaconda3\\Lib\\site-packages\\sklearn\\linear_model\\_logistic.py:458: ConvergenceWarning: lbfgs failed to converge (status=1):\n",
      "STOP: TOTAL NO. of ITERATIONS REACHED LIMIT.\n",
      "\n",
      "Increase the number of iterations (max_iter) or scale the data as shown in:\n",
      "    https://scikit-learn.org/stable/modules/preprocessing.html\n",
      "Please also refer to the documentation for alternative solver options:\n",
      "    https://scikit-learn.org/stable/modules/linear_model.html#logistic-regression\n",
      "  n_iter_i = _check_optimize_result(\n",
      "C:\\Users\\elodi\\anaconda3\\Lib\\site-packages\\sklearn\\linear_model\\_logistic.py:458: ConvergenceWarning: lbfgs failed to converge (status=1):\n",
      "STOP: TOTAL NO. of ITERATIONS REACHED LIMIT.\n",
      "\n",
      "Increase the number of iterations (max_iter) or scale the data as shown in:\n",
      "    https://scikit-learn.org/stable/modules/preprocessing.html\n",
      "Please also refer to the documentation for alternative solver options:\n",
      "    https://scikit-learn.org/stable/modules/linear_model.html#logistic-regression\n",
      "  n_iter_i = _check_optimize_result(\n",
      "C:\\Users\\elodi\\anaconda3\\Lib\\site-packages\\sklearn\\linear_model\\_logistic.py:458: ConvergenceWarning: lbfgs failed to converge (status=1):\n",
      "STOP: TOTAL NO. of ITERATIONS REACHED LIMIT.\n",
      "\n",
      "Increase the number of iterations (max_iter) or scale the data as shown in:\n",
      "    https://scikit-learn.org/stable/modules/preprocessing.html\n",
      "Please also refer to the documentation for alternative solver options:\n",
      "    https://scikit-learn.org/stable/modules/linear_model.html#logistic-regression\n",
      "  n_iter_i = _check_optimize_result(\n",
      "C:\\Users\\elodi\\anaconda3\\Lib\\site-packages\\sklearn\\linear_model\\_logistic.py:458: ConvergenceWarning: lbfgs failed to converge (status=1):\n",
      "STOP: TOTAL NO. of ITERATIONS REACHED LIMIT.\n",
      "\n",
      "Increase the number of iterations (max_iter) or scale the data as shown in:\n",
      "    https://scikit-learn.org/stable/modules/preprocessing.html\n",
      "Please also refer to the documentation for alternative solver options:\n",
      "    https://scikit-learn.org/stable/modules/linear_model.html#logistic-regression\n",
      "  n_iter_i = _check_optimize_result(\n",
      "C:\\Users\\elodi\\anaconda3\\Lib\\site-packages\\sklearn\\linear_model\\_logistic.py:458: ConvergenceWarning: lbfgs failed to converge (status=1):\n",
      "STOP: TOTAL NO. of ITERATIONS REACHED LIMIT.\n",
      "\n",
      "Increase the number of iterations (max_iter) or scale the data as shown in:\n",
      "    https://scikit-learn.org/stable/modules/preprocessing.html\n",
      "Please also refer to the documentation for alternative solver options:\n",
      "    https://scikit-learn.org/stable/modules/linear_model.html#logistic-regression\n",
      "  n_iter_i = _check_optimize_result(\n",
      "C:\\Users\\elodi\\anaconda3\\Lib\\site-packages\\sklearn\\linear_model\\_logistic.py:458: ConvergenceWarning: lbfgs failed to converge (status=1):\n",
      "STOP: TOTAL NO. of ITERATIONS REACHED LIMIT.\n",
      "\n",
      "Increase the number of iterations (max_iter) or scale the data as shown in:\n",
      "    https://scikit-learn.org/stable/modules/preprocessing.html\n",
      "Please also refer to the documentation for alternative solver options:\n",
      "    https://scikit-learn.org/stable/modules/linear_model.html#logistic-regression\n",
      "  n_iter_i = _check_optimize_result(\n",
      "C:\\Users\\elodi\\anaconda3\\Lib\\site-packages\\sklearn\\linear_model\\_logistic.py:458: ConvergenceWarning: lbfgs failed to converge (status=1):\n",
      "STOP: TOTAL NO. of ITERATIONS REACHED LIMIT.\n",
      "\n",
      "Increase the number of iterations (max_iter) or scale the data as shown in:\n",
      "    https://scikit-learn.org/stable/modules/preprocessing.html\n",
      "Please also refer to the documentation for alternative solver options:\n",
      "    https://scikit-learn.org/stable/modules/linear_model.html#logistic-regression\n",
      "  n_iter_i = _check_optimize_result(\n",
      "C:\\Users\\elodi\\anaconda3\\Lib\\site-packages\\sklearn\\linear_model\\_logistic.py:458: ConvergenceWarning: lbfgs failed to converge (status=1):\n",
      "STOP: TOTAL NO. of ITERATIONS REACHED LIMIT.\n",
      "\n",
      "Increase the number of iterations (max_iter) or scale the data as shown in:\n",
      "    https://scikit-learn.org/stable/modules/preprocessing.html\n",
      "Please also refer to the documentation for alternative solver options:\n",
      "    https://scikit-learn.org/stable/modules/linear_model.html#logistic-regression\n",
      "  n_iter_i = _check_optimize_result(\n",
      "C:\\Users\\elodi\\anaconda3\\Lib\\site-packages\\sklearn\\linear_model\\_logistic.py:458: ConvergenceWarning: lbfgs failed to converge (status=1):\n",
      "STOP: TOTAL NO. of ITERATIONS REACHED LIMIT.\n",
      "\n",
      "Increase the number of iterations (max_iter) or scale the data as shown in:\n",
      "    https://scikit-learn.org/stable/modules/preprocessing.html\n",
      "Please also refer to the documentation for alternative solver options:\n",
      "    https://scikit-learn.org/stable/modules/linear_model.html#logistic-regression\n",
      "  n_iter_i = _check_optimize_result(\n",
      "C:\\Users\\elodi\\anaconda3\\Lib\\site-packages\\sklearn\\linear_model\\_logistic.py:458: ConvergenceWarning: lbfgs failed to converge (status=1):\n",
      "STOP: TOTAL NO. of ITERATIONS REACHED LIMIT.\n",
      "\n",
      "Increase the number of iterations (max_iter) or scale the data as shown in:\n",
      "    https://scikit-learn.org/stable/modules/preprocessing.html\n",
      "Please also refer to the documentation for alternative solver options:\n",
      "    https://scikit-learn.org/stable/modules/linear_model.html#logistic-regression\n",
      "  n_iter_i = _check_optimize_result(\n",
      "C:\\Users\\elodi\\anaconda3\\Lib\\site-packages\\sklearn\\linear_model\\_logistic.py:458: ConvergenceWarning: lbfgs failed to converge (status=1):\n",
      "STOP: TOTAL NO. of ITERATIONS REACHED LIMIT.\n",
      "\n",
      "Increase the number of iterations (max_iter) or scale the data as shown in:\n",
      "    https://scikit-learn.org/stable/modules/preprocessing.html\n",
      "Please also refer to the documentation for alternative solver options:\n",
      "    https://scikit-learn.org/stable/modules/linear_model.html#logistic-regression\n",
      "  n_iter_i = _check_optimize_result(\n",
      "C:\\Users\\elodi\\anaconda3\\Lib\\site-packages\\sklearn\\model_selection\\_validation.py:378: FitFailedWarning: \n",
      "25 fits failed out of a total of 50.\n",
      "The score on these train-test partitions for these parameters will be set to nan.\n",
      "If these failures are not expected, you can try to debug them by setting error_score='raise'.\n",
      "\n",
      "Below are more details about the failures:\n",
      "--------------------------------------------------------------------------------\n",
      "25 fits failed with the following error:\n",
      "Traceback (most recent call last):\n",
      "  File \"C:\\Users\\elodi\\anaconda3\\Lib\\site-packages\\sklearn\\model_selection\\_validation.py\", line 686, in _fit_and_score\n",
      "    estimator.fit(X_train, y_train, **fit_params)\n",
      "  File \"C:\\Users\\elodi\\anaconda3\\Lib\\site-packages\\sklearn\\linear_model\\_logistic.py\", line 1162, in fit\n",
      "    solver = _check_solver(self.solver, self.penalty, self.dual)\n",
      "             ^^^^^^^^^^^^^^^^^^^^^^^^^^^^^^^^^^^^^^^^^^^^^^^^^^^\n",
      "  File \"C:\\Users\\elodi\\anaconda3\\Lib\\site-packages\\sklearn\\linear_model\\_logistic.py\", line 54, in _check_solver\n",
      "    raise ValueError(\n",
      "ValueError: Solver lbfgs supports only 'l2' or 'none' penalties, got l1 penalty.\n",
      "\n",
      "  warnings.warn(some_fits_failed_message, FitFailedWarning)\n",
      "C:\\Users\\elodi\\anaconda3\\Lib\\site-packages\\sklearn\\model_selection\\_search.py:952: UserWarning: One or more of the test scores are non-finite: [       nan 0.62933333        nan 0.62133333        nan 0.62133333\n",
      "        nan 0.61066667        nan 0.61066667]\n",
      "  warnings.warn(\n"
     ]
    },
    {
     "name": "stdout",
     "output_type": "stream",
     "text": [
      "Best parameters for Logistic Regression: {'C': 0.01, 'penalty': 'l2'}\n"
     ]
    }
   ],
   "source": [
    "# Optimisation hyperparamètres\n",
    "\n",
    "param_grid_LR = {'C': [0.01, 0.1, 1, 10, 100],\n",
    "    'penalty': ['l1', 'l2']}\n",
    "\n",
    "LR_opt = LogisticRegression()\n",
    "grid_search_LR = GridSearchCV(LR_opt, param_grid_LR, cv=5, scoring='accuracy')\n",
    "grid_search_LR.fit(X_train_ho, y_train_ho)\n",
    "\n",
    "print(\"Best parameters for Logistic Regression:\", grid_search_LR.best_params_)"
   ]
  },
  {
   "cell_type": "code",
   "execution_count": 237,
   "id": "18111a97-7857-4348-b3c9-02e34ef3c9a9",
   "metadata": {
    "scrolled": true
   },
   "outputs": [],
   "source": [
    "#LogisticRegression(penalty='l2', *, dual=False, tol=0.0001, C=1.0, fit_intercept=True, intercept_scaling=1, class_weight=None, random_state=None, solver='lbfgs', max_iter=100, multi_class='deprecated', verbose=0, warm_start=False, n_jobs=None, l1_ratio=None)[source]\n",
    "\n",
    "#LR : Cross validation 10 folds\n",
    "\n",
    "LR_corr_ho = LogisticRegression(C = 0.01, penalty='l2')\n",
    "cv = StratifiedKFold(n_splits=10)\n",
    "y_pred_corr_ho_lr = cross_val_predict(LR_corr_ho, X_train_ho, y_train_ho, cv = cv)"
   ]
  },
  {
   "cell_type": "code",
   "execution_count": 238,
   "id": "d696a006-1345-45fd-8f04-415d076579ca",
   "metadata": {},
   "outputs": [
    {
     "data": {
      "image/png": "[encoded data removed]",
      "text/plain": [
       "<Figure size 640x480 with 2 Axes>"
      ]
     },
     "metadata": {},
     "output_type": "display_data"
    }
   ],
   "source": [
    "# Matrice de confusion\n",
    "\n",
    "conf_matrix_corr_ho_lr = confusion_matrix(y_train_ho, y_pred_corr_ho_lr)\n",
    "\n",
    "disp = ConfusionMatrixDisplay(conf_matrix_corr_ho_lr, display_labels=[\"ASD\",\"TD\"])\n",
    "disp.plot()\n",
    "plt.show()"
   ]
  },
  {
   "cell_type": "code",
   "execution_count": 239,
   "id": "ce767cdb-8637-4078-a18e-7512de1af4c2",
   "metadata": {},
   "outputs": [
    {
     "name": "stdout",
     "output_type": "stream",
     "text": [
      "Accuracy :  0.629\n",
      "Sensitivité :  0.727\n",
      "Spécificité :  0.525\n",
      "Classification Report :\n",
      "               precision    recall  f1-score   support\n",
      "\n",
      "           1       0.64      0.52      0.58       181\n",
      "           2       0.62      0.73      0.67       194\n",
      "\n",
      "    accuracy                           0.63       375\n",
      "   macro avg       0.63      0.63      0.62       375\n",
      "weighted avg       0.63      0.63      0.63       375\n",
      "\n"
     ]
    }
   ],
   "source": [
    "#Affichage des métriques\n",
    "\n",
    "# Calcul de l'accuracy\n",
    "accuracy_corr_ho_lr = accuracy_score(y_train_ho, y_pred_corr_ho_lr)\n",
    "print(\"Accuracy : \", round(accuracy_corr_ho_lr,3))\n",
    "\n",
    "# Calcul de la sensitivité\n",
    "sensitivity_corr_ho_lr = conf_matrix_corr_ho_lr[1,1] / (conf_matrix_corr_ho_lr[1,0] + conf_matrix_corr_ho_lr[1,1])\n",
    "print(\"Sensitivité : \", round(sensitivity_corr_ho_lr,3))\n",
    "\n",
    "# Calcul de la spécificité\n",
    "specificity_corr_ho_lr = conf_matrix_corr_ho_lr[0,0] / (conf_matrix_corr_ho_lr[0,0] + conf_matrix_corr_ho_lr[0,1])\n",
    "print(\"Spécificité : \", round(specificity_corr_ho_lr,3))\n",
    "\n",
    "# Calcul du classification report\n",
    "class_report_corr_ho_lr = classification_report(y_train_ho, y_pred_corr_ho_lr)\n",
    "print(\"Classification Report :\\n\", class_report_corr_ho_lr)"
   ]
  },
  {
   "cell_type": "markdown",
   "id": "a6fab1fe-77fb-42e1-9cec-8237460d53c7",
   "metadata": {
    "jp-MarkdownHeadingCollapsed": true
   },
   "source": [
    "##### Classfieur Gaussien Naïf de Bayes"
   ]
  },
  {
   "cell_type": "code",
   "execution_count": 244,
   "id": "af214f8b-8d46-455a-9faa-45f0dfb0191d",
   "metadata": {},
   "outputs": [],
   "source": [
    "#sklearn.naive_bayes.GaussianNB(*, priors=None, var_smoothing=1e-09)\n",
    "\n",
    "#GNB: Cross validation 10 folds\n",
    "\n",
    "GNB_corr_ho = GaussianNB()\n",
    "cv = StratifiedKFold(n_splits=10)\n",
    "y_pred_corr_ho_gnb = cross_val_predict(GNB_corr_ho, X_train_ho, y_train_ho, cv = cv)"
   ]
  },
  {
   "cell_type": "code",
   "execution_count": 246,
   "id": "6aa08034-0e13-46c4-8738-8bab796a2ccf",
   "metadata": {},
   "outputs": [
    {
     "data": {
      "image/png": "[encoded data removed]",
      "text/plain": [
       "<Figure size 640x480 with 2 Axes>"
      ]
     },
     "metadata": {},
     "output_type": "display_data"
    }
   ],
   "source": [
    "# Matrice de confusion\n",
    "\n",
    "conf_matrix_corr_ho_gnb = confusion_matrix(y_train_ho, y_pred_corr_ho_gnb)\n",
    "\n",
    "disp = ConfusionMatrixDisplay(conf_matrix_corr_ho_gnb, display_labels=[\"ASD\",\"TD\"])\n",
    "disp.plot()\n",
    "plt.show()"
   ]
  },
  {
   "cell_type": "code",
   "execution_count": 248,
   "id": "340a9add-99ce-4656-92cd-e0a1d149b70f",
   "metadata": {},
   "outputs": [
    {
     "name": "stdout",
     "output_type": "stream",
     "text": [
      "Accuracy :  0.547\n",
      "Sensitivité :  0.495\n",
      "Spécificité :  0.602\n",
      "Classification Report :\n",
      "               precision    recall  f1-score   support\n",
      "\n",
      "           1       0.53      0.60      0.56       181\n",
      "           2       0.57      0.49      0.53       194\n",
      "\n",
      "    accuracy                           0.55       375\n",
      "   macro avg       0.55      0.55      0.55       375\n",
      "weighted avg       0.55      0.55      0.55       375\n",
      "\n"
     ]
    }
   ],
   "source": [
    "#Affichage des métriques\n",
    "\n",
    "# Calcul de l'accuracy\n",
    "accuracy_corr_ho_gnb = accuracy_score(y_train_ho, y_pred_corr_ho_gnb)\n",
    "print(\"Accuracy : \", round(accuracy_corr_ho_gnb,3))\n",
    "\n",
    "# Calcul de la sensitivité\n",
    "sensitivity_corr_ho_gnb = conf_matrix_corr_ho_gnb[1,1] / (conf_matrix_corr_ho_gnb[1,0] + conf_matrix_corr_ho_gnb[1,1])\n",
    "print(\"Sensitivité : \", round(sensitivity_corr_ho_gnb,3))\n",
    "\n",
    "# Calcul de la spécificité\n",
    "specificity_corr_ho_gnb = conf_matrix_corr_ho_gnb[0,0] / (conf_matrix_corr_ho_gnb[0,0] + conf_matrix_corr_ho_gnb[0,1])\n",
    "print(\"Spécificité : \", round(specificity_corr_ho_gnb,3))\n",
    "\n",
    "# Calcul du classification report\n",
    "class_report_corr_ho_gnb = classification_report(y_train_ho, y_pred_corr_ho_gnb)\n",
    "print(\"Classification Report :\\n\", class_report_corr_ho_gnb)"
   ]
  },
  {
   "cell_type": "markdown",
   "id": "d9dc01ff-95f7-422b-a955-f6a58e9d8260",
   "metadata": {
    "jp-MarkdownHeadingCollapsed": true
   },
   "source": [
    "##### Kernel SVM"
   ]
  },
  {
   "cell_type": "code",
   "execution_count": 251,
   "id": "4f3e513c-6189-41b4-b57a-ff799b2d06ab",
   "metadata": {},
   "outputs": [
    {
     "name": "stdout",
     "output_type": "stream",
     "text": [
      "Best parameters for Logistic Regression: {'C': 1, 'degree': 2, 'kernel': 'poly'}\n"
     ]
    }
   ],
   "source": [
    "# Optimisation hyperparamètres\n",
    "\n",
    "param_grid_SVM = {'C': [0.01, 0.1, 1, 10, 100],\n",
    "    'kernel': ['linear', 'poly', 'rbf','sigmoid'],\n",
    "    'degree' : [2,3,4,5]}\n",
    "\n",
    "SVM_opt = SVC()\n",
    "grid_search_SVM = GridSearchCV(SVM_opt, param_grid_SVM, cv=5, scoring='accuracy')\n",
    "grid_search_SVM.fit(X_train_ho, y_train_ho)\n",
    "\n",
    "print(\"Best parameters for Logistic Regression:\", grid_search_SVM.best_params_)"
   ]
  },
  {
   "cell_type": "code",
   "execution_count": 252,
   "id": "76615903-ad50-4039-9175-91a92c4a024f",
   "metadata": {},
   "outputs": [],
   "source": [
    "#sklearn.svm.SVC(*, C=1.0, kernel='rbf', degree=3, gamma='scale', coef0=0.0, shrinking=True, probability=False, tol=0.001, cache_size=200, class_weight=None, verbose=False, max_iter=-1, decision_function_shape='ovr', break_ties=False, random_state=None)\n",
    "\n",
    "# SVM : Cross-validation 10 folds\n",
    "svm = SVC (kernel = 'poly', C=1, degree = 2)\n",
    "cv = StratifiedKFold(n_splits=10)\n",
    "y_pred_corr_ho_svm = cross_val_predict(svm, X_train_ho, y_train_ho, cv = cv)"
   ]
  },
  {
   "cell_type": "code",
   "execution_count": 253,
   "id": "2608fd79-7ae6-4439-8562-3cbd6e888f85",
   "metadata": {},
   "outputs": [
    {
     "data": {
      "image/png": "[encoded data removed]",
      "text/plain": [
       "<Figure size 640x480 with 2 Axes>"
      ]
     },
     "metadata": {},
     "output_type": "display_data"
    }
   ],
   "source": [
    "# Matrice de confusion\n",
    "\n",
    "conf_matrix_corr_ho_svm = confusion_matrix(y_train_ho, y_pred_corr_ho_svm)\n",
    "\n",
    "disp = ConfusionMatrixDisplay(conf_matrix_corr_ho_svm, display_labels=[\"ASD\",\"TD\"])\n",
    "disp.plot()\n",
    "plt.show()"
   ]
  },
  {
   "cell_type": "code",
   "execution_count": 254,
   "id": "9714e0ce-0def-49d7-b4e7-00c125a3842a",
   "metadata": {},
   "outputs": [
    {
     "name": "stdout",
     "output_type": "stream",
     "text": [
      "Accuracy :  0.629\n",
      "Sensitivité :  0.66\n",
      "Spécificité :  0.597\n",
      "Classification Report :\n",
      "               precision    recall  f1-score   support\n",
      "\n",
      "           1       0.62      0.60      0.61       181\n",
      "           2       0.64      0.66      0.65       194\n",
      "\n",
      "    accuracy                           0.63       375\n",
      "   macro avg       0.63      0.63      0.63       375\n",
      "weighted avg       0.63      0.63      0.63       375\n",
      "\n"
     ]
    }
   ],
   "source": [
    "#Affichage des métriques\n",
    "\n",
    "# Calcul de l'accuracy\n",
    "accuracy_corr_ho_svm = accuracy_score(y_train_ho, y_pred_corr_ho_svm)\n",
    "print(\"Accuracy : \", round(accuracy_corr_ho_svm,3))\n",
    "\n",
    "# Calcul de la sensitivité\n",
    "sensitivity_corr_ho_svm = conf_matrix_corr_ho_svm[1,1] / (conf_matrix_corr_ho_svm[1,0] + conf_matrix_corr_ho_svm[1,1])\n",
    "print(\"Sensitivité : \", round(sensitivity_corr_ho_svm,3))\n",
    "\n",
    "# Calcul de la spécificité\n",
    "specificity_corr_ho_svm = conf_matrix_corr_ho_svm[0,0] / (conf_matrix_corr_ho_svm[0,0] + conf_matrix_corr_ho_svm[0,1])\n",
    "print(\"Spécificité : \", round(specificity_corr_ho_svm,3))\n",
    "\n",
    "# Calcul du classification report\n",
    "class_report_corr_ho_svm = classification_report(y_train_ho, y_pred_corr_ho_svm)\n",
    "print(\"Classification Report :\\n\", class_report_corr_ho_svm)"
   ]
  },
  {
   "cell_type": "markdown",
   "id": "55f66fad-4bb5-4dc5-98b7-7f06df90d351",
   "metadata": {
    "jp-MarkdownHeadingCollapsed": true
   },
   "source": [
    "##### Random Forest"
   ]
  },
  {
   "cell_type": "code",
   "execution_count": 256,
   "id": "17f6ee34-5c85-49ba-bdf4-3470d44fb738",
   "metadata": {},
   "outputs": [
    {
     "name": "stdout",
     "output_type": "stream",
     "text": [
      "Best parameters for Logistic Regression: {'criterion': 'entropy', 'max_depth': 20, 'n_estimators': 100}\n"
     ]
    }
   ],
   "source": [
    "# Optimisation hyperparamètres\n",
    "\n",
    "param_grid_RF = {'n_estimators': [100, 200, 300],\n",
    "                'max_depth': [5,10,20],\n",
    "                'criterion' : ['gini','entropy','log_loss']}\n",
    "\n",
    "RF_opt = RandomForestClassifier()\n",
    "grid_search_RF = GridSearchCV(RF_opt, param_grid_RF, cv=5, scoring='accuracy')\n",
    "grid_search_RF.fit(X_train_ho, y_train_ho)\n",
    "\n",
    "print(\"Best parameters for Logistic Regression:\", grid_search_RF.best_params_)"
   ]
  },
  {
   "cell_type": "code",
   "execution_count": 257,
   "id": "072057bb-ef37-4a25-9e30-8e47226bec84",
   "metadata": {},
   "outputs": [],
   "source": [
    "#class sklearn.ensemble.RandomForestClassifier(n_estimators=100, *, criterion='gini', max_depth=None, min_samples_split=2, min_samples_leaf=1, min_weight_fraction_leaf=0.0, max_features='sqrt', max_leaf_nodes=None, min_impurity_decrease=0.0, bootstrap=True, oob_score=False, n_jobs=None, random_state=None, verbose=0, warm_start=False, class_weight=None, ccp_alpha=0.0, max_samples=None, monotonic_cst=None)\n",
    "\n",
    "RF = RandomForestClassifier(n_estimators=100, criterion ='log_loss', max_depth=10, random_state=123)\n",
    "cv = StratifiedKFold(n_splits=10)\n",
    "y_pred_corr_ho_rf = cross_val_predict(RF, X_train_ho, y_train_ho, cv = cv)"
   ]
  },
  {
   "cell_type": "code",
   "execution_count": 258,
   "id": "a12e2be7-f832-4fcc-8e06-69e3bf329558",
   "metadata": {},
   "outputs": [
    {
     "data": {
      "image/png": "[encoded data removed]",
      "text/plain": [
       "<Figure size 640x480 with 2 Axes>"
      ]
     },
     "metadata": {},
     "output_type": "display_data"
    }
   ],
   "source": [
    "# Matrice de confusion\n",
    "\n",
    "conf_matrix_corr_ho_rf = confusion_matrix(y_train_ho, y_pred_corr_ho_rf)\n",
    "\n",
    "disp = ConfusionMatrixDisplay(conf_matrix_corr_ho_rf, display_labels=[\"ASD\",\"TD\"])\n",
    "disp.plot()\n",
    "plt.show()"
   ]
  },
  {
   "cell_type": "code",
   "execution_count": 259,
   "id": "121ab7f9-f164-4e3e-953a-957842051490",
   "metadata": {},
   "outputs": [
    {
     "name": "stdout",
     "output_type": "stream",
     "text": [
      "Accuracy :  0.576\n",
      "Sensitivité :  0.603\n",
      "Spécificité :  0.547\n",
      "Classification Report :\n",
      "               precision    recall  f1-score   support\n",
      "\n",
      "           1       0.56      0.55      0.55       181\n",
      "           2       0.59      0.60      0.60       194\n",
      "\n",
      "    accuracy                           0.58       375\n",
      "   macro avg       0.58      0.58      0.58       375\n",
      "weighted avg       0.58      0.58      0.58       375\n",
      "\n"
     ]
    }
   ],
   "source": [
    "#Affichage des métriques\n",
    "\n",
    "# Calcul de l'accuracy\n",
    "accuracy_corr_ho_rf = accuracy_score(y_train_ho, y_pred_corr_ho_rf)\n",
    "print(\"Accuracy : \", round(accuracy_corr_ho_rf,3))\n",
    "\n",
    "# Calcul de la sensitivité\n",
    "sensitivity_corr_ho_rf = conf_matrix_corr_ho_rf[1,1] / (conf_matrix_corr_ho_rf[1,0] + conf_matrix_corr_ho_rf[1,1])\n",
    "print(\"Sensitivité : \", round(sensitivity_corr_ho_rf,3))\n",
    "\n",
    "# Calcul de la spécificité\n",
    "specificity_corr_ho_rf = conf_matrix_corr_ho_rf[0,0] / (conf_matrix_corr_ho_rf[0,0] + conf_matrix_corr_ho_rf[0,1])\n",
    "print(\"Spécificité : \", round(specificity_corr_ho_rf,3))\n",
    "\n",
    "# Calcul du classification report\n",
    "class_report_corr_ho_rf = classification_report(y_train_ho, y_pred_corr_ho_rf)\n",
    "print(\"Classification Report :\\n\", class_report_corr_ho_rf)"
   ]
  },
  {
   "cell_type": "markdown",
   "id": "c787429a-81e1-406a-bfbe-b78326c43cb4",
   "metadata": {
    "jp-MarkdownHeadingCollapsed": true
   },
   "source": [
    "##### Gradient Boosting - Avec sklearn prend trop de temps"
   ]
  },
  {
   "cell_type": "code",
   "execution_count": 353,
   "id": "03aa3fd5-c49e-41ce-9e3c-8e86f7c06615",
   "metadata": {
    "scrolled": true
   },
   "outputs": [
    {
     "name": "stdout",
     "output_type": "stream",
     "text": [
      "Collecting xgboostNote: you may need to restart the kernel to use updated packages.\n",
      "\n",
      "  Downloading xgboost-2.0.3-py3-none-win_amd64.whl.metadata (2.0 kB)\n",
      "Requirement already satisfied: numpy in c:\\users\\elodi\\anaconda3\\lib\\site-packages (from xgboost) (1.26.4)\n",
      "Requirement already satisfied: scipy in c:\\users\\elodi\\anaconda3\\lib\\site-packages (from xgboost) (1.11.4)\n",
      "Downloading xgboost-2.0.3-py3-none-win_amd64.whl (99.8 MB)\n",
      "   ---------------------------------------- 0.0/99.8 MB ? eta -:--:--\n",
      "   ---------------------------------------- 0.0/99.8 MB ? eta -:--:--\n",
      "   ---------------------------------------- 0.1/99.8 MB 991.0 kB/s eta 0:01:41\n",
      "   ---------------------------------------- 0.3/99.8 MB 2.8 MB/s eta 0:00:37\n",
      "   ---------------------------------------- 0.5/99.8 MB 3.7 MB/s eta 0:00:27\n",
      "   ---------------------------------------- 0.8/99.8 MB 4.2 MB/s eta 0:00:24\n",
      "   ---------------------------------------- 1.0/99.8 MB 4.4 MB/s eta 0:00:23\n",
      "    --------------------------------------- 1.4/99.8 MB 5.0 MB/s eta 0:00:20\n",
      "    --------------------------------------- 1.6/99.8 MB 5.3 MB/s eta 0:00:19\n",
      "    --------------------------------------- 1.6/99.8 MB 4.3 MB/s eta 0:00:23\n",
      "    --------------------------------------- 1.8/99.8 MB 4.3 MB/s eta 0:00:23\n",
      "    --------------------------------------- 1.9/99.8 MB 4.2 MB/s eta 0:00:24\n",
      "    --------------------------------------- 2.0/99.8 MB 4.0 MB/s eta 0:00:25\n",
      "    --------------------------------------- 2.0/99.8 MB 3.8 MB/s eta 0:00:26\n",
      "    --------------------------------------- 2.2/99.8 MB 3.8 MB/s eta 0:00:26\n",
      "    --------------------------------------- 2.3/99.8 MB 3.7 MB/s eta 0:00:27\n",
      "    --------------------------------------- 2.3/99.8 MB 3.6 MB/s eta 0:00:27\n",
      "    --------------------------------------- 2.4/99.8 MB 3.5 MB/s eta 0:00:28\n",
      "   - -------------------------------------- 2.5/99.8 MB 3.4 MB/s eta 0:00:29\n",
      "   - -------------------------------------- 2.6/99.8 MB 3.3 MB/s eta 0:00:30\n",
      "   - -------------------------------------- 2.7/99.8 MB 3.3 MB/s eta 0:00:30\n",
      "   - -------------------------------------- 2.8/99.8 MB 3.2 MB/s eta 0:00:31\n",
      "   - -------------------------------------- 2.9/99.8 MB 3.2 MB/s eta 0:00:31\n",
      "   - -------------------------------------- 3.0/99.8 MB 3.1 MB/s eta 0:00:31\n",
      "   - -------------------------------------- 3.1/99.8 MB 3.1 MB/s eta 0:00:32\n",
      "   - -------------------------------------- 3.2/99.8 MB 3.1 MB/s eta 0:00:32\n",
      "   - -------------------------------------- 3.3/99.8 MB 3.1 MB/s eta 0:00:32\n",
      "   - -------------------------------------- 3.4/99.8 MB 3.0 MB/s eta 0:00:33\n",
      "   - -------------------------------------- 3.5/99.8 MB 3.0 MB/s eta 0:00:32\n",
      "   - -------------------------------------- 3.6/99.8 MB 3.0 MB/s eta 0:00:33\n",
      "   - -------------------------------------- 3.7/99.8 MB 2.9 MB/s eta 0:00:33\n",
      "   - -------------------------------------- 3.8/99.8 MB 2.9 MB/s eta 0:00:34\n",
      "   - -------------------------------------- 3.9/99.8 MB 2.9 MB/s eta 0:00:34\n",
      "   - -------------------------------------- 3.9/99.8 MB 2.9 MB/s eta 0:00:34\n",
      "   - -------------------------------------- 4.1/99.8 MB 2.8 MB/s eta 0:00:34\n",
      "   - -------------------------------------- 4.1/99.8 MB 2.8 MB/s eta 0:00:34\n",
      "   - -------------------------------------- 4.2/99.8 MB 2.8 MB/s eta 0:00:34\n",
      "   - -------------------------------------- 4.3/99.8 MB 2.8 MB/s eta 0:00:35\n",
      "   - -------------------------------------- 4.4/99.8 MB 2.8 MB/s eta 0:00:35\n",
      "   - -------------------------------------- 4.5/99.8 MB 2.8 MB/s eta 0:00:35\n",
      "   - -------------------------------------- 4.6/99.8 MB 2.8 MB/s eta 0:00:35\n",
      "   - -------------------------------------- 4.6/99.8 MB 2.7 MB/s eta 0:00:35\n",
      "   - -------------------------------------- 4.8/99.8 MB 2.7 MB/s eta 0:00:35\n",
      "   - -------------------------------------- 4.9/99.8 MB 2.7 MB/s eta 0:00:35\n",
      "   - -------------------------------------- 4.9/99.8 MB 2.7 MB/s eta 0:00:35\n",
      "   -- ------------------------------------- 5.0/99.8 MB 2.7 MB/s eta 0:00:36\n",
      "   -- ------------------------------------- 5.1/99.8 MB 2.7 MB/s eta 0:00:36\n",
      "   -- ------------------------------------- 5.2/99.8 MB 2.7 MB/s eta 0:00:36\n",
      "   -- ------------------------------------- 5.3/99.8 MB 2.7 MB/s eta 0:00:36\n",
      "   -- ------------------------------------- 5.4/99.8 MB 2.6 MB/s eta 0:00:36\n",
      "   -- ------------------------------------- 5.5/99.8 MB 2.7 MB/s eta 0:00:36\n",
      "   -- ------------------------------------- 5.6/99.8 MB 2.6 MB/s eta 0:00:36\n",
      "   -- ------------------------------------- 5.7/99.8 MB 2.6 MB/s eta 0:00:36\n",
      "   -- ------------------------------------- 5.8/99.8 MB 2.6 MB/s eta 0:00:36\n",
      "   -- ------------------------------------- 5.9/99.8 MB 2.6 MB/s eta 0:00:36\n",
      "   -- ------------------------------------- 6.0/99.8 MB 2.6 MB/s eta 0:00:36\n",
      "   -- ------------------------------------- 6.1/99.8 MB 2.6 MB/s eta 0:00:36\n",
      "   -- ------------------------------------- 6.2/99.8 MB 2.6 MB/s eta 0:00:36\n",
      "   -- ------------------------------------- 6.3/99.8 MB 2.6 MB/s eta 0:00:36\n",
      "   -- ------------------------------------- 6.4/99.8 MB 2.6 MB/s eta 0:00:36\n",
      "   -- ------------------------------------- 6.5/99.8 MB 2.6 MB/s eta 0:00:37\n",
      "   -- ------------------------------------- 6.6/99.8 MB 2.6 MB/s eta 0:00:36\n",
      "   -- ------------------------------------- 6.7/99.8 MB 2.6 MB/s eta 0:00:37\n",
      "   -- ------------------------------------- 6.7/99.8 MB 2.6 MB/s eta 0:00:37\n",
      "   -- ------------------------------------- 6.9/99.8 MB 2.6 MB/s eta 0:00:37\n",
      "   -- ------------------------------------- 6.9/99.8 MB 2.6 MB/s eta 0:00:37\n",
      "   -- ------------------------------------- 7.0/99.8 MB 2.6 MB/s eta 0:00:37\n",
      "   -- ------------------------------------- 7.1/99.8 MB 2.6 MB/s eta 0:00:37\n",
      "   -- ------------------------------------- 7.2/99.8 MB 2.6 MB/s eta 0:00:37\n",
      "   -- ------------------------------------- 7.3/99.8 MB 2.6 MB/s eta 0:00:37\n",
      "   -- ------------------------------------- 7.4/99.8 MB 2.5 MB/s eta 0:00:37\n",
      "   --- ------------------------------------ 7.5/99.8 MB 2.5 MB/s eta 0:00:37\n",
      "   --- ------------------------------------ 7.7/99.8 MB 2.6 MB/s eta 0:00:36\n",
      "   --- ------------------------------------ 7.9/99.8 MB 2.6 MB/s eta 0:00:36\n",
      "   --- ------------------------------------ 8.2/99.8 MB 2.7 MB/s eta 0:00:35\n",
      "   --- ------------------------------------ 8.4/99.8 MB 2.7 MB/s eta 0:00:34\n",
      "   --- ------------------------------------ 8.6/99.8 MB 2.7 MB/s eta 0:00:34\n",
      "   --- ------------------------------------ 8.8/99.8 MB 2.8 MB/s eta 0:00:33\n",
      "   --- ------------------------------------ 9.1/99.8 MB 2.8 MB/s eta 0:00:33\n",
      "   --- ------------------------------------ 9.2/99.8 MB 2.8 MB/s eta 0:00:32\n",
      "   --- ------------------------------------ 9.5/99.8 MB 2.9 MB/s eta 0:00:32\n",
      "   --- ------------------------------------ 9.7/99.8 MB 2.9 MB/s eta 0:00:32\n",
      "   --- ------------------------------------ 9.8/99.8 MB 2.9 MB/s eta 0:00:31\n",
      "   ---- ----------------------------------- 10.2/99.8 MB 3.0 MB/s eta 0:00:31\n",
      "   ---- ----------------------------------- 10.4/99.8 MB 3.0 MB/s eta 0:00:30\n",
      "   ---- ----------------------------------- 10.7/99.8 MB 3.0 MB/s eta 0:00:30\n",
      "   ---- ----------------------------------- 10.9/99.8 MB 3.0 MB/s eta 0:00:30\n",
      "   ---- ----------------------------------- 11.1/99.8 MB 3.0 MB/s eta 0:00:30\n",
      "   ---- ----------------------------------- 11.2/99.8 MB 3.0 MB/s eta 0:00:30\n",
      "   ---- ----------------------------------- 11.4/99.8 MB 3.0 MB/s eta 0:00:30\n",
      "   ---- ----------------------------------- 11.7/99.8 MB 3.0 MB/s eta 0:00:30\n",
      "   ---- ----------------------------------- 12.0/99.8 MB 3.0 MB/s eta 0:00:29\n",
      "   ---- ----------------------------------- 12.2/99.8 MB 3.1 MB/s eta 0:00:29\n",
      "   ---- ----------------------------------- 12.3/99.8 MB 3.1 MB/s eta 0:00:29\n",
      "   ----- ---------------------------------- 12.6/99.8 MB 3.1 MB/s eta 0:00:28\n",
      "   ----- ---------------------------------- 12.8/99.8 MB 3.2 MB/s eta 0:00:27\n",
      "   ----- ---------------------------------- 13.0/99.8 MB 3.3 MB/s eta 0:00:27\n",
      "   ----- ---------------------------------- 13.2/99.8 MB 3.3 MB/s eta 0:00:26\n",
      "   ----- ---------------------------------- 13.4/99.8 MB 3.4 MB/s eta 0:00:26\n",
      "   ----- ---------------------------------- 13.6/99.8 MB 3.5 MB/s eta 0:00:25\n",
      "   ----- ---------------------------------- 13.9/99.8 MB 3.6 MB/s eta 0:00:25\n",
      "   ----- ---------------------------------- 14.1/99.8 MB 3.7 MB/s eta 0:00:24\n",
      "   ----- ---------------------------------- 14.3/99.8 MB 3.7 MB/s eta 0:00:23\n",
      "   ----- ---------------------------------- 14.5/99.8 MB 3.8 MB/s eta 0:00:23\n",
      "   ----- ---------------------------------- 14.8/99.8 MB 3.9 MB/s eta 0:00:22\n",
      "   ------ --------------------------------- 15.0/99.8 MB 4.0 MB/s eta 0:00:22\n",
      "   ------ --------------------------------- 15.0/99.8 MB 4.0 MB/s eta 0:00:22\n",
      "   ------ --------------------------------- 15.2/99.8 MB 3.9 MB/s eta 0:00:22\n",
      "   ------ --------------------------------- 15.3/99.8 MB 4.0 MB/s eta 0:00:22\n",
      "   ------ --------------------------------- 15.6/99.8 MB 4.1 MB/s eta 0:00:21\n",
      "   ------ --------------------------------- 15.8/99.8 MB 4.2 MB/s eta 0:00:21\n",
      "   ------ --------------------------------- 16.0/99.8 MB 4.3 MB/s eta 0:00:20\n",
      "   ------ --------------------------------- 16.3/99.8 MB 4.5 MB/s eta 0:00:19\n",
      "   ------ --------------------------------- 16.5/99.8 MB 4.5 MB/s eta 0:00:19\n",
      "   ------ --------------------------------- 16.8/99.8 MB 4.7 MB/s eta 0:00:18\n",
      "   ------ --------------------------------- 17.0/99.8 MB 4.9 MB/s eta 0:00:18\n",
      "   ------ --------------------------------- 17.2/99.8 MB 5.0 MB/s eta 0:00:17\n",
      "   ------- -------------------------------- 17.5/99.8 MB 5.2 MB/s eta 0:00:16\n",
      "   ------- -------------------------------- 17.7/99.8 MB 5.3 MB/s eta 0:00:16\n",
      "   ------- -------------------------------- 18.0/99.8 MB 5.3 MB/s eta 0:00:16\n",
      "   ------- -------------------------------- 18.2/99.8 MB 5.3 MB/s eta 0:00:16\n",
      "   ------- -------------------------------- 18.5/99.8 MB 5.3 MB/s eta 0:00:16\n",
      "   ------- -------------------------------- 18.7/99.8 MB 5.3 MB/s eta 0:00:16\n",
      "   ------- -------------------------------- 18.9/99.8 MB 5.4 MB/s eta 0:00:16\n",
      "   ------- -------------------------------- 19.1/99.8 MB 5.3 MB/s eta 0:00:16\n",
      "   ------- -------------------------------- 19.4/99.8 MB 5.3 MB/s eta 0:00:16\n",
      "   ------- -------------------------------- 19.6/99.8 MB 5.3 MB/s eta 0:00:16\n",
      "   ------- -------------------------------- 19.8/99.8 MB 5.3 MB/s eta 0:00:16\n",
      "   -------- ------------------------------- 20.1/99.8 MB 5.4 MB/s eta 0:00:15\n",
      "   -------- ------------------------------- 20.3/99.8 MB 5.3 MB/s eta 0:00:15\n",
      "   -------- ------------------------------- 20.4/99.8 MB 5.4 MB/s eta 0:00:15\n",
      "   -------- ------------------------------- 20.8/99.8 MB 5.4 MB/s eta 0:00:15\n",
      "   -------- ------------------------------- 21.0/99.8 MB 5.3 MB/s eta 0:00:15\n",
      "   -------- ------------------------------- 21.2/99.8 MB 5.3 MB/s eta 0:00:15\n",
      "   -------- ------------------------------- 21.4/99.8 MB 5.4 MB/s eta 0:00:15\n",
      "   -------- ------------------------------- 21.6/99.8 MB 5.3 MB/s eta 0:00:15\n",
      "   -------- ------------------------------- 21.9/99.8 MB 5.4 MB/s eta 0:00:15\n",
      "   -------- ------------------------------- 22.2/99.8 MB 5.4 MB/s eta 0:00:15\n",
      "   -------- ------------------------------- 22.4/99.8 MB 5.3 MB/s eta 0:00:15\n",
      "   --------- ------------------------------ 22.6/99.8 MB 5.4 MB/s eta 0:00:15\n",
      "   --------- ------------------------------ 22.6/99.8 MB 5.4 MB/s eta 0:00:15\n",
      "   --------- ------------------------------ 22.6/99.8 MB 5.4 MB/s eta 0:00:15\n",
      "   --------- ------------------------------ 22.6/99.8 MB 5.4 MB/s eta 0:00:15\n",
      "   --------- ------------------------------ 22.6/99.8 MB 5.4 MB/s eta 0:00:15\n",
      "   --------- ------------------------------ 22.6/99.8 MB 4.9 MB/s eta 0:00:16\n",
      "   --------- ------------------------------ 22.6/99.8 MB 4.9 MB/s eta 0:00:16\n",
      "   --------- ------------------------------ 24.3/99.8 MB 5.4 MB/s eta 0:00:14\n",
      "   --------- ------------------------------ 24.5/99.8 MB 5.4 MB/s eta 0:00:15\n",
      "   --------- ------------------------------ 24.8/99.8 MB 5.4 MB/s eta 0:00:14\n",
      "   ---------- ----------------------------- 25.1/99.8 MB 5.5 MB/s eta 0:00:14\n",
      "   ---------- ----------------------------- 25.3/99.8 MB 5.6 MB/s eta 0:00:14\n",
      "   ---------- ----------------------------- 25.6/99.8 MB 5.7 MB/s eta 0:00:14\n",
      "   ---------- ----------------------------- 25.8/99.8 MB 5.6 MB/s eta 0:00:14\n",
      "   ---------- ----------------------------- 26.0/99.8 MB 5.6 MB/s eta 0:00:14\n",
      "   ---------- ----------------------------- 26.2/99.8 MB 5.6 MB/s eta 0:00:14\n",
      "   ---------- ----------------------------- 26.5/99.8 MB 5.6 MB/s eta 0:00:13\n",
      "   ---------- ----------------------------- 26.8/99.8 MB 5.7 MB/s eta 0:00:13\n",
      "   ---------- ----------------------------- 27.0/99.8 MB 5.6 MB/s eta 0:00:13\n",
      "   ---------- ----------------------------- 27.3/99.8 MB 5.6 MB/s eta 0:00:13\n",
      "   ----------- ---------------------------- 27.5/99.8 MB 5.7 MB/s eta 0:00:13\n",
      "   ----------- ---------------------------- 27.8/99.8 MB 5.6 MB/s eta 0:00:13\n",
      "   ----------- ---------------------------- 28.0/99.8 MB 5.6 MB/s eta 0:00:13\n",
      "   ----------- ---------------------------- 28.2/99.8 MB 5.7 MB/s eta 0:00:13\n",
      "   ----------- ---------------------------- 28.5/99.8 MB 5.7 MB/s eta 0:00:13\n",
      "   ----------- ---------------------------- 28.7/99.8 MB 5.7 MB/s eta 0:00:13\n",
      "   ----------- ---------------------------- 29.0/99.8 MB 5.7 MB/s eta 0:00:13\n",
      "   ----------- ---------------------------- 29.2/99.8 MB 5.7 MB/s eta 0:00:13\n",
      "   ----------- ---------------------------- 29.5/99.8 MB 5.7 MB/s eta 0:00:13\n",
      "   ----------- ---------------------------- 29.7/99.8 MB 5.7 MB/s eta 0:00:13\n",
      "   ------------ --------------------------- 30.0/99.8 MB 5.7 MB/s eta 0:00:13\n",
      "   ------------ --------------------------- 30.2/99.8 MB 5.7 MB/s eta 0:00:13\n",
      "   ------------ --------------------------- 30.5/99.8 MB 5.8 MB/s eta 0:00:12\n",
      "   ------------ --------------------------- 30.7/99.8 MB 5.8 MB/s eta 0:00:12\n",
      "   ------------ --------------------------- 30.9/99.8 MB 5.7 MB/s eta 0:00:12\n",
      "   ------------ --------------------------- 31.1/99.8 MB 5.7 MB/s eta 0:00:13\n",
      "   ------------ --------------------------- 31.3/99.8 MB 5.7 MB/s eta 0:00:13\n",
      "   ------------ --------------------------- 31.5/99.8 MB 5.8 MB/s eta 0:00:12\n",
      "   ------------ --------------------------- 31.8/99.8 MB 5.7 MB/s eta 0:00:12\n",
      "   ------------ --------------------------- 32.1/99.8 MB 5.7 MB/s eta 0:00:12\n",
      "   ------------ --------------------------- 32.3/99.8 MB 5.7 MB/s eta 0:00:12\n",
      "   ------------- -------------------------- 32.6/99.8 MB 5.8 MB/s eta 0:00:12\n",
      "   ------------- -------------------------- 32.9/99.8 MB 7.0 MB/s eta 0:00:10\n",
      "   ------------- -------------------------- 33.1/99.8 MB 6.8 MB/s eta 0:00:10\n",
      "   ------------- -------------------------- 33.4/99.8 MB 6.5 MB/s eta 0:00:11\n",
      "   ------------- -------------------------- 33.7/99.8 MB 6.4 MB/s eta 0:00:11\n",
      "   ------------- -------------------------- 34.0/99.8 MB 6.1 MB/s eta 0:00:11\n",
      "   ------------- -------------------------- 34.2/99.8 MB 6.0 MB/s eta 0:00:11\n",
      "   ------------- -------------------------- 34.5/99.8 MB 5.9 MB/s eta 0:00:12\n",
      "   ------------- -------------------------- 34.8/99.8 MB 5.9 MB/s eta 0:00:12\n",
      "   -------------- ------------------------- 35.1/99.8 MB 5.9 MB/s eta 0:00:11\n",
      "   -------------- ------------------------- 35.3/99.8 MB 5.9 MB/s eta 0:00:11\n",
      "   -------------- ------------------------- 35.6/99.8 MB 5.9 MB/s eta 0:00:11\n",
      "   -------------- ------------------------- 35.8/99.8 MB 5.8 MB/s eta 0:00:11\n",
      "   -------------- ------------------------- 36.0/99.8 MB 6.0 MB/s eta 0:00:11\n",
      "   -------------- ------------------------- 36.3/99.8 MB 5.9 MB/s eta 0:00:11\n",
      "   -------------- ------------------------- 36.6/99.8 MB 5.9 MB/s eta 0:00:11\n",
      "   -------------- ------------------------- 36.8/99.8 MB 5.9 MB/s eta 0:00:11\n",
      "   -------------- ------------------------- 37.0/99.8 MB 6.0 MB/s eta 0:00:11\n",
      "   -------------- ------------------------- 37.4/99.8 MB 6.0 MB/s eta 0:00:11\n",
      "   --------------- ------------------------ 37.6/99.8 MB 6.0 MB/s eta 0:00:11\n",
      "   --------------- ------------------------ 37.8/99.8 MB 5.9 MB/s eta 0:00:11\n",
      "   --------------- ------------------------ 38.1/99.8 MB 5.9 MB/s eta 0:00:11\n",
      "   --------------- ------------------------ 38.3/99.8 MB 6.0 MB/s eta 0:00:11\n",
      "   --------------- ------------------------ 38.6/99.8 MB 5.9 MB/s eta 0:00:11\n",
      "   --------------- ------------------------ 38.9/99.8 MB 6.0 MB/s eta 0:00:11\n",
      "   --------------- ------------------------ 39.1/99.8 MB 6.0 MB/s eta 0:00:11\n",
      "   --------------- ------------------------ 39.4/99.8 MB 5.9 MB/s eta 0:00:11\n",
      "   --------------- ------------------------ 39.7/99.8 MB 6.0 MB/s eta 0:00:11\n",
      "   ---------------- ----------------------- 40.0/99.8 MB 6.0 MB/s eta 0:00:11\n",
      "   ---------------- ----------------------- 40.3/99.8 MB 6.0 MB/s eta 0:00:10\n",
      "   ---------------- ----------------------- 40.5/99.8 MB 6.0 MB/s eta 0:00:10\n",
      "   ---------------- ----------------------- 40.8/99.8 MB 6.0 MB/s eta 0:00:10\n",
      "   ---------------- ----------------------- 41.0/99.8 MB 6.0 MB/s eta 0:00:10\n",
      "   ---------------- ----------------------- 41.2/99.8 MB 6.1 MB/s eta 0:00:10\n",
      "   ---------------- ----------------------- 41.5/99.8 MB 6.1 MB/s eta 0:00:10\n",
      "   ---------------- ----------------------- 41.7/99.8 MB 6.1 MB/s eta 0:00:10\n",
      "   ---------------- ----------------------- 41.9/99.8 MB 6.0 MB/s eta 0:00:10\n",
      "   ---------------- ----------------------- 42.2/99.8 MB 6.0 MB/s eta 0:00:10\n",
      "   ---------------- ----------------------- 42.4/99.8 MB 6.0 MB/s eta 0:00:10\n",
      "   ---------------- ----------------------- 42.4/99.8 MB 6.0 MB/s eta 0:00:10\n",
      "   ---------------- ----------------------- 42.4/99.8 MB 6.0 MB/s eta 0:00:10\n",
      "   ---------------- ----------------------- 42.4/99.8 MB 6.0 MB/s eta 0:00:10\n",
      "   ----------------- ---------------------- 43.6/99.8 MB 6.0 MB/s eta 0:00:10\n",
      "   ----------------- ---------------------- 43.8/99.8 MB 6.1 MB/s eta 0:00:10\n",
      "   ----------------- ---------------------- 44.1/99.8 MB 6.0 MB/s eta 0:00:10\n",
      "   ----------------- ---------------------- 44.4/99.8 MB 6.1 MB/s eta 0:00:10\n",
      "   ----------------- ---------------------- 44.6/99.8 MB 6.0 MB/s eta 0:00:10\n",
      "   ----------------- ---------------------- 44.9/99.8 MB 6.0 MB/s eta 0:00:10\n",
      "   ------------------ --------------------- 45.1/99.8 MB 6.1 MB/s eta 0:00:10\n",
      "   ------------------ --------------------- 45.4/99.8 MB 6.1 MB/s eta 0:00:09\n",
      "   ------------------ --------------------- 45.7/99.8 MB 6.0 MB/s eta 0:00:09\n",
      "   ------------------ --------------------- 46.0/99.8 MB 6.1 MB/s eta 0:00:09\n",
      "   ------------------ --------------------- 46.3/99.8 MB 6.0 MB/s eta 0:00:09\n",
      "   ------------------ --------------------- 46.5/99.8 MB 6.1 MB/s eta 0:00:09\n",
      "   ------------------ --------------------- 46.8/99.8 MB 6.0 MB/s eta 0:00:09\n",
      "   ------------------ --------------------- 47.0/99.8 MB 6.0 MB/s eta 0:00:09\n",
      "   ------------------ --------------------- 47.2/99.8 MB 6.0 MB/s eta 0:00:09\n",
      "   ------------------- -------------------- 47.4/99.8 MB 6.0 MB/s eta 0:00:09\n",
      "   ------------------- -------------------- 47.5/99.8 MB 5.9 MB/s eta 0:00:09\n",
      "   ------------------- -------------------- 47.6/99.8 MB 5.7 MB/s eta 0:00:10\n",
      "   ------------------- -------------------- 47.7/99.8 MB 5.7 MB/s eta 0:00:10\n",
      "   ------------------- -------------------- 47.8/99.8 MB 5.6 MB/s eta 0:00:10\n",
      "   ------------------- -------------------- 48.0/99.8 MB 5.5 MB/s eta 0:00:10\n",
      "   ------------------- -------------------- 48.0/99.8 MB 5.5 MB/s eta 0:00:10\n",
      "   ------------------- -------------------- 48.1/99.8 MB 5.4 MB/s eta 0:00:10\n",
      "   ------------------- -------------------- 48.2/99.8 MB 5.3 MB/s eta 0:00:10\n",
      "   ------------------- -------------------- 48.3/99.8 MB 5.3 MB/s eta 0:00:10\n",
      "   ------------------- -------------------- 48.4/99.8 MB 5.1 MB/s eta 0:00:11\n",
      "   ------------------- -------------------- 48.5/99.8 MB 5.1 MB/s eta 0:00:11\n",
      "   ------------------- -------------------- 48.6/99.8 MB 5.0 MB/s eta 0:00:11\n",
      "   ------------------- -------------------- 48.7/99.8 MB 5.0 MB/s eta 0:00:11\n",
      "   ------------------- -------------------- 48.8/99.8 MB 4.9 MB/s eta 0:00:11\n",
      "   ------------------- -------------------- 48.9/99.8 MB 4.9 MB/s eta 0:00:11\n",
      "   ------------------- -------------------- 49.0/99.8 MB 4.8 MB/s eta 0:00:11\n",
      "   ------------------- -------------------- 49.1/99.8 MB 4.7 MB/s eta 0:00:11\n",
      "   ------------------- -------------------- 49.2/99.8 MB 4.7 MB/s eta 0:00:11\n",
      "   ------------------- -------------------- 49.3/99.8 MB 4.6 MB/s eta 0:00:12\n",
      "   ------------------- -------------------- 49.5/99.8 MB 4.5 MB/s eta 0:00:12\n",
      "   ------------------- -------------------- 49.6/99.8 MB 4.5 MB/s eta 0:00:12\n",
      "   ------------------- -------------------- 49.7/99.8 MB 4.4 MB/s eta 0:00:12\n",
      "   ------------------- -------------------- 49.8/99.8 MB 4.4 MB/s eta 0:00:12\n",
      "   -------------------- ------------------- 50.1/99.8 MB 4.4 MB/s eta 0:00:12\n",
      "   -------------------- ------------------- 50.3/99.8 MB 4.4 MB/s eta 0:00:12\n",
      "   -------------------- ------------------- 50.6/99.8 MB 4.4 MB/s eta 0:00:12\n",
      "   -------------------- ------------------- 50.9/99.8 MB 4.4 MB/s eta 0:00:12\n",
      "   -------------------- ------------------- 51.1/99.8 MB 4.4 MB/s eta 0:00:12\n",
      "   -------------------- ------------------- 51.4/99.8 MB 4.4 MB/s eta 0:00:11\n",
      "   -------------------- ------------------- 51.6/99.8 MB 4.4 MB/s eta 0:00:11\n",
      "   -------------------- ------------------- 51.8/99.8 MB 4.4 MB/s eta 0:00:11\n",
      "   -------------------- ------------------- 52.1/99.8 MB 4.4 MB/s eta 0:00:11\n",
      "   -------------------- ------------------- 52.2/99.8 MB 4.4 MB/s eta 0:00:11\n",
      "   --------------------- ------------------ 52.6/99.8 MB 4.8 MB/s eta 0:00:10\n",
      "   --------------------- ------------------ 52.9/99.8 MB 4.7 MB/s eta 0:00:10\n",
      "   --------------------- ------------------ 53.1/99.8 MB 4.6 MB/s eta 0:00:11\n",
      "   --------------------- ------------------ 53.3/99.8 MB 4.5 MB/s eta 0:00:11\n",
      "   --------------------- ------------------ 53.6/99.8 MB 4.5 MB/s eta 0:00:11\n",
      "   --------------------- ------------------ 53.9/99.8 MB 4.4 MB/s eta 0:00:11\n",
      "   --------------------- ------------------ 54.1/99.8 MB 4.4 MB/s eta 0:00:11\n",
      "   --------------------- ------------------ 54.3/99.8 MB 4.4 MB/s eta 0:00:11\n",
      "   --------------------- ------------------ 54.6/99.8 MB 4.4 MB/s eta 0:00:11\n",
      "   --------------------- ------------------ 54.8/99.8 MB 4.4 MB/s eta 0:00:11\n",
      "   ---------------------- ----------------- 55.1/99.8 MB 4.4 MB/s eta 0:00:11\n",
      "   ---------------------- ----------------- 55.3/99.8 MB 4.4 MB/s eta 0:00:11\n",
      "   ---------------------- ----------------- 55.5/99.8 MB 4.4 MB/s eta 0:00:11\n",
      "   ---------------------- ----------------- 55.8/99.8 MB 4.4 MB/s eta 0:00:11\n",
      "   ---------------------- ----------------- 56.0/99.8 MB 4.4 MB/s eta 0:00:11\n",
      "   ---------------------- ----------------- 56.2/99.8 MB 4.4 MB/s eta 0:00:10\n",
      "   ---------------------- ----------------- 56.5/99.8 MB 4.4 MB/s eta 0:00:10\n",
      "   ---------------------- ----------------- 56.7/99.8 MB 4.4 MB/s eta 0:00:10\n",
      "   ---------------------- ----------------- 57.0/99.8 MB 4.4 MB/s eta 0:00:10\n",
      "   ---------------------- ----------------- 57.2/99.8 MB 4.4 MB/s eta 0:00:10\n",
      "   ----------------------- ---------------- 57.5/99.8 MB 4.4 MB/s eta 0:00:10\n",
      "   ----------------------- ---------------- 57.8/99.8 MB 4.5 MB/s eta 0:00:10\n",
      "   ----------------------- ---------------- 58.0/99.8 MB 4.6 MB/s eta 0:00:10\n",
      "   ----------------------- ---------------- 58.3/99.8 MB 4.7 MB/s eta 0:00:09\n",
      "   ----------------------- ---------------- 58.6/99.8 MB 5.0 MB/s eta 0:00:09\n",
      "   ----------------------- ---------------- 58.8/99.8 MB 5.1 MB/s eta 0:00:09\n",
      "   ----------------------- ---------------- 59.0/99.8 MB 5.2 MB/s eta 0:00:08\n",
      "   ----------------------- ---------------- 59.2/99.8 MB 5.5 MB/s eta 0:00:08\n",
      "   ----------------------- ---------------- 59.5/99.8 MB 5.6 MB/s eta 0:00:08\n",
      "   ----------------------- ---------------- 59.8/99.8 MB 5.8 MB/s eta 0:00:07\n",
      "   ------------------------ --------------- 60.0/99.8 MB 6.0 MB/s eta 0:00:07\n",
      "   ------------------------ --------------- 60.2/99.8 MB 5.9 MB/s eta 0:00:07\n",
      "   ------------------------ --------------- 60.4/99.8 MB 5.8 MB/s eta 0:00:07\n",
      "   ------------------------ --------------- 60.5/99.8 MB 5.8 MB/s eta 0:00:07\n",
      "   ------------------------ --------------- 60.5/99.8 MB 5.8 MB/s eta 0:00:07\n",
      "   ------------------------ --------------- 60.6/99.8 MB 5.6 MB/s eta 0:00:08\n",
      "   ------------------------ --------------- 60.8/99.8 MB 5.5 MB/s eta 0:00:08\n",
      "   ------------------------ --------------- 61.1/99.8 MB 5.5 MB/s eta 0:00:08\n",
      "   ------------------------ --------------- 61.3/99.8 MB 5.5 MB/s eta 0:00:07\n",
      "   ------------------------ --------------- 61.5/99.8 MB 5.5 MB/s eta 0:00:07\n",
      "   ------------------------ --------------- 61.7/99.8 MB 5.6 MB/s eta 0:00:07\n",
      "   ------------------------ --------------- 62.0/99.8 MB 5.6 MB/s eta 0:00:07\n",
      "   ------------------------ --------------- 62.3/99.8 MB 5.5 MB/s eta 0:00:07\n",
      "   ------------------------- -------------- 62.4/99.8 MB 5.5 MB/s eta 0:00:07\n",
      "   ------------------------- -------------- 62.8/99.8 MB 5.5 MB/s eta 0:00:07\n",
      "   ------------------------- -------------- 63.0/99.8 MB 5.5 MB/s eta 0:00:07\n",
      "   ------------------------- -------------- 63.2/99.8 MB 5.5 MB/s eta 0:00:07\n",
      "   ------------------------- -------------- 63.4/99.8 MB 5.5 MB/s eta 0:00:07\n",
      "   ------------------------- -------------- 63.7/99.8 MB 5.5 MB/s eta 0:00:07\n",
      "   ------------------------- -------------- 64.0/99.8 MB 5.5 MB/s eta 0:00:07\n",
      "   ------------------------- -------------- 64.2/99.8 MB 5.5 MB/s eta 0:00:07\n",
      "   ------------------------- -------------- 64.5/99.8 MB 5.5 MB/s eta 0:00:07\n",
      "   ------------------------- -------------- 64.7/99.8 MB 5.5 MB/s eta 0:00:07\n",
      "   -------------------------- ------------- 65.0/99.8 MB 5.5 MB/s eta 0:00:07\n",
      "   -------------------------- ------------- 65.3/99.8 MB 5.5 MB/s eta 0:00:07\n",
      "   -------------------------- ------------- 65.5/99.8 MB 5.5 MB/s eta 0:00:07\n",
      "   -------------------------- ------------- 65.8/99.8 MB 5.5 MB/s eta 0:00:07\n",
      "   -------------------------- ------------- 66.0/99.8 MB 5.5 MB/s eta 0:00:07\n",
      "   -------------------------- ------------- 66.3/99.8 MB 5.5 MB/s eta 0:00:07\n",
      "   -------------------------- ------------- 66.5/99.8 MB 5.5 MB/s eta 0:00:06\n",
      "   -------------------------- ------------- 66.8/99.8 MB 5.5 MB/s eta 0:00:06\n",
      "   -------------------------- ------------- 67.1/99.8 MB 5.5 MB/s eta 0:00:06\n",
      "   --------------------------- ------------ 67.3/99.8 MB 5.5 MB/s eta 0:00:06\n",
      "   --------------------------- ------------ 67.6/99.8 MB 5.5 MB/s eta 0:00:06\n",
      "   --------------------------- ------------ 67.8/99.8 MB 5.5 MB/s eta 0:00:06\n",
      "   --------------------------- ------------ 68.1/99.8 MB 5.5 MB/s eta 0:00:06\n",
      "   --------------------------- ------------ 68.4/99.8 MB 5.6 MB/s eta 0:00:06\n",
      "   --------------------------- ------------ 68.6/99.8 MB 5.6 MB/s eta 0:00:06\n",
      "   --------------------------- ------------ 68.9/99.8 MB 5.5 MB/s eta 0:00:06\n",
      "   --------------------------- ------------ 69.1/99.8 MB 5.6 MB/s eta 0:00:06\n",
      "   --------------------------- ------------ 69.4/99.8 MB 5.6 MB/s eta 0:00:06\n",
      "   --------------------------- ------------ 69.5/99.8 MB 5.5 MB/s eta 0:00:06\n",
      "   ---------------------------- ----------- 69.9/99.8 MB 5.6 MB/s eta 0:00:06\n",
      "   ---------------------------- ----------- 70.2/99.8 MB 5.6 MB/s eta 0:00:06\n",
      "   ---------------------------- ----------- 70.4/99.8 MB 5.6 MB/s eta 0:00:06\n",
      "   ---------------------------- ----------- 70.7/99.8 MB 5.7 MB/s eta 0:00:06\n",
      "   ---------------------------- ----------- 71.0/99.8 MB 6.0 MB/s eta 0:00:05\n",
      "   ---------------------------- ----------- 71.2/99.8 MB 6.0 MB/s eta 0:00:05\n",
      "   ---------------------------- ----------- 71.5/99.8 MB 6.0 MB/s eta 0:00:05\n",
      "   ---------------------------- ----------- 71.8/99.8 MB 6.0 MB/s eta 0:00:05\n",
      "   ---------------------------- ----------- 72.0/99.8 MB 6.0 MB/s eta 0:00:05\n",
      "   ---------------------------- ----------- 72.3/99.8 MB 6.0 MB/s eta 0:00:05\n",
      "   ----------------------------- ---------- 72.5/99.8 MB 6.0 MB/s eta 0:00:05\n",
      "   ----------------------------- ---------- 72.8/99.8 MB 6.0 MB/s eta 0:00:05\n",
      "   ----------------------------- ---------- 73.0/99.8 MB 6.0 MB/s eta 0:00:05\n",
      "   ----------------------------- ---------- 73.3/99.8 MB 6.1 MB/s eta 0:00:05\n",
      "   ----------------------------- ---------- 73.5/99.8 MB 6.0 MB/s eta 0:00:05\n",
      "   ----------------------------- ---------- 73.8/99.8 MB 6.0 MB/s eta 0:00:05\n",
      "   ----------------------------- ---------- 74.1/99.8 MB 6.0 MB/s eta 0:00:05\n",
      "   ----------------------------- ---------- 74.3/99.8 MB 6.0 MB/s eta 0:00:05\n",
      "   ----------------------------- ---------- 74.6/99.8 MB 6.1 MB/s eta 0:00:05\n",
      "   ------------------------------ --------- 74.9/99.8 MB 6.0 MB/s eta 0:00:05\n",
      "   ------------------------------ --------- 75.1/99.8 MB 6.0 MB/s eta 0:00:05\n",
      "   ------------------------------ --------- 75.4/99.8 MB 6.0 MB/s eta 0:00:05\n",
      "   ------------------------------ --------- 75.5/99.8 MB 5.9 MB/s eta 0:00:05\n",
      "   ------------------------------ --------- 75.8/99.8 MB 6.0 MB/s eta 0:00:04\n",
      "   ------------------------------ --------- 76.1/99.8 MB 6.0 MB/s eta 0:00:04\n",
      "   ------------------------------ --------- 76.4/99.8 MB 6.0 MB/s eta 0:00:04\n",
      "   ------------------------------ --------- 76.6/99.8 MB 6.0 MB/s eta 0:00:04\n",
      "   ------------------------------ --------- 76.9/99.8 MB 6.0 MB/s eta 0:00:04\n",
      "   ------------------------------ --------- 77.1/99.8 MB 6.0 MB/s eta 0:00:04\n",
      "   ------------------------------- -------- 77.3/99.8 MB 6.0 MB/s eta 0:00:04\n",
      "   ------------------------------- -------- 77.6/99.8 MB 6.0 MB/s eta 0:00:04\n",
      "   ------------------------------- -------- 77.9/99.8 MB 6.0 MB/s eta 0:00:04\n",
      "   ------------------------------- -------- 78.1/99.8 MB 6.0 MB/s eta 0:00:04\n",
      "   ------------------------------- -------- 78.4/99.8 MB 6.0 MB/s eta 0:00:04\n",
      "   ------------------------------- -------- 78.6/99.8 MB 6.0 MB/s eta 0:00:04\n",
      "   ------------------------------- -------- 78.9/99.8 MB 6.0 MB/s eta 0:00:04\n",
      "   ------------------------------- -------- 79.1/99.8 MB 6.0 MB/s eta 0:00:04\n",
      "   ------------------------------- -------- 79.4/99.8 MB 6.0 MB/s eta 0:00:04\n",
      "   ------------------------------- -------- 79.6/99.8 MB 6.0 MB/s eta 0:00:04\n",
      "   -------------------------------- ------- 79.9/99.8 MB 6.0 MB/s eta 0:00:04\n",
      "   -------------------------------- ------- 80.2/99.8 MB 6.0 MB/s eta 0:00:04\n",
      "   -------------------------------- ------- 80.4/99.8 MB 6.0 MB/s eta 0:00:04\n",
      "   -------------------------------- ------- 80.6/99.8 MB 6.0 MB/s eta 0:00:04\n",
      "   -------------------------------- ------- 80.9/99.8 MB 5.9 MB/s eta 0:00:04\n",
      "   -------------------------------- ------- 81.2/99.8 MB 6.0 MB/s eta 0:00:04\n",
      "   -------------------------------- ------- 81.4/99.8 MB 6.0 MB/s eta 0:00:04\n",
      "   -------------------------------- ------- 81.6/99.8 MB 6.0 MB/s eta 0:00:04\n",
      "   -------------------------------- ------- 81.9/99.8 MB 5.9 MB/s eta 0:00:04\n",
      "   -------------------------------- ------- 82.2/99.8 MB 6.0 MB/s eta 0:00:03\n",
      "   --------------------------------- ------ 82.4/99.8 MB 6.0 MB/s eta 0:00:03\n",
      "   --------------------------------- ------ 82.7/99.8 MB 6.0 MB/s eta 0:00:03\n",
      "   --------------------------------- ------ 82.9/99.8 MB 6.0 MB/s eta 0:00:03\n",
      "   --------------------------------- ------ 83.1/99.8 MB 6.0 MB/s eta 0:00:03\n",
      "   --------------------------------- ------ 83.3/99.8 MB 6.0 MB/s eta 0:00:03\n",
      "   --------------------------------- ------ 83.6/99.8 MB 6.0 MB/s eta 0:00:03\n",
      "   --------------------------------- ------ 83.8/99.8 MB 6.0 MB/s eta 0:00:03\n",
      "   --------------------------------- ------ 84.1/99.8 MB 6.0 MB/s eta 0:00:03\n",
      "   --------------------------------- ------ 84.3/99.8 MB 6.0 MB/s eta 0:00:03\n",
      "   --------------------------------- ------ 84.6/99.8 MB 5.9 MB/s eta 0:00:03\n",
      "   --------------------------------- ------ 84.7/99.8 MB 5.9 MB/s eta 0:00:03\n",
      "   --------------------------------- ------ 84.8/99.8 MB 5.8 MB/s eta 0:00:03\n",
      "   ---------------------------------- ----- 84.9/99.8 MB 5.7 MB/s eta 0:00:03\n",
      "   ---------------------------------- ----- 85.0/99.8 MB 5.5 MB/s eta 0:00:03\n",
      "   ---------------------------------- ----- 85.1/99.8 MB 5.6 MB/s eta 0:00:03\n",
      "   ---------------------------------- ----- 85.2/99.8 MB 5.5 MB/s eta 0:00:03\n",
      "   ---------------------------------- ----- 85.3/99.8 MB 5.4 MB/s eta 0:00:03\n",
      "   ---------------------------------- ----- 85.4/99.8 MB 5.3 MB/s eta 0:00:03\n",
      "   ---------------------------------- ----- 85.4/99.8 MB 5.2 MB/s eta 0:00:03\n",
      "   ---------------------------------- ----- 85.5/99.8 MB 5.2 MB/s eta 0:00:03\n",
      "   ---------------------------------- ----- 85.6/99.8 MB 5.2 MB/s eta 0:00:03\n",
      "   ---------------------------------- ----- 85.7/99.8 MB 5.1 MB/s eta 0:00:03\n",
      "   ---------------------------------- ----- 85.8/99.8 MB 5.0 MB/s eta 0:00:03\n",
      "   ---------------------------------- ----- 85.9/99.8 MB 4.9 MB/s eta 0:00:03\n",
      "   ---------------------------------- ----- 86.0/99.8 MB 4.8 MB/s eta 0:00:03\n",
      "   ---------------------------------- ----- 86.2/99.8 MB 4.8 MB/s eta 0:00:03\n",
      "   ---------------------------------- ----- 86.3/99.8 MB 4.7 MB/s eta 0:00:03\n",
      "   ---------------------------------- ----- 86.4/99.8 MB 4.7 MB/s eta 0:00:03\n",
      "   ---------------------------------- ----- 86.5/99.8 MB 4.6 MB/s eta 0:00:03\n",
      "   ---------------------------------- ----- 86.6/99.8 MB 4.6 MB/s eta 0:00:03\n",
      "   ---------------------------------- ----- 86.7/99.8 MB 4.6 MB/s eta 0:00:03\n",
      "   ---------------------------------- ----- 86.8/99.8 MB 4.5 MB/s eta 0:00:03\n",
      "   ---------------------------------- ----- 86.9/99.8 MB 4.4 MB/s eta 0:00:03\n",
      "   ---------------------------------- ----- 87.1/99.8 MB 4.4 MB/s eta 0:00:03\n",
      "   ----------------------------------- ---- 87.3/99.8 MB 4.5 MB/s eta 0:00:03\n",
      "   ----------------------------------- ---- 87.6/99.8 MB 4.4 MB/s eta 0:00:03\n",
      "   ----------------------------------- ---- 87.8/99.8 MB 4.4 MB/s eta 0:00:03\n",
      "   ----------------------------------- ---- 88.1/99.8 MB 4.4 MB/s eta 0:00:03\n",
      "   ----------------------------------- ---- 88.3/99.8 MB 4.4 MB/s eta 0:00:03\n",
      "   ----------------------------------- ---- 88.6/99.8 MB 4.4 MB/s eta 0:00:03\n",
      "   ----------------------------------- ---- 88.8/99.8 MB 4.4 MB/s eta 0:00:03\n",
      "   ----------------------------------- ---- 89.1/99.8 MB 4.4 MB/s eta 0:00:03\n",
      "   ----------------------------------- ---- 89.4/99.8 MB 4.4 MB/s eta 0:00:03\n",
      "   ----------------------------------- ---- 89.6/99.8 MB 4.4 MB/s eta 0:00:03\n",
      "   ------------------------------------ --- 89.8/99.8 MB 4.4 MB/s eta 0:00:03\n",
      "   ------------------------------------ --- 90.0/99.8 MB 4.4 MB/s eta 0:00:03\n",
      "   ------------------------------------ --- 90.3/99.8 MB 4.4 MB/s eta 0:00:03\n",
      "   ------------------------------------ --- 90.5/99.8 MB 4.4 MB/s eta 0:00:03\n",
      "   ------------------------------------ --- 90.8/99.8 MB 4.4 MB/s eta 0:00:03\n",
      "   ------------------------------------ --- 91.0/99.8 MB 4.4 MB/s eta 0:00:03\n",
      "   ------------------------------------ --- 91.2/99.8 MB 4.4 MB/s eta 0:00:02\n",
      "   ------------------------------------ --- 91.5/99.8 MB 4.4 MB/s eta 0:00:02\n",
      "   ------------------------------------ --- 91.7/99.8 MB 4.4 MB/s eta 0:00:02\n",
      "   ------------------------------------ --- 91.9/99.8 MB 4.3 MB/s eta 0:00:02\n",
      "   ------------------------------------ --- 92.1/99.8 MB 4.3 MB/s eta 0:00:02\n",
      "   ------------------------------------- -- 92.3/99.8 MB 4.3 MB/s eta 0:00:02\n",
      "   ------------------------------------- -- 92.6/99.8 MB 4.3 MB/s eta 0:00:02\n",
      "   ------------------------------------- -- 92.8/99.8 MB 4.3 MB/s eta 0:00:02\n",
      "   ------------------------------------- -- 93.1/99.8 MB 4.3 MB/s eta 0:00:02\n",
      "   ------------------------------------- -- 93.3/99.8 MB 4.3 MB/s eta 0:00:02\n",
      "   ------------------------------------- -- 93.6/99.8 MB 4.4 MB/s eta 0:00:02\n",
      "   ------------------------------------- -- 93.8/99.8 MB 4.3 MB/s eta 0:00:02\n",
      "   ------------------------------------- -- 94.0/99.8 MB 4.3 MB/s eta 0:00:02\n",
      "   ------------------------------------- -- 94.3/99.8 MB 4.3 MB/s eta 0:00:02\n",
      "   ------------------------------------- -- 94.5/99.8 MB 4.3 MB/s eta 0:00:02\n",
      "   ------------------------------------- -- 94.8/99.8 MB 4.3 MB/s eta 0:00:02\n",
      "   -------------------------------------- - 95.0/99.8 MB 4.4 MB/s eta 0:00:02\n",
      "   -------------------------------------- - 95.3/99.8 MB 4.6 MB/s eta 0:00:01\n",
      "   -------------------------------------- - 95.5/99.8 MB 4.7 MB/s eta 0:00:01\n",
      "   -------------------------------------- - 95.8/99.8 MB 4.9 MB/s eta 0:00:01\n",
      "   -------------------------------------- - 96.0/99.8 MB 5.0 MB/s eta 0:00:01\n",
      "   -------------------------------------- - 96.3/99.8 MB 5.2 MB/s eta 0:00:01\n",
      "   -------------------------------------- - 96.5/99.8 MB 5.3 MB/s eta 0:00:01\n",
      "   -------------------------------------- - 96.7/99.8 MB 5.5 MB/s eta 0:00:01\n",
      "   -------------------------------------- - 96.9/99.8 MB 5.6 MB/s eta 0:00:01\n",
      "   -------------------------------------- - 97.1/99.8 MB 5.8 MB/s eta 0:00:01\n",
      "   ---------------------------------------  97.4/99.8 MB 5.8 MB/s eta 0:00:01\n",
      "   ---------------------------------------  97.6/99.8 MB 5.8 MB/s eta 0:00:01\n",
      "   ---------------------------------------  97.9/99.8 MB 5.8 MB/s eta 0:00:01\n",
      "   ---------------------------------------  98.2/99.8 MB 5.8 MB/s eta 0:00:01\n",
      "   ---------------------------------------  98.4/99.8 MB 5.8 MB/s eta 0:00:01\n",
      "   ---------------------------------------  98.6/99.8 MB 5.8 MB/s eta 0:00:01\n",
      "   ---------------------------------------  98.8/99.8 MB 5.8 MB/s eta 0:00:01\n",
      "   ---------------------------------------  99.1/99.8 MB 5.8 MB/s eta 0:00:01\n",
      "   ---------------------------------------  99.4/99.8 MB 5.8 MB/s eta 0:00:01\n",
      "   ---------------------------------------  99.6/99.8 MB 5.8 MB/s eta 0:00:01\n",
      "   ---------------------------------------  99.7/99.8 MB 5.8 MB/s eta 0:00:01\n",
      "   ---------------------------------------  99.7/99.8 MB 5.8 MB/s eta 0:00:01\n",
      "   ---------------------------------------  99.7/99.8 MB 5.8 MB/s eta 0:00:01\n",
      "   ---------------------------------------  99.7/99.8 MB 5.8 MB/s eta 0:00:01\n",
      "   ---------------------------------------  99.7/99.8 MB 5.8 MB/s eta 0:00:01\n",
      "   ---------------------------------------  99.7/99.8 MB 5.8 MB/s eta 0:00:01\n",
      "   ---------------------------------------  99.7/99.8 MB 5.8 MB/s eta 0:00:01\n",
      "   ---------------------------------------- 99.8/99.8 MB 5.0 MB/s eta 0:00:00\n",
      "Installing collected packages: xgboost\n",
      "Successfully installed xgboost-2.0.3\n"
     ]
    }
   ],
   "source": [
    "#pip install xgboost"
   ]
  },
  {
   "cell_type": "code",
   "execution_count": 349,
   "id": "85c0ab56-c356-45ce-9812-ba9231b7185c",
   "metadata": {
    "scrolled": true
   },
   "outputs": [
    {
     "ename": "KeyboardInterrupt",
     "evalue": "",
     "output_type": "error",
     "traceback": [
      "\u001b[1;31m---------------------------------------------------------------------------\u001b[0m",
      "\u001b[1;31mKeyboardInterrupt\u001b[0m                         Traceback (most recent call last)",
      "Cell \u001b[1;32mIn[349], line 6\u001b[0m\n\u001b[0;32m      4\u001b[0m GB \u001b[38;5;241m=\u001b[39m GradientBoostingClassifier()\n\u001b[0;32m      5\u001b[0m cv \u001b[38;5;241m=\u001b[39m StratifiedKFold(n_splits\u001b[38;5;241m=\u001b[39m\u001b[38;5;241m10\u001b[39m)\n\u001b[1;32m----> 6\u001b[0m y_pred_corr_ho_gb \u001b[38;5;241m=\u001b[39m cross_val_predict(GB, X_train, y_train, cv \u001b[38;5;241m=\u001b[39m cv)\n",
      "File \u001b[1;32m~\\anaconda3\\Lib\\site-packages\\sklearn\\model_selection\\_validation.py:986\u001b[0m, in \u001b[0;36mcross_val_predict\u001b[1;34m(estimator, X, y, groups, cv, n_jobs, verbose, fit_params, pre_dispatch, method)\u001b[0m\n\u001b[0;32m    983\u001b[0m \u001b[38;5;66;03m# We clone the estimator to make sure that all the folds are\u001b[39;00m\n\u001b[0;32m    984\u001b[0m \u001b[38;5;66;03m# independent, and that it is pickle-able.\u001b[39;00m\n\u001b[0;32m    985\u001b[0m parallel \u001b[38;5;241m=\u001b[39m Parallel(n_jobs\u001b[38;5;241m=\u001b[39mn_jobs, verbose\u001b[38;5;241m=\u001b[39mverbose, pre_dispatch\u001b[38;5;241m=\u001b[39mpre_dispatch)\n\u001b[1;32m--> 986\u001b[0m predictions \u001b[38;5;241m=\u001b[39m parallel(\n\u001b[0;32m    987\u001b[0m     delayed(_fit_and_predict)(\n\u001b[0;32m    988\u001b[0m         clone(estimator), X, y, train, test, verbose, fit_params, method\n\u001b[0;32m    989\u001b[0m     )\n\u001b[0;32m    990\u001b[0m     \u001b[38;5;28;01mfor\u001b[39;00m train, test \u001b[38;5;129;01min\u001b[39;00m splits\n\u001b[0;32m    991\u001b[0m )\n\u001b[0;32m    993\u001b[0m inv_test_indices \u001b[38;5;241m=\u001b[39m np\u001b[38;5;241m.\u001b[39mempty(\u001b[38;5;28mlen\u001b[39m(test_indices), dtype\u001b[38;5;241m=\u001b[39m\u001b[38;5;28mint\u001b[39m)\n\u001b[0;32m    994\u001b[0m inv_test_indices[test_indices] \u001b[38;5;241m=\u001b[39m np\u001b[38;5;241m.\u001b[39marange(\u001b[38;5;28mlen\u001b[39m(test_indices))\n",
      "File \u001b[1;32m~\\anaconda3\\Lib\\site-packages\\sklearn\\utils\\parallel.py:63\u001b[0m, in \u001b[0;36mParallel.__call__\u001b[1;34m(self, iterable)\u001b[0m\n\u001b[0;32m     58\u001b[0m config \u001b[38;5;241m=\u001b[39m get_config()\n\u001b[0;32m     59\u001b[0m iterable_with_config \u001b[38;5;241m=\u001b[39m (\n\u001b[0;32m     60\u001b[0m     (_with_config(delayed_func, config), args, kwargs)\n\u001b[0;32m     61\u001b[0m     \u001b[38;5;28;01mfor\u001b[39;00m delayed_func, args, kwargs \u001b[38;5;129;01min\u001b[39;00m iterable\n\u001b[0;32m     62\u001b[0m )\n\u001b[1;32m---> 63\u001b[0m \u001b[38;5;28;01mreturn\u001b[39;00m \u001b[38;5;28msuper\u001b[39m()\u001b[38;5;241m.\u001b[39m\u001b[38;5;21m__call__\u001b[39m(iterable_with_config)\n",
      "File \u001b[1;32m~\\anaconda3\\Lib\\site-packages\\joblib\\parallel.py:1088\u001b[0m, in \u001b[0;36mParallel.__call__\u001b[1;34m(self, iterable)\u001b[0m\n\u001b[0;32m   1085\u001b[0m \u001b[38;5;28;01mif\u001b[39;00m \u001b[38;5;28mself\u001b[39m\u001b[38;5;241m.\u001b[39mdispatch_one_batch(iterator):\n\u001b[0;32m   1086\u001b[0m     \u001b[38;5;28mself\u001b[39m\u001b[38;5;241m.\u001b[39m_iterating \u001b[38;5;241m=\u001b[39m \u001b[38;5;28mself\u001b[39m\u001b[38;5;241m.\u001b[39m_original_iterator \u001b[38;5;129;01mis\u001b[39;00m \u001b[38;5;129;01mnot\u001b[39;00m \u001b[38;5;28;01mNone\u001b[39;00m\n\u001b[1;32m-> 1088\u001b[0m \u001b[38;5;28;01mwhile\u001b[39;00m \u001b[38;5;28mself\u001b[39m\u001b[38;5;241m.\u001b[39mdispatch_one_batch(iterator):\n\u001b[0;32m   1089\u001b[0m     \u001b[38;5;28;01mpass\u001b[39;00m\n\u001b[0;32m   1091\u001b[0m \u001b[38;5;28;01mif\u001b[39;00m pre_dispatch \u001b[38;5;241m==\u001b[39m \u001b[38;5;124m\"\u001b[39m\u001b[38;5;124mall\u001b[39m\u001b[38;5;124m\"\u001b[39m \u001b[38;5;129;01mor\u001b[39;00m n_jobs \u001b[38;5;241m==\u001b[39m \u001b[38;5;241m1\u001b[39m:\n\u001b[0;32m   1092\u001b[0m     \u001b[38;5;66;03m# The iterable was consumed all at once by the above for loop.\u001b[39;00m\n\u001b[0;32m   1093\u001b[0m     \u001b[38;5;66;03m# No need to wait for async callbacks to trigger to\u001b[39;00m\n\u001b[0;32m   1094\u001b[0m     \u001b[38;5;66;03m# consumption.\u001b[39;00m\n",
      "File \u001b[1;32m~\\anaconda3\\Lib\\site-packages\\joblib\\parallel.py:901\u001b[0m, in \u001b[0;36mParallel.dispatch_one_batch\u001b[1;34m(self, iterator)\u001b[0m\n\u001b[0;32m    899\u001b[0m     \u001b[38;5;28;01mreturn\u001b[39;00m \u001b[38;5;28;01mFalse\u001b[39;00m\n\u001b[0;32m    900\u001b[0m \u001b[38;5;28;01melse\u001b[39;00m:\n\u001b[1;32m--> 901\u001b[0m     \u001b[38;5;28mself\u001b[39m\u001b[38;5;241m.\u001b[39m_dispatch(tasks)\n\u001b[0;32m    902\u001b[0m     \u001b[38;5;28;01mreturn\u001b[39;00m \u001b[38;5;28;01mTrue\u001b[39;00m\n",
      "File \u001b[1;32m~\\anaconda3\\Lib\\site-packages\\joblib\\parallel.py:819\u001b[0m, in \u001b[0;36mParallel._dispatch\u001b[1;34m(self, batch)\u001b[0m\n\u001b[0;32m    817\u001b[0m \u001b[38;5;28;01mwith\u001b[39;00m \u001b[38;5;28mself\u001b[39m\u001b[38;5;241m.\u001b[39m_lock:\n\u001b[0;32m    818\u001b[0m     job_idx \u001b[38;5;241m=\u001b[39m \u001b[38;5;28mlen\u001b[39m(\u001b[38;5;28mself\u001b[39m\u001b[38;5;241m.\u001b[39m_jobs)\n\u001b[1;32m--> 819\u001b[0m     job \u001b[38;5;241m=\u001b[39m \u001b[38;5;28mself\u001b[39m\u001b[38;5;241m.\u001b[39m_backend\u001b[38;5;241m.\u001b[39mapply_async(batch, callback\u001b[38;5;241m=\u001b[39mcb)\n\u001b[0;32m    820\u001b[0m     \u001b[38;5;66;03m# A job can complete so quickly than its callback is\u001b[39;00m\n\u001b[0;32m    821\u001b[0m     \u001b[38;5;66;03m# called before we get here, causing self._jobs to\u001b[39;00m\n\u001b[0;32m    822\u001b[0m     \u001b[38;5;66;03m# grow. To ensure correct results ordering, .insert is\u001b[39;00m\n\u001b[0;32m    823\u001b[0m     \u001b[38;5;66;03m# used (rather than .append) in the following line\u001b[39;00m\n\u001b[0;32m    824\u001b[0m     \u001b[38;5;28mself\u001b[39m\u001b[38;5;241m.\u001b[39m_jobs\u001b[38;5;241m.\u001b[39minsert(job_idx, job)\n",
      "File \u001b[1;32m~\\anaconda3\\Lib\\site-packages\\joblib\\_parallel_backends.py:208\u001b[0m, in \u001b[0;36mSequentialBackend.apply_async\u001b[1;34m(self, func, callback)\u001b[0m\n\u001b[0;32m    206\u001b[0m \u001b[38;5;28;01mdef\u001b[39;00m \u001b[38;5;21mapply_async\u001b[39m(\u001b[38;5;28mself\u001b[39m, func, callback\u001b[38;5;241m=\u001b[39m\u001b[38;5;28;01mNone\u001b[39;00m):\n\u001b[0;32m    207\u001b[0m \u001b[38;5;250m    \u001b[39m\u001b[38;5;124;03m\"\"\"Schedule a func to be run\"\"\"\u001b[39;00m\n\u001b[1;32m--> 208\u001b[0m     result \u001b[38;5;241m=\u001b[39m ImmediateResult(func)\n\u001b[0;32m    209\u001b[0m     \u001b[38;5;28;01mif\u001b[39;00m callback:\n\u001b[0;32m    210\u001b[0m         callback(result)\n",
      "File \u001b[1;32m~\\anaconda3\\Lib\\site-packages\\joblib\\_parallel_backends.py:597\u001b[0m, in \u001b[0;36mImmediateResult.__init__\u001b[1;34m(self, batch)\u001b[0m\n\u001b[0;32m    594\u001b[0m \u001b[38;5;28;01mdef\u001b[39;00m \u001b[38;5;21m__init__\u001b[39m(\u001b[38;5;28mself\u001b[39m, batch):\n\u001b[0;32m    595\u001b[0m     \u001b[38;5;66;03m# Don't delay the application, to avoid keeping the input\u001b[39;00m\n\u001b[0;32m    596\u001b[0m     \u001b[38;5;66;03m# arguments in memory\u001b[39;00m\n\u001b[1;32m--> 597\u001b[0m     \u001b[38;5;28mself\u001b[39m\u001b[38;5;241m.\u001b[39mresults \u001b[38;5;241m=\u001b[39m batch()\n",
      "File \u001b[1;32m~\\anaconda3\\Lib\\site-packages\\joblib\\parallel.py:288\u001b[0m, in \u001b[0;36mBatchedCalls.__call__\u001b[1;34m(self)\u001b[0m\n\u001b[0;32m    284\u001b[0m \u001b[38;5;28;01mdef\u001b[39;00m \u001b[38;5;21m__call__\u001b[39m(\u001b[38;5;28mself\u001b[39m):\n\u001b[0;32m    285\u001b[0m     \u001b[38;5;66;03m# Set the default nested backend to self._backend but do not set the\u001b[39;00m\n\u001b[0;32m    286\u001b[0m     \u001b[38;5;66;03m# change the default number of processes to -1\u001b[39;00m\n\u001b[0;32m    287\u001b[0m     \u001b[38;5;28;01mwith\u001b[39;00m parallel_backend(\u001b[38;5;28mself\u001b[39m\u001b[38;5;241m.\u001b[39m_backend, n_jobs\u001b[38;5;241m=\u001b[39m\u001b[38;5;28mself\u001b[39m\u001b[38;5;241m.\u001b[39m_n_jobs):\n\u001b[1;32m--> 288\u001b[0m         \u001b[38;5;28;01mreturn\u001b[39;00m [func(\u001b[38;5;241m*\u001b[39margs, \u001b[38;5;241m*\u001b[39m\u001b[38;5;241m*\u001b[39mkwargs)\n\u001b[0;32m    289\u001b[0m                 \u001b[38;5;28;01mfor\u001b[39;00m func, args, kwargs \u001b[38;5;129;01min\u001b[39;00m \u001b[38;5;28mself\u001b[39m\u001b[38;5;241m.\u001b[39mitems]\n",
      "File \u001b[1;32m~\\anaconda3\\Lib\\site-packages\\joblib\\parallel.py:288\u001b[0m, in \u001b[0;36m<listcomp>\u001b[1;34m(.0)\u001b[0m\n\u001b[0;32m    284\u001b[0m \u001b[38;5;28;01mdef\u001b[39;00m \u001b[38;5;21m__call__\u001b[39m(\u001b[38;5;28mself\u001b[39m):\n\u001b[0;32m    285\u001b[0m     \u001b[38;5;66;03m# Set the default nested backend to self._backend but do not set the\u001b[39;00m\n\u001b[0;32m    286\u001b[0m     \u001b[38;5;66;03m# change the default number of processes to -1\u001b[39;00m\n\u001b[0;32m    287\u001b[0m     \u001b[38;5;28;01mwith\u001b[39;00m parallel_backend(\u001b[38;5;28mself\u001b[39m\u001b[38;5;241m.\u001b[39m_backend, n_jobs\u001b[38;5;241m=\u001b[39m\u001b[38;5;28mself\u001b[39m\u001b[38;5;241m.\u001b[39m_n_jobs):\n\u001b[1;32m--> 288\u001b[0m         \u001b[38;5;28;01mreturn\u001b[39;00m [func(\u001b[38;5;241m*\u001b[39margs, \u001b[38;5;241m*\u001b[39m\u001b[38;5;241m*\u001b[39mkwargs)\n\u001b[0;32m    289\u001b[0m                 \u001b[38;5;28;01mfor\u001b[39;00m func, args, kwargs \u001b[38;5;129;01min\u001b[39;00m \u001b[38;5;28mself\u001b[39m\u001b[38;5;241m.\u001b[39mitems]\n",
      "File \u001b[1;32m~\\anaconda3\\Lib\\site-packages\\sklearn\\utils\\parallel.py:123\u001b[0m, in \u001b[0;36m_FuncWrapper.__call__\u001b[1;34m(self, *args, **kwargs)\u001b[0m\n\u001b[0;32m    121\u001b[0m     config \u001b[38;5;241m=\u001b[39m {}\n\u001b[0;32m    122\u001b[0m \u001b[38;5;28;01mwith\u001b[39;00m config_context(\u001b[38;5;241m*\u001b[39m\u001b[38;5;241m*\u001b[39mconfig):\n\u001b[1;32m--> 123\u001b[0m     \u001b[38;5;28;01mreturn\u001b[39;00m \u001b[38;5;28mself\u001b[39m\u001b[38;5;241m.\u001b[39mfunction(\u001b[38;5;241m*\u001b[39margs, \u001b[38;5;241m*\u001b[39m\u001b[38;5;241m*\u001b[39mkwargs)\n",
      "File \u001b[1;32m~\\anaconda3\\Lib\\site-packages\\sklearn\\model_selection\\_validation.py:1068\u001b[0m, in \u001b[0;36m_fit_and_predict\u001b[1;34m(estimator, X, y, train, test, verbose, fit_params, method)\u001b[0m\n\u001b[0;32m   1066\u001b[0m     estimator\u001b[38;5;241m.\u001b[39mfit(X_train, \u001b[38;5;241m*\u001b[39m\u001b[38;5;241m*\u001b[39mfit_params)\n\u001b[0;32m   1067\u001b[0m \u001b[38;5;28;01melse\u001b[39;00m:\n\u001b[1;32m-> 1068\u001b[0m     estimator\u001b[38;5;241m.\u001b[39mfit(X_train, y_train, \u001b[38;5;241m*\u001b[39m\u001b[38;5;241m*\u001b[39mfit_params)\n\u001b[0;32m   1069\u001b[0m func \u001b[38;5;241m=\u001b[39m \u001b[38;5;28mgetattr\u001b[39m(estimator, method)\n\u001b[0;32m   1070\u001b[0m predictions \u001b[38;5;241m=\u001b[39m func(X_test)\n",
      "File \u001b[1;32m~\\anaconda3\\Lib\\site-packages\\sklearn\\ensemble\\_gb.py:538\u001b[0m, in \u001b[0;36mBaseGradientBoosting.fit\u001b[1;34m(self, X, y, sample_weight, monitor)\u001b[0m\n\u001b[0;32m    535\u001b[0m     \u001b[38;5;28mself\u001b[39m\u001b[38;5;241m.\u001b[39m_resize_state()\n\u001b[0;32m    537\u001b[0m \u001b[38;5;66;03m# fit the boosting stages\u001b[39;00m\n\u001b[1;32m--> 538\u001b[0m n_stages \u001b[38;5;241m=\u001b[39m \u001b[38;5;28mself\u001b[39m\u001b[38;5;241m.\u001b[39m_fit_stages(\n\u001b[0;32m    539\u001b[0m     X,\n\u001b[0;32m    540\u001b[0m     y,\n\u001b[0;32m    541\u001b[0m     raw_predictions,\n\u001b[0;32m    542\u001b[0m     sample_weight,\n\u001b[0;32m    543\u001b[0m     \u001b[38;5;28mself\u001b[39m\u001b[38;5;241m.\u001b[39m_rng,\n\u001b[0;32m    544\u001b[0m     X_val,\n\u001b[0;32m    545\u001b[0m     y_val,\n\u001b[0;32m    546\u001b[0m     sample_weight_val,\n\u001b[0;32m    547\u001b[0m     begin_at_stage,\n\u001b[0;32m    548\u001b[0m     monitor,\n\u001b[0;32m    549\u001b[0m )\n\u001b[0;32m    551\u001b[0m \u001b[38;5;66;03m# change shape of arrays after fit (early-stopping or additional ests)\u001b[39;00m\n\u001b[0;32m    552\u001b[0m \u001b[38;5;28;01mif\u001b[39;00m n_stages \u001b[38;5;241m!=\u001b[39m \u001b[38;5;28mself\u001b[39m\u001b[38;5;241m.\u001b[39mestimators_\u001b[38;5;241m.\u001b[39mshape[\u001b[38;5;241m0\u001b[39m]:\n",
      "File \u001b[1;32m~\\anaconda3\\Lib\\site-packages\\sklearn\\ensemble\\_gb.py:615\u001b[0m, in \u001b[0;36mBaseGradientBoosting._fit_stages\u001b[1;34m(self, X, y, raw_predictions, sample_weight, random_state, X_val, y_val, sample_weight_val, begin_at_stage, monitor)\u001b[0m\n\u001b[0;32m    608\u001b[0m     old_oob_score \u001b[38;5;241m=\u001b[39m loss_(\n\u001b[0;32m    609\u001b[0m         y[\u001b[38;5;241m~\u001b[39msample_mask],\n\u001b[0;32m    610\u001b[0m         raw_predictions[\u001b[38;5;241m~\u001b[39msample_mask],\n\u001b[0;32m    611\u001b[0m         sample_weight[\u001b[38;5;241m~\u001b[39msample_mask],\n\u001b[0;32m    612\u001b[0m     )\n\u001b[0;32m    614\u001b[0m \u001b[38;5;66;03m# fit next stage of trees\u001b[39;00m\n\u001b[1;32m--> 615\u001b[0m raw_predictions \u001b[38;5;241m=\u001b[39m \u001b[38;5;28mself\u001b[39m\u001b[38;5;241m.\u001b[39m_fit_stage(\n\u001b[0;32m    616\u001b[0m     i,\n\u001b[0;32m    617\u001b[0m     X,\n\u001b[0;32m    618\u001b[0m     y,\n\u001b[0;32m    619\u001b[0m     raw_predictions,\n\u001b[0;32m    620\u001b[0m     sample_weight,\n\u001b[0;32m    621\u001b[0m     sample_mask,\n\u001b[0;32m    622\u001b[0m     random_state,\n\u001b[0;32m    623\u001b[0m     X_csc,\n\u001b[0;32m    624\u001b[0m     X_csr,\n\u001b[0;32m    625\u001b[0m )\n\u001b[0;32m    627\u001b[0m \u001b[38;5;66;03m# track deviance (= loss)\u001b[39;00m\n\u001b[0;32m    628\u001b[0m \u001b[38;5;28;01mif\u001b[39;00m do_oob:\n",
      "File \u001b[1;32m~\\anaconda3\\Lib\\site-packages\\sklearn\\ensemble\\_gb.py:257\u001b[0m, in \u001b[0;36mBaseGradientBoosting._fit_stage\u001b[1;34m(self, i, X, y, raw_predictions, sample_weight, sample_mask, random_state, X_csc, X_csr)\u001b[0m\n\u001b[0;32m    254\u001b[0m     sample_weight \u001b[38;5;241m=\u001b[39m sample_weight \u001b[38;5;241m*\u001b[39m sample_mask\u001b[38;5;241m.\u001b[39mastype(np\u001b[38;5;241m.\u001b[39mfloat64)\n\u001b[0;32m    256\u001b[0m X \u001b[38;5;241m=\u001b[39m X_csr \u001b[38;5;28;01mif\u001b[39;00m X_csr \u001b[38;5;129;01mis\u001b[39;00m \u001b[38;5;129;01mnot\u001b[39;00m \u001b[38;5;28;01mNone\u001b[39;00m \u001b[38;5;28;01melse\u001b[39;00m X\n\u001b[1;32m--> 257\u001b[0m tree\u001b[38;5;241m.\u001b[39mfit(X, residual, sample_weight\u001b[38;5;241m=\u001b[39msample_weight, check_input\u001b[38;5;241m=\u001b[39m\u001b[38;5;28;01mFalse\u001b[39;00m)\n\u001b[0;32m    259\u001b[0m \u001b[38;5;66;03m# update tree leaves\u001b[39;00m\n\u001b[0;32m    260\u001b[0m loss\u001b[38;5;241m.\u001b[39mupdate_terminal_regions(\n\u001b[0;32m    261\u001b[0m     tree\u001b[38;5;241m.\u001b[39mtree_,\n\u001b[0;32m    262\u001b[0m     X,\n\u001b[1;32m   (...)\u001b[0m\n\u001b[0;32m    269\u001b[0m     k\u001b[38;5;241m=\u001b[39mk,\n\u001b[0;32m    270\u001b[0m )\n",
      "File \u001b[1;32m~\\anaconda3\\Lib\\site-packages\\sklearn\\tree\\_classes.py:1247\u001b[0m, in \u001b[0;36mDecisionTreeRegressor.fit\u001b[1;34m(self, X, y, sample_weight, check_input)\u001b[0m\n\u001b[0;32m   1218\u001b[0m \u001b[38;5;28;01mdef\u001b[39;00m \u001b[38;5;21mfit\u001b[39m(\u001b[38;5;28mself\u001b[39m, X, y, sample_weight\u001b[38;5;241m=\u001b[39m\u001b[38;5;28;01mNone\u001b[39;00m, check_input\u001b[38;5;241m=\u001b[39m\u001b[38;5;28;01mTrue\u001b[39;00m):\n\u001b[0;32m   1219\u001b[0m \u001b[38;5;250m    \u001b[39m\u001b[38;5;124;03m\"\"\"Build a decision tree regressor from the training set (X, y).\u001b[39;00m\n\u001b[0;32m   1220\u001b[0m \n\u001b[0;32m   1221\u001b[0m \u001b[38;5;124;03m    Parameters\u001b[39;00m\n\u001b[1;32m   (...)\u001b[0m\n\u001b[0;32m   1244\u001b[0m \u001b[38;5;124;03m        Fitted estimator.\u001b[39;00m\n\u001b[0;32m   1245\u001b[0m \u001b[38;5;124;03m    \"\"\"\u001b[39;00m\n\u001b[1;32m-> 1247\u001b[0m     \u001b[38;5;28msuper\u001b[39m()\u001b[38;5;241m.\u001b[39mfit(\n\u001b[0;32m   1248\u001b[0m         X,\n\u001b[0;32m   1249\u001b[0m         y,\n\u001b[0;32m   1250\u001b[0m         sample_weight\u001b[38;5;241m=\u001b[39msample_weight,\n\u001b[0;32m   1251\u001b[0m         check_input\u001b[38;5;241m=\u001b[39mcheck_input,\n\u001b[0;32m   1252\u001b[0m     )\n\u001b[0;32m   1253\u001b[0m     \u001b[38;5;28;01mreturn\u001b[39;00m \u001b[38;5;28mself\u001b[39m\n",
      "File \u001b[1;32m~\\anaconda3\\Lib\\site-packages\\sklearn\\tree\\_classes.py:379\u001b[0m, in \u001b[0;36mBaseDecisionTree.fit\u001b[1;34m(self, X, y, sample_weight, check_input)\u001b[0m\n\u001b[0;32m    368\u001b[0m \u001b[38;5;28;01melse\u001b[39;00m:\n\u001b[0;32m    369\u001b[0m     builder \u001b[38;5;241m=\u001b[39m BestFirstTreeBuilder(\n\u001b[0;32m    370\u001b[0m         splitter,\n\u001b[0;32m    371\u001b[0m         min_samples_split,\n\u001b[1;32m   (...)\u001b[0m\n\u001b[0;32m    376\u001b[0m         \u001b[38;5;28mself\u001b[39m\u001b[38;5;241m.\u001b[39mmin_impurity_decrease,\n\u001b[0;32m    377\u001b[0m     )\n\u001b[1;32m--> 379\u001b[0m builder\u001b[38;5;241m.\u001b[39mbuild(\u001b[38;5;28mself\u001b[39m\u001b[38;5;241m.\u001b[39mtree_, X, y, sample_weight)\n\u001b[0;32m    381\u001b[0m \u001b[38;5;28;01mif\u001b[39;00m \u001b[38;5;28mself\u001b[39m\u001b[38;5;241m.\u001b[39mn_outputs_ \u001b[38;5;241m==\u001b[39m \u001b[38;5;241m1\u001b[39m \u001b[38;5;129;01mand\u001b[39;00m is_classifier(\u001b[38;5;28mself\u001b[39m):\n\u001b[0;32m    382\u001b[0m     \u001b[38;5;28mself\u001b[39m\u001b[38;5;241m.\u001b[39mn_classes_ \u001b[38;5;241m=\u001b[39m \u001b[38;5;28mself\u001b[39m\u001b[38;5;241m.\u001b[39mn_classes_[\u001b[38;5;241m0\u001b[39m]\n",
      "\u001b[1;31mKeyboardInterrupt\u001b[0m: "
     ]
    }
   ],
   "source": [
    "#sklearn.ensemble.GradientBoostingClassifier(*, loss='log_loss', learning_rate=0.1, n_estimators=100, subsample=1.0, criterion='friedman_mse', min_samples_split=2, min_samples_leaf=1, min_weight_fraction_leaf=0.0, max_depth=3, min_impurity_decrease=0.0, init=None, random_state=None, max_features=None, verbose=0, max_leaf_nodes=None, warm_start=False, validation_fraction=0.1, n_iter_no_change=None, tol=0.0001, ccp_alpha=0.0)\n",
    "#prend trop de temps\n",
    "\n",
    "# Gradient Boosting : cross validation 10 folds\n",
    "\n",
    "GB = GradientBoostingClassifier()\n",
    "cv = StratifiedKFold(n_splits=10)\n",
    "y_pred_corr_ho_gb = cross_val_predict(GB, X_train_ho, y_train_ho, cv = cv)"
   ]
  },
  {
   "cell_type": "code",
   "execution_count": null,
   "id": "0bb3aecb-3fd7-49a7-83b3-5e1625cb8f83",
   "metadata": {},
   "outputs": [],
   "source": [
    "# Matrice de confusion\n",
    "\n",
    "conf_matrix_corr_ho_gb = confusion_matrix(y_train_ho, y_pred_corr_ho_gb)\n",
    "\n",
    "disp = ConfusionMatrixDisplay(conf_matrix_corr_ho_gb, display_labels=[\"ASD\",\"TD\"])\n",
    "disp.plot()\n",
    "plt.show()"
   ]
  },
  {
   "cell_type": "code",
   "execution_count": null,
   "id": "87d0503f-1c02-435f-8e26-1bade15e60e7",
   "metadata": {},
   "outputs": [],
   "source": [
    "#Affichage des métriques\n",
    "\n",
    "# Calcul de l'accuracy\n",
    "accuracy_corr_ho_gb = accuracy_score(y_train_ho, y_pred_corr_ho_gb)\n",
    "print(\"Accuracy : \", round(accuracy_corr_ho_gb,3))\n",
    "\n",
    "# Calcul de la sensitivité\n",
    "sensitivity_corr_ho_gb = conf_matrix_corr_ho_gb[1,1] / (conf_matrix_corr_ho_gb[1,0] + conf_matrix_corr_ho_gb[1,1])\n",
    "print(\"Sensitivité : \", round(sensitivity_corr_ho_gb,3))\n",
    "\n",
    "# Calcul de la spécificité\n",
    "specificity_corr_ho_gb = conf_matrix_corr_ho_gb[0,0] / (conf_matrix_corr_ho_gb[0,0] + conf_matrix_corr_ho_gb[0,1])\n",
    "print(\"Spécificité : \", round(specificity_corr_ho_gb,3))\n",
    "\n",
    "# Calcul du classification report\n",
    "class_report_corr_ho_gb = classification_report(y_train_ho, y_pred_corr_ho_gb)\n",
    "print(\"Classification Report :\\n\", class_report_corr_ho_gb)"
   ]
  },
  {
   "cell_type": "markdown",
   "id": "c50b90a0-286f-46a9-be40-f98680cc2fa0",
   "metadata": {
    "jp-MarkdownHeadingCollapsed": true
   },
   "source": [
    "#### ML : 500 sujets - Corrélation - Atlas Destrieux - LR/GNB/kSVM/RF"
   ]
  },
  {
   "cell_type": "markdown",
   "id": "eea90aa8-a66f-4dd9-b01e-1c36092e6d4f",
   "metadata": {
    "jp-MarkdownHeadingCollapsed": true
   },
   "source": [
    "##### Création base d'entraînement et base de test"
   ]
  },
  {
   "cell_type": "code",
   "execution_count": 264,
   "id": "a9bb99bb-4f46-4d92-b6fc-8e6cd7b64da6",
   "metadata": {},
   "outputs": [
    {
     "name": "stdout",
     "output_type": "stream",
     "text": [
      "training: 375 testing: 125\n",
      "Train : DX_GROUP\n",
      "2    194\n",
      "1    181\n",
      "Name: count, dtype: int64\n",
      "Test DX_GROUP\n",
      "2    64\n",
      "1    61\n",
      "Name: count, dtype: int64\n"
     ]
    }
   ],
   "source": [
    "X_train_destrieux, X_test_destrieux, y_train_destrieux, y_test_destrieux = train_test_split(X_features_corr_destrieux,\n",
    "                                                    y_diagnostic,\n",
    "                                                    test_size = 0.25,\n",
    "                                                    shuffle = True,\n",
    "                                                    stratify = y_diagnostic,\n",
    "                                                    random_state = 123)\n",
    "\n",
    "# print the size of our training and test groups\n",
    "print('training:', len(X_train_destrieux),\n",
    "     'testing:', len(X_test_destrieux))\n",
    "\n",
    "print(\"Train :\", y_train_destrieux.value_counts())\n",
    "print(\"Test\", y_test_destrieux.value_counts())"
   ]
  },
  {
   "cell_type": "markdown",
   "id": "6330aff6-3232-4f39-80ae-e1347f36e107",
   "metadata": {
    "jp-MarkdownHeadingCollapsed": true
   },
   "source": [
    "##### Régression logistique"
   ]
  },
  {
   "cell_type": "code",
   "execution_count": 83,
   "id": "4c95b399-23d8-4a69-a5f4-d7b3c8fe9c6d",
   "metadata": {
    "scrolled": true
   },
   "outputs": [
    {
     "name": "stderr",
     "output_type": "stream",
     "text": [
      "C:\\Users\\elodi\\anaconda3\\Lib\\site-packages\\sklearn\\linear_model\\_logistic.py:458: ConvergenceWarning: lbfgs failed to converge (status=1):\n",
      "STOP: TOTAL NO. of ITERATIONS REACHED LIMIT.\n",
      "\n",
      "Increase the number of iterations (max_iter) or scale the data as shown in:\n",
      "    https://scikit-learn.org/stable/modules/preprocessing.html\n",
      "Please also refer to the documentation for alternative solver options:\n",
      "    https://scikit-learn.org/stable/modules/linear_model.html#logistic-regression\n",
      "  n_iter_i = _check_optimize_result(\n",
      "C:\\Users\\elodi\\anaconda3\\Lib\\site-packages\\sklearn\\linear_model\\_logistic.py:458: ConvergenceWarning: lbfgs failed to converge (status=1):\n",
      "STOP: TOTAL NO. of ITERATIONS REACHED LIMIT.\n",
      "\n",
      "Increase the number of iterations (max_iter) or scale the data as shown in:\n",
      "    https://scikit-learn.org/stable/modules/preprocessing.html\n",
      "Please also refer to the documentation for alternative solver options:\n",
      "    https://scikit-learn.org/stable/modules/linear_model.html#logistic-regression\n",
      "  n_iter_i = _check_optimize_result(\n",
      "C:\\Users\\elodi\\anaconda3\\Lib\\site-packages\\sklearn\\linear_model\\_logistic.py:458: ConvergenceWarning: lbfgs failed to converge (status=1):\n",
      "STOP: TOTAL NO. of ITERATIONS REACHED LIMIT.\n",
      "\n",
      "Increase the number of iterations (max_iter) or scale the data as shown in:\n",
      "    https://scikit-learn.org/stable/modules/preprocessing.html\n",
      "Please also refer to the documentation for alternative solver options:\n",
      "    https://scikit-learn.org/stable/modules/linear_model.html#logistic-regression\n",
      "  n_iter_i = _check_optimize_result(\n",
      "C:\\Users\\elodi\\anaconda3\\Lib\\site-packages\\sklearn\\linear_model\\_logistic.py:458: ConvergenceWarning: lbfgs failed to converge (status=1):\n",
      "STOP: TOTAL NO. of ITERATIONS REACHED LIMIT.\n",
      "\n",
      "Increase the number of iterations (max_iter) or scale the data as shown in:\n",
      "    https://scikit-learn.org/stable/modules/preprocessing.html\n",
      "Please also refer to the documentation for alternative solver options:\n",
      "    https://scikit-learn.org/stable/modules/linear_model.html#logistic-regression\n",
      "  n_iter_i = _check_optimize_result(\n",
      "C:\\Users\\elodi\\anaconda3\\Lib\\site-packages\\sklearn\\linear_model\\_logistic.py:458: ConvergenceWarning: lbfgs failed to converge (status=1):\n",
      "STOP: TOTAL NO. of ITERATIONS REACHED LIMIT.\n",
      "\n",
      "Increase the number of iterations (max_iter) or scale the data as shown in:\n",
      "    https://scikit-learn.org/stable/modules/preprocessing.html\n",
      "Please also refer to the documentation for alternative solver options:\n",
      "    https://scikit-learn.org/stable/modules/linear_model.html#logistic-regression\n",
      "  n_iter_i = _check_optimize_result(\n",
      "C:\\Users\\elodi\\anaconda3\\Lib\\site-packages\\sklearn\\linear_model\\_logistic.py:458: ConvergenceWarning: lbfgs failed to converge (status=1):\n",
      "STOP: TOTAL NO. of ITERATIONS REACHED LIMIT.\n",
      "\n",
      "Increase the number of iterations (max_iter) or scale the data as shown in:\n",
      "    https://scikit-learn.org/stable/modules/preprocessing.html\n",
      "Please also refer to the documentation for alternative solver options:\n",
      "    https://scikit-learn.org/stable/modules/linear_model.html#logistic-regression\n",
      "  n_iter_i = _check_optimize_result(\n",
      "C:\\Users\\elodi\\anaconda3\\Lib\\site-packages\\sklearn\\linear_model\\_logistic.py:458: ConvergenceWarning: lbfgs failed to converge (status=1):\n",
      "STOP: TOTAL NO. of ITERATIONS REACHED LIMIT.\n",
      "\n",
      "Increase the number of iterations (max_iter) or scale the data as shown in:\n",
      "    https://scikit-learn.org/stable/modules/preprocessing.html\n",
      "Please also refer to the documentation for alternative solver options:\n",
      "    https://scikit-learn.org/stable/modules/linear_model.html#logistic-regression\n",
      "  n_iter_i = _check_optimize_result(\n",
      "C:\\Users\\elodi\\anaconda3\\Lib\\site-packages\\sklearn\\linear_model\\_logistic.py:458: ConvergenceWarning: lbfgs failed to converge (status=1):\n",
      "STOP: TOTAL NO. of ITERATIONS REACHED LIMIT.\n",
      "\n",
      "Increase the number of iterations (max_iter) or scale the data as shown in:\n",
      "    https://scikit-learn.org/stable/modules/preprocessing.html\n",
      "Please also refer to the documentation for alternative solver options:\n",
      "    https://scikit-learn.org/stable/modules/linear_model.html#logistic-regression\n",
      "  n_iter_i = _check_optimize_result(\n",
      "C:\\Users\\elodi\\anaconda3\\Lib\\site-packages\\sklearn\\linear_model\\_logistic.py:458: ConvergenceWarning: lbfgs failed to converge (status=1):\n",
      "STOP: TOTAL NO. of ITERATIONS REACHED LIMIT.\n",
      "\n",
      "Increase the number of iterations (max_iter) or scale the data as shown in:\n",
      "    https://scikit-learn.org/stable/modules/preprocessing.html\n",
      "Please also refer to the documentation for alternative solver options:\n",
      "    https://scikit-learn.org/stable/modules/linear_model.html#logistic-regression\n",
      "  n_iter_i = _check_optimize_result(\n",
      "C:\\Users\\elodi\\anaconda3\\Lib\\site-packages\\sklearn\\linear_model\\_logistic.py:458: ConvergenceWarning: lbfgs failed to converge (status=1):\n",
      "STOP: TOTAL NO. of ITERATIONS REACHED LIMIT.\n",
      "\n",
      "Increase the number of iterations (max_iter) or scale the data as shown in:\n",
      "    https://scikit-learn.org/stable/modules/preprocessing.html\n",
      "Please also refer to the documentation for alternative solver options:\n",
      "    https://scikit-learn.org/stable/modules/linear_model.html#logistic-regression\n",
      "  n_iter_i = _check_optimize_result(\n",
      "C:\\Users\\elodi\\anaconda3\\Lib\\site-packages\\sklearn\\linear_model\\_logistic.py:458: ConvergenceWarning: lbfgs failed to converge (status=1):\n",
      "STOP: TOTAL NO. of ITERATIONS REACHED LIMIT.\n",
      "\n",
      "Increase the number of iterations (max_iter) or scale the data as shown in:\n",
      "    https://scikit-learn.org/stable/modules/preprocessing.html\n",
      "Please also refer to the documentation for alternative solver options:\n",
      "    https://scikit-learn.org/stable/modules/linear_model.html#logistic-regression\n",
      "  n_iter_i = _check_optimize_result(\n",
      "C:\\Users\\elodi\\anaconda3\\Lib\\site-packages\\sklearn\\linear_model\\_logistic.py:458: ConvergenceWarning: lbfgs failed to converge (status=1):\n",
      "STOP: TOTAL NO. of ITERATIONS REACHED LIMIT.\n",
      "\n",
      "Increase the number of iterations (max_iter) or scale the data as shown in:\n",
      "    https://scikit-learn.org/stable/modules/preprocessing.html\n",
      "Please also refer to the documentation for alternative solver options:\n",
      "    https://scikit-learn.org/stable/modules/linear_model.html#logistic-regression\n",
      "  n_iter_i = _check_optimize_result(\n",
      "C:\\Users\\elodi\\anaconda3\\Lib\\site-packages\\sklearn\\linear_model\\_logistic.py:458: ConvergenceWarning: lbfgs failed to converge (status=1):\n",
      "STOP: TOTAL NO. of ITERATIONS REACHED LIMIT.\n",
      "\n",
      "Increase the number of iterations (max_iter) or scale the data as shown in:\n",
      "    https://scikit-learn.org/stable/modules/preprocessing.html\n",
      "Please also refer to the documentation for alternative solver options:\n",
      "    https://scikit-learn.org/stable/modules/linear_model.html#logistic-regression\n",
      "  n_iter_i = _check_optimize_result(\n",
      "C:\\Users\\elodi\\anaconda3\\Lib\\site-packages\\sklearn\\linear_model\\_logistic.py:458: ConvergenceWarning: lbfgs failed to converge (status=1):\n",
      "STOP: TOTAL NO. of ITERATIONS REACHED LIMIT.\n",
      "\n",
      "Increase the number of iterations (max_iter) or scale the data as shown in:\n",
      "    https://scikit-learn.org/stable/modules/preprocessing.html\n",
      "Please also refer to the documentation for alternative solver options:\n",
      "    https://scikit-learn.org/stable/modules/linear_model.html#logistic-regression\n",
      "  n_iter_i = _check_optimize_result(\n",
      "C:\\Users\\elodi\\anaconda3\\Lib\\site-packages\\sklearn\\linear_model\\_logistic.py:458: ConvergenceWarning: lbfgs failed to converge (status=1):\n",
      "STOP: TOTAL NO. of ITERATIONS REACHED LIMIT.\n",
      "\n",
      "Increase the number of iterations (max_iter) or scale the data as shown in:\n",
      "    https://scikit-learn.org/stable/modules/preprocessing.html\n",
      "Please also refer to the documentation for alternative solver options:\n",
      "    https://scikit-learn.org/stable/modules/linear_model.html#logistic-regression\n",
      "  n_iter_i = _check_optimize_result(\n",
      "C:\\Users\\elodi\\anaconda3\\Lib\\site-packages\\sklearn\\linear_model\\_logistic.py:458: ConvergenceWarning: lbfgs failed to converge (status=1):\n",
      "STOP: TOTAL NO. of ITERATIONS REACHED LIMIT.\n",
      "\n",
      "Increase the number of iterations (max_iter) or scale the data as shown in:\n",
      "    https://scikit-learn.org/stable/modules/preprocessing.html\n",
      "Please also refer to the documentation for alternative solver options:\n",
      "    https://scikit-learn.org/stable/modules/linear_model.html#logistic-regression\n",
      "  n_iter_i = _check_optimize_result(\n",
      "C:\\Users\\elodi\\anaconda3\\Lib\\site-packages\\sklearn\\linear_model\\_logistic.py:458: ConvergenceWarning: lbfgs failed to converge (status=1):\n",
      "STOP: TOTAL NO. of ITERATIONS REACHED LIMIT.\n",
      "\n",
      "Increase the number of iterations (max_iter) or scale the data as shown in:\n",
      "    https://scikit-learn.org/stable/modules/preprocessing.html\n",
      "Please also refer to the documentation for alternative solver options:\n",
      "    https://scikit-learn.org/stable/modules/linear_model.html#logistic-regression\n",
      "  n_iter_i = _check_optimize_result(\n",
      "C:\\Users\\elodi\\anaconda3\\Lib\\site-packages\\sklearn\\linear_model\\_logistic.py:458: ConvergenceWarning: lbfgs failed to converge (status=1):\n",
      "STOP: TOTAL NO. of ITERATIONS REACHED LIMIT.\n",
      "\n",
      "Increase the number of iterations (max_iter) or scale the data as shown in:\n",
      "    https://scikit-learn.org/stable/modules/preprocessing.html\n",
      "Please also refer to the documentation for alternative solver options:\n",
      "    https://scikit-learn.org/stable/modules/linear_model.html#logistic-regression\n",
      "  n_iter_i = _check_optimize_result(\n",
      "C:\\Users\\elodi\\anaconda3\\Lib\\site-packages\\sklearn\\linear_model\\_logistic.py:458: ConvergenceWarning: lbfgs failed to converge (status=1):\n",
      "STOP: TOTAL NO. of ITERATIONS REACHED LIMIT.\n",
      "\n",
      "Increase the number of iterations (max_iter) or scale the data as shown in:\n",
      "    https://scikit-learn.org/stable/modules/preprocessing.html\n",
      "Please also refer to the documentation for alternative solver options:\n",
      "    https://scikit-learn.org/stable/modules/linear_model.html#logistic-regression\n",
      "  n_iter_i = _check_optimize_result(\n",
      "C:\\Users\\elodi\\anaconda3\\Lib\\site-packages\\sklearn\\linear_model\\_logistic.py:458: ConvergenceWarning: lbfgs failed to converge (status=1):\n",
      "STOP: TOTAL NO. of ITERATIONS REACHED LIMIT.\n",
      "\n",
      "Increase the number of iterations (max_iter) or scale the data as shown in:\n",
      "    https://scikit-learn.org/stable/modules/preprocessing.html\n",
      "Please also refer to the documentation for alternative solver options:\n",
      "    https://scikit-learn.org/stable/modules/linear_model.html#logistic-regression\n",
      "  n_iter_i = _check_optimize_result(\n",
      "C:\\Users\\elodi\\anaconda3\\Lib\\site-packages\\sklearn\\model_selection\\_validation.py:378: FitFailedWarning: \n",
      "25 fits failed out of a total of 50.\n",
      "The score on these train-test partitions for these parameters will be set to nan.\n",
      "If these failures are not expected, you can try to debug them by setting error_score='raise'.\n",
      "\n",
      "Below are more details about the failures:\n",
      "--------------------------------------------------------------------------------\n",
      "25 fits failed with the following error:\n",
      "Traceback (most recent call last):\n",
      "  File \"C:\\Users\\elodi\\anaconda3\\Lib\\site-packages\\sklearn\\model_selection\\_validation.py\", line 686, in _fit_and_score\n",
      "    estimator.fit(X_train, y_train, **fit_params)\n",
      "  File \"C:\\Users\\elodi\\anaconda3\\Lib\\site-packages\\sklearn\\linear_model\\_logistic.py\", line 1162, in fit\n",
      "    solver = _check_solver(self.solver, self.penalty, self.dual)\n",
      "             ^^^^^^^^^^^^^^^^^^^^^^^^^^^^^^^^^^^^^^^^^^^^^^^^^^^\n",
      "  File \"C:\\Users\\elodi\\anaconda3\\Lib\\site-packages\\sklearn\\linear_model\\_logistic.py\", line 54, in _check_solver\n",
      "    raise ValueError(\n",
      "ValueError: Solver lbfgs supports only 'l2' or 'none' penalties, got l1 penalty.\n",
      "\n",
      "  warnings.warn(some_fits_failed_message, FitFailedWarning)\n",
      "C:\\Users\\elodi\\anaconda3\\Lib\\site-packages\\sklearn\\model_selection\\_search.py:952: UserWarning: One or more of the test scores are non-finite: [       nan 0.656             nan 0.68              nan 0.69866667\n",
      "        nan 0.69066667        nan 0.69333333]\n",
      "  warnings.warn(\n"
     ]
    },
    {
     "name": "stdout",
     "output_type": "stream",
     "text": [
      "Best parameters for Logistic Regression: {'C': 1, 'penalty': 'l2'}\n"
     ]
    },
    {
     "name": "stderr",
     "output_type": "stream",
     "text": [
      "C:\\Users\\elodi\\anaconda3\\Lib\\site-packages\\sklearn\\linear_model\\_logistic.py:458: ConvergenceWarning: lbfgs failed to converge (status=1):\n",
      "STOP: TOTAL NO. of ITERATIONS REACHED LIMIT.\n",
      "\n",
      "Increase the number of iterations (max_iter) or scale the data as shown in:\n",
      "    https://scikit-learn.org/stable/modules/preprocessing.html\n",
      "Please also refer to the documentation for alternative solver options:\n",
      "    https://scikit-learn.org/stable/modules/linear_model.html#logistic-regression\n",
      "  n_iter_i = _check_optimize_result(\n"
     ]
    }
   ],
   "source": [
    "# Optimisation hyperparamètres\n",
    "\n",
    "param_grid_LR = {'C': [0.01, 0.1, 1, 10, 100],\n",
    "    'penalty': ['l1', 'l2']}\n",
    "\n",
    "LR_opt = LogisticRegression()\n",
    "grid_search_LR = GridSearchCV(LR_opt, param_grid_LR, cv=5, scoring='accuracy')\n",
    "grid_search_LR.fit(X_train_destrieux, y_train_destrieux)\n",
    "\n",
    "print(\"Best parameters for Logistic Regression:\", grid_search_LR.best_params_)"
   ]
  },
  {
   "cell_type": "code",
   "execution_count": 85,
   "id": "7e24b8da-f303-468f-a658-d92b3c65e934",
   "metadata": {
    "scrolled": true
   },
   "outputs": [
    {
     "name": "stderr",
     "output_type": "stream",
     "text": [
      "C:\\Users\\elodi\\anaconda3\\Lib\\site-packages\\sklearn\\linear_model\\_logistic.py:458: ConvergenceWarning: lbfgs failed to converge (status=1):\n",
      "STOP: TOTAL NO. of ITERATIONS REACHED LIMIT.\n",
      "\n",
      "Increase the number of iterations (max_iter) or scale the data as shown in:\n",
      "    https://scikit-learn.org/stable/modules/preprocessing.html\n",
      "Please also refer to the documentation for alternative solver options:\n",
      "    https://scikit-learn.org/stable/modules/linear_model.html#logistic-regression\n",
      "  n_iter_i = _check_optimize_result(\n",
      "C:\\Users\\elodi\\anaconda3\\Lib\\site-packages\\sklearn\\linear_model\\_logistic.py:458: ConvergenceWarning: lbfgs failed to converge (status=1):\n",
      "STOP: TOTAL NO. of ITERATIONS REACHED LIMIT.\n",
      "\n",
      "Increase the number of iterations (max_iter) or scale the data as shown in:\n",
      "    https://scikit-learn.org/stable/modules/preprocessing.html\n",
      "Please also refer to the documentation for alternative solver options:\n",
      "    https://scikit-learn.org/stable/modules/linear_model.html#logistic-regression\n",
      "  n_iter_i = _check_optimize_result(\n",
      "C:\\Users\\elodi\\anaconda3\\Lib\\site-packages\\sklearn\\linear_model\\_logistic.py:458: ConvergenceWarning: lbfgs failed to converge (status=1):\n",
      "STOP: TOTAL NO. of ITERATIONS REACHED LIMIT.\n",
      "\n",
      "Increase the number of iterations (max_iter) or scale the data as shown in:\n",
      "    https://scikit-learn.org/stable/modules/preprocessing.html\n",
      "Please also refer to the documentation for alternative solver options:\n",
      "    https://scikit-learn.org/stable/modules/linear_model.html#logistic-regression\n",
      "  n_iter_i = _check_optimize_result(\n",
      "C:\\Users\\elodi\\anaconda3\\Lib\\site-packages\\sklearn\\linear_model\\_logistic.py:458: ConvergenceWarning: lbfgs failed to converge (status=1):\n",
      "STOP: TOTAL NO. of ITERATIONS REACHED LIMIT.\n",
      "\n",
      "Increase the number of iterations (max_iter) or scale the data as shown in:\n",
      "    https://scikit-learn.org/stable/modules/preprocessing.html\n",
      "Please also refer to the documentation for alternative solver options:\n",
      "    https://scikit-learn.org/stable/modules/linear_model.html#logistic-regression\n",
      "  n_iter_i = _check_optimize_result(\n",
      "C:\\Users\\elodi\\anaconda3\\Lib\\site-packages\\sklearn\\linear_model\\_logistic.py:458: ConvergenceWarning: lbfgs failed to converge (status=1):\n",
      "STOP: TOTAL NO. of ITERATIONS REACHED LIMIT.\n",
      "\n",
      "Increase the number of iterations (max_iter) or scale the data as shown in:\n",
      "    https://scikit-learn.org/stable/modules/preprocessing.html\n",
      "Please also refer to the documentation for alternative solver options:\n",
      "    https://scikit-learn.org/stable/modules/linear_model.html#logistic-regression\n",
      "  n_iter_i = _check_optimize_result(\n",
      "C:\\Users\\elodi\\anaconda3\\Lib\\site-packages\\sklearn\\linear_model\\_logistic.py:458: ConvergenceWarning: lbfgs failed to converge (status=1):\n",
      "STOP: TOTAL NO. of ITERATIONS REACHED LIMIT.\n",
      "\n",
      "Increase the number of iterations (max_iter) or scale the data as shown in:\n",
      "    https://scikit-learn.org/stable/modules/preprocessing.html\n",
      "Please also refer to the documentation for alternative solver options:\n",
      "    https://scikit-learn.org/stable/modules/linear_model.html#logistic-regression\n",
      "  n_iter_i = _check_optimize_result(\n",
      "C:\\Users\\elodi\\anaconda3\\Lib\\site-packages\\sklearn\\linear_model\\_logistic.py:458: ConvergenceWarning: lbfgs failed to converge (status=1):\n",
      "STOP: TOTAL NO. of ITERATIONS REACHED LIMIT.\n",
      "\n",
      "Increase the number of iterations (max_iter) or scale the data as shown in:\n",
      "    https://scikit-learn.org/stable/modules/preprocessing.html\n",
      "Please also refer to the documentation for alternative solver options:\n",
      "    https://scikit-learn.org/stable/modules/linear_model.html#logistic-regression\n",
      "  n_iter_i = _check_optimize_result(\n",
      "C:\\Users\\elodi\\anaconda3\\Lib\\site-packages\\sklearn\\linear_model\\_logistic.py:458: ConvergenceWarning: lbfgs failed to converge (status=1):\n",
      "STOP: TOTAL NO. of ITERATIONS REACHED LIMIT.\n",
      "\n",
      "Increase the number of iterations (max_iter) or scale the data as shown in:\n",
      "    https://scikit-learn.org/stable/modules/preprocessing.html\n",
      "Please also refer to the documentation for alternative solver options:\n",
      "    https://scikit-learn.org/stable/modules/linear_model.html#logistic-regression\n",
      "  n_iter_i = _check_optimize_result(\n",
      "C:\\Users\\elodi\\anaconda3\\Lib\\site-packages\\sklearn\\linear_model\\_logistic.py:458: ConvergenceWarning: lbfgs failed to converge (status=1):\n",
      "STOP: TOTAL NO. of ITERATIONS REACHED LIMIT.\n",
      "\n",
      "Increase the number of iterations (max_iter) or scale the data as shown in:\n",
      "    https://scikit-learn.org/stable/modules/preprocessing.html\n",
      "Please also refer to the documentation for alternative solver options:\n",
      "    https://scikit-learn.org/stable/modules/linear_model.html#logistic-regression\n",
      "  n_iter_i = _check_optimize_result(\n",
      "C:\\Users\\elodi\\anaconda3\\Lib\\site-packages\\sklearn\\linear_model\\_logistic.py:458: ConvergenceWarning: lbfgs failed to converge (status=1):\n",
      "STOP: TOTAL NO. of ITERATIONS REACHED LIMIT.\n",
      "\n",
      "Increase the number of iterations (max_iter) or scale the data as shown in:\n",
      "    https://scikit-learn.org/stable/modules/preprocessing.html\n",
      "Please also refer to the documentation for alternative solver options:\n",
      "    https://scikit-learn.org/stable/modules/linear_model.html#logistic-regression\n",
      "  n_iter_i = _check_optimize_result(\n"
     ]
    }
   ],
   "source": [
    "#LogisticRegression(penalty='l2', *, dual=False, tol=0.0001, C=1.0, fit_intercept=True, intercept_scaling=1, class_weight=None, random_state=None, solver='lbfgs', max_iter=100, multi_class='deprecated', verbose=0, warm_start=False, n_jobs=None, l1_ratio=None)[source]\n",
    "\n",
    "#LR : Cross validation 10 folds\n",
    "\n",
    "LR_corr_destrieux = LogisticRegression(C = 1, penalty='l2')\n",
    "cv = StratifiedKFold(n_splits=10)\n",
    "y_pred_corr_destrieux_lr = cross_val_predict(LR_corr_destrieux, X_train_destrieux, y_train_destrieux, cv = cv)"
   ]
  },
  {
   "cell_type": "code",
   "execution_count": 87,
   "id": "0371caaf-3aa0-41fd-97ac-abe290b31f32",
   "metadata": {},
   "outputs": [
    {
     "data": {
      "image/png": "[encoded data removed]",
      "text/plain": [
       "<Figure size 640x480 with 2 Axes>"
      ]
     },
     "metadata": {},
     "output_type": "display_data"
    }
   ],
   "source": [
    "# Matrice de confusion\n",
    "\n",
    "conf_matrix_corr_destrieux_lr = confusion_matrix(y_train_destrieux, y_pred_corr_destrieux_lr)\n",
    "\n",
    "disp = ConfusionMatrixDisplay(conf_matrix_corr_destrieux_lr, display_labels=[\"ASD\",\"TD\"])\n",
    "disp.plot()\n",
    "plt.show()"
   ]
  },
  {
   "cell_type": "code",
   "execution_count": 89,
   "id": "3f5304e3-d0f7-4354-9191-27f3262f4e6b",
   "metadata": {},
   "outputs": [
    {
     "name": "stdout",
     "output_type": "stream",
     "text": [
      "Accuracy :  0.68\n",
      "Sensitivité :  0.732\n",
      "Spécificité :  0.624\n",
      "Classification Report :\n",
      "               precision    recall  f1-score   support\n",
      "\n",
      "           1       0.68      0.62      0.65       181\n",
      "           2       0.68      0.73      0.70       194\n",
      "\n",
      "    accuracy                           0.68       375\n",
      "   macro avg       0.68      0.68      0.68       375\n",
      "weighted avg       0.68      0.68      0.68       375\n",
      "\n"
     ]
    }
   ],
   "source": [
    "#Affichage des métriques\n",
    "\n",
    "# Calcul de l'accuracy\n",
    "accuracy_corr_destrieux_lr = accuracy_score(y_train_destrieux, y_pred_corr_destrieux_lr)\n",
    "print(\"Accuracy : \", round(accuracy_corr_destrieux_lr,3))\n",
    "\n",
    "# Calcul de la sensitivité\n",
    "sensitivity_corr_destrieux_lr = conf_matrix_corr_destrieux_lr[1,1] / (conf_matrix_corr_destrieux_lr[1,0] + conf_matrix_corr_destrieux_lr[1,1])\n",
    "print(\"Sensitivité : \", round(sensitivity_corr_destrieux_lr,3))\n",
    "\n",
    "# Calcul de la spécificité\n",
    "specificity_corr_destrieux_lr = conf_matrix_corr_destrieux_lr[0,0] / (conf_matrix_corr_destrieux_lr[0,0] + conf_matrix_corr_destrieux_lr[0,1])\n",
    "print(\"Spécificité : \", round(specificity_corr_destrieux_lr,3))\n",
    "\n",
    "# Calcul du classification report\n",
    "class_report_corr_destrieux_lr = classification_report(y_train_destrieux, y_pred_corr_destrieux_lr)\n",
    "print(\"Classification Report :\\n\", class_report_corr_destrieux_lr)"
   ]
  },
  {
   "cell_type": "markdown",
   "id": "1a5e9643-e4c3-4bd1-94c4-b748d80e7d5e",
   "metadata": {
    "jp-MarkdownHeadingCollapsed": true
   },
   "source": [
    "##### Classifieur Gaussien Naïf de Bayes"
   ]
  },
  {
   "cell_type": "code",
   "execution_count": 91,
   "id": "a3fc9d43-d2a9-4cb5-83cb-7c02762e6c39",
   "metadata": {},
   "outputs": [],
   "source": [
    "#sklearn.naive_bayes.GaussianNB(*, priors=None, var_smoothing=1e-09)\n",
    "\n",
    "#GNB: Cross validation 10 folds\n",
    "\n",
    "GNB_corr_destrieux = GaussianNB()\n",
    "cv = StratifiedKFold(n_splits=10)\n",
    "y_pred_corr_destrieux_gnb = cross_val_predict(GNB_corr_destrieux, X_train_destrieux, y_train_destrieux, cv = cv)"
   ]
  },
  {
   "cell_type": "code",
   "execution_count": 93,
   "id": "0a55c73d-56e6-4862-88d3-74289424f8a9",
   "metadata": {},
   "outputs": [
    {
     "data": {
      "image/png": "[encoded data removed]",
      "text/plain": [
       "<Figure size 640x480 with 2 Axes>"
      ]
     },
     "metadata": {},
     "output_type": "display_data"
    }
   ],
   "source": [
    "# Matrice de confusion\n",
    "\n",
    "conf_matrix_corr_destrieux_gnb = confusion_matrix(y_train_destrieux, y_pred_corr_destrieux_gnb)\n",
    "\n",
    "disp = ConfusionMatrixDisplay(conf_matrix_corr_destrieux_gnb, display_labels=[\"ASD\",\"TD\"])\n",
    "disp.plot()\n",
    "plt.show()"
   ]
  },
  {
   "cell_type": "code",
   "execution_count": 95,
   "id": "47bf8011-b62d-4b78-aefa-2aebc3088746",
   "metadata": {},
   "outputs": [
    {
     "name": "stdout",
     "output_type": "stream",
     "text": [
      "Accuracy :  0.549\n",
      "Sensitivité :  0.464\n",
      "Spécificité :  0.641\n",
      "Classification Report :\n",
      "               precision    recall  f1-score   support\n",
      "\n",
      "           1       0.53      0.64      0.58       181\n",
      "           2       0.58      0.46      0.52       194\n",
      "\n",
      "    accuracy                           0.55       375\n",
      "   macro avg       0.55      0.55      0.55       375\n",
      "weighted avg       0.55      0.55      0.55       375\n",
      "\n"
     ]
    }
   ],
   "source": [
    "#Affichage des métriques\n",
    "\n",
    "# Calcul de l'accuracy\n",
    "accuracy_corr_destrieux_gnb = accuracy_score(y_train_destrieux, y_pred_corr_destrieux_gnb)\n",
    "print(\"Accuracy : \", round(accuracy_corr_destrieux_gnb,3))\n",
    "\n",
    "# Calcul de la sensitivité\n",
    "sensitivity_corr_destrieux_gnb = conf_matrix_corr_destrieux_gnb[1,1] / (conf_matrix_corr_destrieux_gnb[1,0] + conf_matrix_corr_destrieux_gnb[1,1])\n",
    "print(\"Sensitivité : \", round(sensitivity_corr_destrieux_gnb,3))\n",
    "\n",
    "# Calcul de la spécificité\n",
    "specificity_corr_destrieux_gnb = conf_matrix_corr_destrieux_gnb[0,0] / (conf_matrix_corr_destrieux_gnb[0,0] + conf_matrix_corr_destrieux_gnb[0,1])\n",
    "print(\"Spécificité : \", round(specificity_corr_destrieux_gnb,3))\n",
    "\n",
    "# Calcul du classification report\n",
    "class_report_corr_destrieux_gnb = classification_report(y_train_destrieux, y_pred_corr_destrieux_gnb)\n",
    "print(\"Classification Report :\\n\", class_report_corr_destrieux_gnb)"
   ]
  },
  {
   "cell_type": "markdown",
   "id": "4761ec5a-885a-4f41-89be-ace0d472de4e",
   "metadata": {
    "jp-MarkdownHeadingCollapsed": true
   },
   "source": [
    "##### Kernel SVM"
   ]
  },
  {
   "cell_type": "code",
   "execution_count": 97,
   "id": "bca12e62-1f09-431b-b57a-01e399373ef9",
   "metadata": {},
   "outputs": [
    {
     "name": "stdout",
     "output_type": "stream",
     "text": [
      "Best parameters for Logistic Regression: {'C': 0.1, 'degree': 2, 'kernel': 'linear'}\n"
     ]
    }
   ],
   "source": [
    "# Optimisation hyperparamètres\n",
    "\n",
    "param_grid_SVM = {'C': [0.01, 0.1, 1, 10, 100],\n",
    "    'kernel': ['linear', 'poly', 'rbf','sigmoid'],\n",
    "    'degree' : [2,3,4,5]}\n",
    "\n",
    "SVM_opt = SVC()\n",
    "grid_search_SVM = GridSearchCV(SVM_opt, param_grid_SVM, cv=5, scoring='accuracy')\n",
    "grid_search_SVM.fit(X_train_destrieux, y_train_destrieux)\n",
    "\n",
    "print(\"Best parameters for Logistic Regression:\", grid_search_SVM.best_params_)"
   ]
  },
  {
   "cell_type": "code",
   "execution_count": 99,
   "id": "c35a9e2d-73f4-4515-a85b-58b026a91698",
   "metadata": {},
   "outputs": [],
   "source": [
    "#sklearn.svm.SVC(*, C=1.0, kernel='rbf', degree=3, gamma='scale', coef0=0.0, shrinking=True, probability=False, tol=0.001, cache_size=200, class_weight=None, verbose=False, max_iter=-1, decision_function_shape='ovr', break_ties=False, random_state=None)\n",
    "\n",
    "# SVM : Cross-validation 10 folds\n",
    "svm = SVC (kernel = 'linear', C=0.1)\n",
    "cv = StratifiedKFold(n_splits=10)\n",
    "y_pred_corr_destrieux_svm = cross_val_predict(svm, X_train_destrieux, y_train_destrieux, cv = cv)"
   ]
  },
  {
   "cell_type": "code",
   "execution_count": 101,
   "id": "3bb58700-9124-4b80-b1a2-89bfa95488e6",
   "metadata": {},
   "outputs": [
    {
     "data": {
      "image/png": "[encoded data removed]",
      "text/plain": [
       "<Figure size 640x480 with 2 Axes>"
      ]
     },
     "metadata": {},
     "output_type": "display_data"
    }
   ],
   "source": [
    "# Matrice de confusion\n",
    "\n",
    "conf_matrix_corr_destrieux_svm = confusion_matrix(y_train_destrieux, y_pred_corr_destrieux_svm)\n",
    "\n",
    "disp = ConfusionMatrixDisplay(conf_matrix_corr_destrieux_svm, display_labels=[\"ASD\",\"TD\"])\n",
    "disp.plot()\n",
    "plt.show()"
   ]
  },
  {
   "cell_type": "code",
   "execution_count": 103,
   "id": "36befd98-f89f-4008-b67e-a770435f7687",
   "metadata": {},
   "outputs": [
    {
     "name": "stdout",
     "output_type": "stream",
     "text": [
      "Accuracy :  0.677\n",
      "Sensitivité :  0.737\n",
      "Spécificité :  0.613\n",
      "Classification Report :\n",
      "               precision    recall  f1-score   support\n",
      "\n",
      "           1       0.69      0.61      0.65       181\n",
      "           2       0.67      0.74      0.70       194\n",
      "\n",
      "    accuracy                           0.68       375\n",
      "   macro avg       0.68      0.68      0.67       375\n",
      "weighted avg       0.68      0.68      0.68       375\n",
      "\n"
     ]
    }
   ],
   "source": [
    "#Affichage des métriques\n",
    "\n",
    "# Calcul de l'accuracy\n",
    "accuracy_corr_destrieux_svm = accuracy_score(y_train_destrieux, y_pred_corr_destrieux_svm)\n",
    "print(\"Accuracy : \", round(accuracy_corr_destrieux_svm,3))\n",
    "\n",
    "# Calcul de la sensitivité\n",
    "sensitivity_corr_destrieux_svm = conf_matrix_corr_destrieux_svm[1,1] / (conf_matrix_corr_destrieux_svm[1,0] + conf_matrix_corr_destrieux_svm[1,1])\n",
    "print(\"Sensitivité : \", round(sensitivity_corr_destrieux_svm,3))\n",
    "\n",
    "# Calcul de la spécificité\n",
    "specificity_corr_destrieux_svm = conf_matrix_corr_destrieux_svm[0,0] / (conf_matrix_corr_destrieux_svm[0,0] + conf_matrix_corr_destrieux_svm[0,1])\n",
    "print(\"Spécificité : \", round(specificity_corr_destrieux_svm,3))\n",
    "\n",
    "# Calcul du classification report\n",
    "class_report_corr_destrieux_svm = classification_report(y_train_destrieux, y_pred_corr_destrieux_svm)\n",
    "print(\"Classification Report :\\n\", class_report_corr_destrieux_svm)"
   ]
  },
  {
   "cell_type": "markdown",
   "id": "7d7c79f7-c195-40dc-8c00-125fb01c93af",
   "metadata": {
    "jp-MarkdownHeadingCollapsed": true
   },
   "source": [
    "##### Random Forest"
   ]
  },
  {
   "cell_type": "code",
   "execution_count": 105,
   "id": "d93c9cda-be27-4580-a9a9-18f205f06fe3",
   "metadata": {},
   "outputs": [
    {
     "name": "stdout",
     "output_type": "stream",
     "text": [
      "Best parameters for Logistic Regression: {'criterion': 'log_loss', 'max_depth': 10, 'n_estimators': 200}\n"
     ]
    }
   ],
   "source": [
    "# Optimisation hyperparamètres\n",
    "\n",
    "param_grid_RF = {'n_estimators': [100, 200, 300],\n",
    "                'max_depth': [5,10,20],\n",
    "                'criterion' : ['gini','entropy','log_loss']}\n",
    "\n",
    "RF_opt = RandomForestClassifier()\n",
    "grid_search_RF = GridSearchCV(RF_opt, param_grid_RF, cv=5, scoring='accuracy')\n",
    "grid_search_RF.fit(X_train_destrieux, y_train_destrieux)\n",
    "\n",
    "print(\"Best parameters for Logistic Regression:\", grid_search_RF.best_params_)"
   ]
  },
  {
   "cell_type": "code",
   "execution_count": 113,
   "id": "c0ba8982-f420-495c-9aab-95fcb79c8a86",
   "metadata": {},
   "outputs": [],
   "source": [
    "#class sklearn.ensemble.RandomForestClassifier(n_estimators=100, *, criterion='gini', max_depth=None, min_samples_split=2, min_samples_leaf=1, min_weight_fraction_leaf=0.0, max_features='sqrt', max_leaf_nodes=None, min_impurity_decrease=0.0, bootstrap=True, oob_score=False, n_jobs=None, random_state=None, verbose=0, warm_start=False, class_weight=None, ccp_alpha=0.0, max_samples=None, monotonic_cst=None)\n",
    "\n",
    "RF = RandomForestClassifier(n_estimators=200, criterion ='log_loss', max_depth=10, random_state=123)\n",
    "cv = StratifiedKFold(n_splits=10)\n",
    "y_pred_corr_destrieux_rf = cross_val_predict(RF, X_train_destrieux, y_train_destrieux, cv = cv)"
   ]
  },
  {
   "cell_type": "code",
   "execution_count": 115,
   "id": "d243b2a7-214e-4398-aa5b-a10f072bc278",
   "metadata": {},
   "outputs": [
    {
     "data": {
      "image/png": "[encoded data removed]",
      "text/plain": [
       "<Figure size 640x480 with 2 Axes>"
      ]
     },
     "metadata": {},
     "output_type": "display_data"
    }
   ],
   "source": [
    "# Matrice de confusion\n",
    "\n",
    "conf_matrix_corr_destrieux_rf = confusion_matrix(y_train_destrieux, y_pred_corr_destrieux_rf)\n",
    "\n",
    "disp = ConfusionMatrixDisplay(conf_matrix_corr_destrieux_rf, display_labels=[\"ASD\",\"TD\"])\n",
    "disp.plot()\n",
    "plt.show()"
   ]
  },
  {
   "cell_type": "code",
   "execution_count": 117,
   "id": "f78267fc-6592-48dc-ad44-04f409284a6e",
   "metadata": {},
   "outputs": [
    {
     "name": "stdout",
     "output_type": "stream",
     "text": [
      "Accuracy :  0.611\n",
      "Sensitivité :  0.686\n",
      "Spécificité :  0.53\n",
      "Classification Report :\n",
      "               precision    recall  f1-score   support\n",
      "\n",
      "           1       0.61      0.53      0.57       181\n",
      "           2       0.61      0.69      0.65       194\n",
      "\n",
      "    accuracy                           0.61       375\n",
      "   macro avg       0.61      0.61      0.61       375\n",
      "weighted avg       0.61      0.61      0.61       375\n",
      "\n"
     ]
    }
   ],
   "source": [
    "#Affichage des métriques\n",
    "\n",
    "# Calcul de l'accuracy\n",
    "accuracy_corr_destrieux_rf = accuracy_score(y_train_destrieux, y_pred_corr_destrieux_rf)\n",
    "print(\"Accuracy : \", round(accuracy_corr_destrieux_rf,3))\n",
    "\n",
    "# Calcul de la sensitivité\n",
    "sensitivity_corr_destrieux_rf = conf_matrix_corr_destrieux_rf[1,1] / (conf_matrix_corr_destrieux_rf[1,0] + conf_matrix_corr_destrieux_rf[1,1])\n",
    "print(\"Sensitivité : \", round(sensitivity_corr_destrieux_rf,3))\n",
    "\n",
    "# Calcul de la spécificité\n",
    "specificity_corr_destrieux_rf = conf_matrix_corr_destrieux_rf[0,0] / (conf_matrix_corr_destrieux_rf[0,0] + conf_matrix_corr_destrieux_rf[0,1])\n",
    "print(\"Spécificité : \", round(specificity_corr_destrieux_rf,3))\n",
    "\n",
    "# Calcul du classification report\n",
    "class_report_corr_destrieux_rf = classification_report(y_train_destrieux, y_pred_corr_destrieux_rf)\n",
    "print(\"Classification Report :\\n\", class_report_corr_destrieux_rf)"
   ]
  },
  {
   "cell_type": "markdown",
   "id": "f2935a95-abef-47b0-8b6e-255ffe032069",
   "metadata": {
    "jp-MarkdownHeadingCollapsed": true
   },
   "source": [
    "#### ML : 500 sujets - Corrélation - Atlas BASC197 - LR/GNB/kSVM/RF"
   ]
  },
  {
   "cell_type": "markdown",
   "id": "b58255dd-77b7-40de-83dc-e21e2182392d",
   "metadata": {
    "jp-MarkdownHeadingCollapsed": true
   },
   "source": [
    "##### Création base d'entraînement et de test"
   ]
  },
  {
   "cell_type": "code",
   "execution_count": 265,
   "id": "4e528a7a-1677-4675-be78-04aa812a71a7",
   "metadata": {},
   "outputs": [
    {
     "name": "stdout",
     "output_type": "stream",
     "text": [
      "training: 375 testing: 125\n",
      "Train : DX_GROUP\n",
      "2    194\n",
      "1    181\n",
      "Name: count, dtype: int64\n",
      "Test DX_GROUP\n",
      "2    64\n",
      "1    61\n",
      "Name: count, dtype: int64\n"
     ]
    }
   ],
   "source": [
    "X_train_basc197, X_test_basc197, y_train_basc197, y_test_basc197 = train_test_split(X_features_corr_basc197,\n",
    "                                                    y_diagnostic,\n",
    "                                                    test_size = 0.25,\n",
    "                                                    shuffle = True,\n",
    "                                                    stratify = y_diagnostic,\n",
    "                                                    random_state = 123)\n",
    "\n",
    "# print the size of our training and test groups\n",
    "print('training:', len(X_train_basc197),\n",
    "     'testing:', len(X_test_basc197))\n",
    "\n",
    "print(\"Train :\", y_train_basc197.value_counts())\n",
    "print(\"Test\", y_test_basc197.value_counts())"
   ]
  },
  {
   "cell_type": "markdown",
   "id": "79755c01-b2b5-434a-855e-6115219a270d",
   "metadata": {
    "jp-MarkdownHeadingCollapsed": true
   },
   "source": [
    "##### Régression logistique"
   ]
  },
  {
   "cell_type": "code",
   "execution_count": 180,
   "id": "f3f04937-681d-4a08-a356-d0821da790fd",
   "metadata": {
    "scrolled": true
   },
   "outputs": [
    {
     "name": "stderr",
     "output_type": "stream",
     "text": [
      "C:\\Users\\elodi\\anaconda3\\Lib\\site-packages\\sklearn\\linear_model\\_logistic.py:458: ConvergenceWarning: lbfgs failed to converge (status=1):\n",
      "STOP: TOTAL NO. of ITERATIONS REACHED LIMIT.\n",
      "\n",
      "Increase the number of iterations (max_iter) or scale the data as shown in:\n",
      "    https://scikit-learn.org/stable/modules/preprocessing.html\n",
      "Please also refer to the documentation for alternative solver options:\n",
      "    https://scikit-learn.org/stable/modules/linear_model.html#logistic-regression\n",
      "  n_iter_i = _check_optimize_result(\n",
      "C:\\Users\\elodi\\anaconda3\\Lib\\site-packages\\sklearn\\linear_model\\_logistic.py:458: ConvergenceWarning: lbfgs failed to converge (status=1):\n",
      "STOP: TOTAL NO. of ITERATIONS REACHED LIMIT.\n",
      "\n",
      "Increase the number of iterations (max_iter) or scale the data as shown in:\n",
      "    https://scikit-learn.org/stable/modules/preprocessing.html\n",
      "Please also refer to the documentation for alternative solver options:\n",
      "    https://scikit-learn.org/stable/modules/linear_model.html#logistic-regression\n",
      "  n_iter_i = _check_optimize_result(\n",
      "C:\\Users\\elodi\\anaconda3\\Lib\\site-packages\\sklearn\\linear_model\\_logistic.py:458: ConvergenceWarning: lbfgs failed to converge (status=1):\n",
      "STOP: TOTAL NO. of ITERATIONS REACHED LIMIT.\n",
      "\n",
      "Increase the number of iterations (max_iter) or scale the data as shown in:\n",
      "    https://scikit-learn.org/stable/modules/preprocessing.html\n",
      "Please also refer to the documentation for alternative solver options:\n",
      "    https://scikit-learn.org/stable/modules/linear_model.html#logistic-regression\n",
      "  n_iter_i = _check_optimize_result(\n",
      "C:\\Users\\elodi\\anaconda3\\Lib\\site-packages\\sklearn\\linear_model\\_logistic.py:458: ConvergenceWarning: lbfgs failed to converge (status=1):\n",
      "STOP: TOTAL NO. of ITERATIONS REACHED LIMIT.\n",
      "\n",
      "Increase the number of iterations (max_iter) or scale the data as shown in:\n",
      "    https://scikit-learn.org/stable/modules/preprocessing.html\n",
      "Please also refer to the documentation for alternative solver options:\n",
      "    https://scikit-learn.org/stable/modules/linear_model.html#logistic-regression\n",
      "  n_iter_i = _check_optimize_result(\n",
      "C:\\Users\\elodi\\anaconda3\\Lib\\site-packages\\sklearn\\linear_model\\_logistic.py:458: ConvergenceWarning: lbfgs failed to converge (status=1):\n",
      "STOP: TOTAL NO. of ITERATIONS REACHED LIMIT.\n",
      "\n",
      "Increase the number of iterations (max_iter) or scale the data as shown in:\n",
      "    https://scikit-learn.org/stable/modules/preprocessing.html\n",
      "Please also refer to the documentation for alternative solver options:\n",
      "    https://scikit-learn.org/stable/modules/linear_model.html#logistic-regression\n",
      "  n_iter_i = _check_optimize_result(\n",
      "C:\\Users\\elodi\\anaconda3\\Lib\\site-packages\\sklearn\\linear_model\\_logistic.py:458: ConvergenceWarning: lbfgs failed to converge (status=1):\n",
      "STOP: TOTAL NO. of ITERATIONS REACHED LIMIT.\n",
      "\n",
      "Increase the number of iterations (max_iter) or scale the data as shown in:\n",
      "    https://scikit-learn.org/stable/modules/preprocessing.html\n",
      "Please also refer to the documentation for alternative solver options:\n",
      "    https://scikit-learn.org/stable/modules/linear_model.html#logistic-regression\n",
      "  n_iter_i = _check_optimize_result(\n",
      "C:\\Users\\elodi\\anaconda3\\Lib\\site-packages\\sklearn\\linear_model\\_logistic.py:458: ConvergenceWarning: lbfgs failed to converge (status=1):\n",
      "STOP: TOTAL NO. of ITERATIONS REACHED LIMIT.\n",
      "\n",
      "Increase the number of iterations (max_iter) or scale the data as shown in:\n",
      "    https://scikit-learn.org/stable/modules/preprocessing.html\n",
      "Please also refer to the documentation for alternative solver options:\n",
      "    https://scikit-learn.org/stable/modules/linear_model.html#logistic-regression\n",
      "  n_iter_i = _check_optimize_result(\n",
      "C:\\Users\\elodi\\anaconda3\\Lib\\site-packages\\sklearn\\linear_model\\_logistic.py:458: ConvergenceWarning: lbfgs failed to converge (status=1):\n",
      "STOP: TOTAL NO. of ITERATIONS REACHED LIMIT.\n",
      "\n",
      "Increase the number of iterations (max_iter) or scale the data as shown in:\n",
      "    https://scikit-learn.org/stable/modules/preprocessing.html\n",
      "Please also refer to the documentation for alternative solver options:\n",
      "    https://scikit-learn.org/stable/modules/linear_model.html#logistic-regression\n",
      "  n_iter_i = _check_optimize_result(\n",
      "C:\\Users\\elodi\\anaconda3\\Lib\\site-packages\\sklearn\\linear_model\\_logistic.py:458: ConvergenceWarning: lbfgs failed to converge (status=1):\n",
      "STOP: TOTAL NO. of ITERATIONS REACHED LIMIT.\n",
      "\n",
      "Increase the number of iterations (max_iter) or scale the data as shown in:\n",
      "    https://scikit-learn.org/stable/modules/preprocessing.html\n",
      "Please also refer to the documentation for alternative solver options:\n",
      "    https://scikit-learn.org/stable/modules/linear_model.html#logistic-regression\n",
      "  n_iter_i = _check_optimize_result(\n",
      "C:\\Users\\elodi\\anaconda3\\Lib\\site-packages\\sklearn\\linear_model\\_logistic.py:458: ConvergenceWarning: lbfgs failed to converge (status=1):\n",
      "STOP: TOTAL NO. of ITERATIONS REACHED LIMIT.\n",
      "\n",
      "Increase the number of iterations (max_iter) or scale the data as shown in:\n",
      "    https://scikit-learn.org/stable/modules/preprocessing.html\n",
      "Please also refer to the documentation for alternative solver options:\n",
      "    https://scikit-learn.org/stable/modules/linear_model.html#logistic-regression\n",
      "  n_iter_i = _check_optimize_result(\n",
      "C:\\Users\\elodi\\anaconda3\\Lib\\site-packages\\sklearn\\linear_model\\_logistic.py:458: ConvergenceWarning: lbfgs failed to converge (status=1):\n",
      "STOP: TOTAL NO. of ITERATIONS REACHED LIMIT.\n",
      "\n",
      "Increase the number of iterations (max_iter) or scale the data as shown in:\n",
      "    https://scikit-learn.org/stable/modules/preprocessing.html\n",
      "Please also refer to the documentation for alternative solver options:\n",
      "    https://scikit-learn.org/stable/modules/linear_model.html#logistic-regression\n",
      "  n_iter_i = _check_optimize_result(\n",
      "C:\\Users\\elodi\\anaconda3\\Lib\\site-packages\\sklearn\\linear_model\\_logistic.py:458: ConvergenceWarning: lbfgs failed to converge (status=1):\n",
      "STOP: TOTAL NO. of ITERATIONS REACHED LIMIT.\n",
      "\n",
      "Increase the number of iterations (max_iter) or scale the data as shown in:\n",
      "    https://scikit-learn.org/stable/modules/preprocessing.html\n",
      "Please also refer to the documentation for alternative solver options:\n",
      "    https://scikit-learn.org/stable/modules/linear_model.html#logistic-regression\n",
      "  n_iter_i = _check_optimize_result(\n",
      "C:\\Users\\elodi\\anaconda3\\Lib\\site-packages\\sklearn\\linear_model\\_logistic.py:458: ConvergenceWarning: lbfgs failed to converge (status=1):\n",
      "STOP: TOTAL NO. of ITERATIONS REACHED LIMIT.\n",
      "\n",
      "Increase the number of iterations (max_iter) or scale the data as shown in:\n",
      "    https://scikit-learn.org/stable/modules/preprocessing.html\n",
      "Please also refer to the documentation for alternative solver options:\n",
      "    https://scikit-learn.org/stable/modules/linear_model.html#logistic-regression\n",
      "  n_iter_i = _check_optimize_result(\n",
      "C:\\Users\\elodi\\anaconda3\\Lib\\site-packages\\sklearn\\linear_model\\_logistic.py:458: ConvergenceWarning: lbfgs failed to converge (status=1):\n",
      "STOP: TOTAL NO. of ITERATIONS REACHED LIMIT.\n",
      "\n",
      "Increase the number of iterations (max_iter) or scale the data as shown in:\n",
      "    https://scikit-learn.org/stable/modules/preprocessing.html\n",
      "Please also refer to the documentation for alternative solver options:\n",
      "    https://scikit-learn.org/stable/modules/linear_model.html#logistic-regression\n",
      "  n_iter_i = _check_optimize_result(\n",
      "C:\\Users\\elodi\\anaconda3\\Lib\\site-packages\\sklearn\\linear_model\\_logistic.py:458: ConvergenceWarning: lbfgs failed to converge (status=1):\n",
      "STOP: TOTAL NO. of ITERATIONS REACHED LIMIT.\n",
      "\n",
      "Increase the number of iterations (max_iter) or scale the data as shown in:\n",
      "    https://scikit-learn.org/stable/modules/preprocessing.html\n",
      "Please also refer to the documentation for alternative solver options:\n",
      "    https://scikit-learn.org/stable/modules/linear_model.html#logistic-regression\n",
      "  n_iter_i = _check_optimize_result(\n",
      "C:\\Users\\elodi\\anaconda3\\Lib\\site-packages\\sklearn\\linear_model\\_logistic.py:458: ConvergenceWarning: lbfgs failed to converge (status=1):\n",
      "STOP: TOTAL NO. of ITERATIONS REACHED LIMIT.\n",
      "\n",
      "Increase the number of iterations (max_iter) or scale the data as shown in:\n",
      "    https://scikit-learn.org/stable/modules/preprocessing.html\n",
      "Please also refer to the documentation for alternative solver options:\n",
      "    https://scikit-learn.org/stable/modules/linear_model.html#logistic-regression\n",
      "  n_iter_i = _check_optimize_result(\n",
      "C:\\Users\\elodi\\anaconda3\\Lib\\site-packages\\sklearn\\linear_model\\_logistic.py:458: ConvergenceWarning: lbfgs failed to converge (status=1):\n",
      "STOP: TOTAL NO. of ITERATIONS REACHED LIMIT.\n",
      "\n",
      "Increase the number of iterations (max_iter) or scale the data as shown in:\n",
      "    https://scikit-learn.org/stable/modules/preprocessing.html\n",
      "Please also refer to the documentation for alternative solver options:\n",
      "    https://scikit-learn.org/stable/modules/linear_model.html#logistic-regression\n",
      "  n_iter_i = _check_optimize_result(\n",
      "C:\\Users\\elodi\\anaconda3\\Lib\\site-packages\\sklearn\\linear_model\\_logistic.py:458: ConvergenceWarning: lbfgs failed to converge (status=1):\n",
      "STOP: TOTAL NO. of ITERATIONS REACHED LIMIT.\n",
      "\n",
      "Increase the number of iterations (max_iter) or scale the data as shown in:\n",
      "    https://scikit-learn.org/stable/modules/preprocessing.html\n",
      "Please also refer to the documentation for alternative solver options:\n",
      "    https://scikit-learn.org/stable/modules/linear_model.html#logistic-regression\n",
      "  n_iter_i = _check_optimize_result(\n",
      "C:\\Users\\elodi\\anaconda3\\Lib\\site-packages\\sklearn\\linear_model\\_logistic.py:458: ConvergenceWarning: lbfgs failed to converge (status=1):\n",
      "STOP: TOTAL NO. of ITERATIONS REACHED LIMIT.\n",
      "\n",
      "Increase the number of iterations (max_iter) or scale the data as shown in:\n",
      "    https://scikit-learn.org/stable/modules/preprocessing.html\n",
      "Please also refer to the documentation for alternative solver options:\n",
      "    https://scikit-learn.org/stable/modules/linear_model.html#logistic-regression\n",
      "  n_iter_i = _check_optimize_result(\n",
      "C:\\Users\\elodi\\anaconda3\\Lib\\site-packages\\sklearn\\model_selection\\_validation.py:378: FitFailedWarning: \n",
      "25 fits failed out of a total of 50.\n",
      "The score on these train-test partitions for these parameters will be set to nan.\n",
      "If these failures are not expected, you can try to debug them by setting error_score='raise'.\n",
      "\n",
      "Below are more details about the failures:\n",
      "--------------------------------------------------------------------------------\n",
      "25 fits failed with the following error:\n",
      "Traceback (most recent call last):\n",
      "  File \"C:\\Users\\elodi\\anaconda3\\Lib\\site-packages\\sklearn\\model_selection\\_validation.py\", line 686, in _fit_and_score\n",
      "    estimator.fit(X_train, y_train, **fit_params)\n",
      "  File \"C:\\Users\\elodi\\anaconda3\\Lib\\site-packages\\sklearn\\linear_model\\_logistic.py\", line 1162, in fit\n",
      "    solver = _check_solver(self.solver, self.penalty, self.dual)\n",
      "             ^^^^^^^^^^^^^^^^^^^^^^^^^^^^^^^^^^^^^^^^^^^^^^^^^^^\n",
      "  File \"C:\\Users\\elodi\\anaconda3\\Lib\\site-packages\\sklearn\\linear_model\\_logistic.py\", line 54, in _check_solver\n",
      "    raise ValueError(\n",
      "ValueError: Solver lbfgs supports only 'l2' or 'none' penalties, got l1 penalty.\n",
      "\n",
      "  warnings.warn(some_fits_failed_message, FitFailedWarning)\n",
      "C:\\Users\\elodi\\anaconda3\\Lib\\site-packages\\sklearn\\model_selection\\_search.py:952: UserWarning: One or more of the test scores are non-finite: [       nan 0.65066667        nan 0.67466667        nan 0.672\n",
      "        nan 0.66666667        nan 0.66133333]\n",
      "  warnings.warn(\n"
     ]
    },
    {
     "name": "stdout",
     "output_type": "stream",
     "text": [
      "Best parameters for Logistic Regression: {'C': 0.1, 'penalty': 'l2'}\n"
     ]
    },
    {
     "name": "stderr",
     "output_type": "stream",
     "text": [
      "C:\\Users\\elodi\\anaconda3\\Lib\\site-packages\\sklearn\\linear_model\\_logistic.py:458: ConvergenceWarning: lbfgs failed to converge (status=1):\n",
      "STOP: TOTAL NO. of ITERATIONS REACHED LIMIT.\n",
      "\n",
      "Increase the number of iterations (max_iter) or scale the data as shown in:\n",
      "    https://scikit-learn.org/stable/modules/preprocessing.html\n",
      "Please also refer to the documentation for alternative solver options:\n",
      "    https://scikit-learn.org/stable/modules/linear_model.html#logistic-regression\n",
      "  n_iter_i = _check_optimize_result(\n"
     ]
    }
   ],
   "source": [
    "# Optimisation hyperparamètres\n",
    "\n",
    "param_grid_LR = {'C': [0.01, 0.1, 1, 10, 100],\n",
    "    'penalty': ['l1', 'l2']}\n",
    "\n",
    "LR_opt = LogisticRegression()\n",
    "grid_search_LR = GridSearchCV(LR_opt, param_grid_LR, cv=5, scoring='accuracy')\n",
    "grid_search_LR.fit(X_train_basc197, y_train_basc197)\n",
    "\n",
    "print(\"Best parameters for Logistic Regression:\", grid_search_LR.best_params_)"
   ]
  },
  {
   "cell_type": "code",
   "execution_count": 184,
   "id": "f5b9e2ab-0378-4cbf-b630-5f59dc29611e",
   "metadata": {
    "scrolled": true
   },
   "outputs": [
    {
     "name": "stderr",
     "output_type": "stream",
     "text": [
      "C:\\Users\\elodi\\anaconda3\\Lib\\site-packages\\sklearn\\linear_model\\_logistic.py:458: ConvergenceWarning: lbfgs failed to converge (status=1):\n",
      "STOP: TOTAL NO. of ITERATIONS REACHED LIMIT.\n",
      "\n",
      "Increase the number of iterations (max_iter) or scale the data as shown in:\n",
      "    https://scikit-learn.org/stable/modules/preprocessing.html\n",
      "Please also refer to the documentation for alternative solver options:\n",
      "    https://scikit-learn.org/stable/modules/linear_model.html#logistic-regression\n",
      "  n_iter_i = _check_optimize_result(\n",
      "C:\\Users\\elodi\\anaconda3\\Lib\\site-packages\\sklearn\\linear_model\\_logistic.py:458: ConvergenceWarning: lbfgs failed to converge (status=1):\n",
      "STOP: TOTAL NO. of ITERATIONS REACHED LIMIT.\n",
      "\n",
      "Increase the number of iterations (max_iter) or scale the data as shown in:\n",
      "    https://scikit-learn.org/stable/modules/preprocessing.html\n",
      "Please also refer to the documentation for alternative solver options:\n",
      "    https://scikit-learn.org/stable/modules/linear_model.html#logistic-regression\n",
      "  n_iter_i = _check_optimize_result(\n",
      "C:\\Users\\elodi\\anaconda3\\Lib\\site-packages\\sklearn\\linear_model\\_logistic.py:458: ConvergenceWarning: lbfgs failed to converge (status=1):\n",
      "STOP: TOTAL NO. of ITERATIONS REACHED LIMIT.\n",
      "\n",
      "Increase the number of iterations (max_iter) or scale the data as shown in:\n",
      "    https://scikit-learn.org/stable/modules/preprocessing.html\n",
      "Please also refer to the documentation for alternative solver options:\n",
      "    https://scikit-learn.org/stable/modules/linear_model.html#logistic-regression\n",
      "  n_iter_i = _check_optimize_result(\n",
      "C:\\Users\\elodi\\anaconda3\\Lib\\site-packages\\sklearn\\linear_model\\_logistic.py:458: ConvergenceWarning: lbfgs failed to converge (status=1):\n",
      "STOP: TOTAL NO. of ITERATIONS REACHED LIMIT.\n",
      "\n",
      "Increase the number of iterations (max_iter) or scale the data as shown in:\n",
      "    https://scikit-learn.org/stable/modules/preprocessing.html\n",
      "Please also refer to the documentation for alternative solver options:\n",
      "    https://scikit-learn.org/stable/modules/linear_model.html#logistic-regression\n",
      "  n_iter_i = _check_optimize_result(\n",
      "C:\\Users\\elodi\\anaconda3\\Lib\\site-packages\\sklearn\\linear_model\\_logistic.py:458: ConvergenceWarning: lbfgs failed to converge (status=1):\n",
      "STOP: TOTAL NO. of ITERATIONS REACHED LIMIT.\n",
      "\n",
      "Increase the number of iterations (max_iter) or scale the data as shown in:\n",
      "    https://scikit-learn.org/stable/modules/preprocessing.html\n",
      "Please also refer to the documentation for alternative solver options:\n",
      "    https://scikit-learn.org/stable/modules/linear_model.html#logistic-regression\n",
      "  n_iter_i = _check_optimize_result(\n",
      "C:\\Users\\elodi\\anaconda3\\Lib\\site-packages\\sklearn\\linear_model\\_logistic.py:458: ConvergenceWarning: lbfgs failed to converge (status=1):\n",
      "STOP: TOTAL NO. of ITERATIONS REACHED LIMIT.\n",
      "\n",
      "Increase the number of iterations (max_iter) or scale the data as shown in:\n",
      "    https://scikit-learn.org/stable/modules/preprocessing.html\n",
      "Please also refer to the documentation for alternative solver options:\n",
      "    https://scikit-learn.org/stable/modules/linear_model.html#logistic-regression\n",
      "  n_iter_i = _check_optimize_result(\n",
      "C:\\Users\\elodi\\anaconda3\\Lib\\site-packages\\sklearn\\linear_model\\_logistic.py:458: ConvergenceWarning: lbfgs failed to converge (status=1):\n",
      "STOP: TOTAL NO. of ITERATIONS REACHED LIMIT.\n",
      "\n",
      "Increase the number of iterations (max_iter) or scale the data as shown in:\n",
      "    https://scikit-learn.org/stable/modules/preprocessing.html\n",
      "Please also refer to the documentation for alternative solver options:\n",
      "    https://scikit-learn.org/stable/modules/linear_model.html#logistic-regression\n",
      "  n_iter_i = _check_optimize_result(\n",
      "C:\\Users\\elodi\\anaconda3\\Lib\\site-packages\\sklearn\\linear_model\\_logistic.py:458: ConvergenceWarning: lbfgs failed to converge (status=1):\n",
      "STOP: TOTAL NO. of ITERATIONS REACHED LIMIT.\n",
      "\n",
      "Increase the number of iterations (max_iter) or scale the data as shown in:\n",
      "    https://scikit-learn.org/stable/modules/preprocessing.html\n",
      "Please also refer to the documentation for alternative solver options:\n",
      "    https://scikit-learn.org/stable/modules/linear_model.html#logistic-regression\n",
      "  n_iter_i = _check_optimize_result(\n",
      "C:\\Users\\elodi\\anaconda3\\Lib\\site-packages\\sklearn\\linear_model\\_logistic.py:458: ConvergenceWarning: lbfgs failed to converge (status=1):\n",
      "STOP: TOTAL NO. of ITERATIONS REACHED LIMIT.\n",
      "\n",
      "Increase the number of iterations (max_iter) or scale the data as shown in:\n",
      "    https://scikit-learn.org/stable/modules/preprocessing.html\n",
      "Please also refer to the documentation for alternative solver options:\n",
      "    https://scikit-learn.org/stable/modules/linear_model.html#logistic-regression\n",
      "  n_iter_i = _check_optimize_result(\n",
      "C:\\Users\\elodi\\anaconda3\\Lib\\site-packages\\sklearn\\linear_model\\_logistic.py:458: ConvergenceWarning: lbfgs failed to converge (status=1):\n",
      "STOP: TOTAL NO. of ITERATIONS REACHED LIMIT.\n",
      "\n",
      "Increase the number of iterations (max_iter) or scale the data as shown in:\n",
      "    https://scikit-learn.org/stable/modules/preprocessing.html\n",
      "Please also refer to the documentation for alternative solver options:\n",
      "    https://scikit-learn.org/stable/modules/linear_model.html#logistic-regression\n",
      "  n_iter_i = _check_optimize_result(\n"
     ]
    }
   ],
   "source": [
    "#LogisticRegression(penalty='l2', *, dual=False, tol=0.0001, C=1.0, fit_intercept=True, intercept_scaling=1, class_weight=None, random_state=None, solver='lbfgs', max_iter=100, multi_class='deprecated', verbose=0, warm_start=False, n_jobs=None, l1_ratio=None)[source]\n",
    "\n",
    "#LR : Cross validation 10 folds\n",
    "\n",
    "LR_corr_basc197 = LogisticRegression(C = 0.1, penalty='l2')\n",
    "cv = StratifiedKFold(n_splits=10)\n",
    "y_pred_corr_basc197_lr = cross_val_predict(LR_corr_basc197, X_train_basc197, y_train_basc197, cv = cv)"
   ]
  },
  {
   "cell_type": "code",
   "execution_count": 186,
   "id": "9f716eb1-0a56-4073-9273-ac71a4e0f9d5",
   "metadata": {},
   "outputs": [
    {
     "data": {
      "image/png": "[encoded data removed]",
      "text/plain": [
       "<Figure size 640x480 with 2 Axes>"
      ]
     },
     "metadata": {},
     "output_type": "display_data"
    }
   ],
   "source": [
    "# Matrice de confusion\n",
    "\n",
    "conf_matrix_corr_basc197_lr = confusion_matrix(y_train_basc197, y_pred_corr_basc197_lr)\n",
    "\n",
    "disp = ConfusionMatrixDisplay(conf_matrix_corr_basc197_lr, display_labels=[\"ASD\",\"TD\"])\n",
    "disp.plot()\n",
    "plt.show()"
   ]
  },
  {
   "cell_type": "code",
   "execution_count": 188,
   "id": "95b4a7ed-250a-4382-8c25-1f94fa981aa6",
   "metadata": {},
   "outputs": [
    {
     "name": "stdout",
     "output_type": "stream",
     "text": [
      "Accuracy :  0.685\n",
      "Sensitivité :  0.701\n",
      "Spécificité :  0.669\n",
      "Classification Report :\n",
      "               precision    recall  f1-score   support\n",
      "\n",
      "           1       0.68      0.67      0.67       181\n",
      "           2       0.69      0.70      0.70       194\n",
      "\n",
      "    accuracy                           0.69       375\n",
      "   macro avg       0.68      0.68      0.68       375\n",
      "weighted avg       0.69      0.69      0.69       375\n",
      "\n"
     ]
    }
   ],
   "source": [
    "#Affichage des métriques\n",
    "\n",
    "# Calcul de l'accuracy\n",
    "accuracy_corr_basc197_lr = accuracy_score(y_train_basc197, y_pred_corr_basc197_lr)\n",
    "print(\"Accuracy : \", round(accuracy_corr_basc197_lr,3))\n",
    "\n",
    "# Calcul de la sensitivité\n",
    "sensitivity_corr_basc197_lr = conf_matrix_corr_basc197_lr[1,1] / (conf_matrix_corr_basc197_lr[1,0] + conf_matrix_corr_basc197_lr[1,1])\n",
    "print(\"Sensitivité : \", round(sensitivity_corr_basc197_lr,3))\n",
    "\n",
    "# Calcul de la spécificité\n",
    "specificity_corr_basc197_lr = conf_matrix_corr_basc197_lr[0,0] / (conf_matrix_corr_basc197_lr[0,0] + conf_matrix_corr_basc197_lr[0,1])\n",
    "print(\"Spécificité : \", round(specificity_corr_basc197_lr,3))\n",
    "\n",
    "# Calcul du classification report\n",
    "class_report_corr_basc197_lr = classification_report(y_train_basc197, y_pred_corr_basc197_lr)\n",
    "print(\"Classification Report :\\n\", class_report_corr_basc197_lr)"
   ]
  },
  {
   "cell_type": "markdown",
   "id": "564bcd65-0753-40d1-a9d4-d7d763a268b0",
   "metadata": {
    "jp-MarkdownHeadingCollapsed": true
   },
   "source": [
    "##### Classifieur Gaussien Naïf de Bayes"
   ]
  },
  {
   "cell_type": "code",
   "execution_count": 190,
   "id": "aba3a9ae-074c-40f1-aed3-fe89263b969e",
   "metadata": {},
   "outputs": [],
   "source": [
    "#sklearn.naive_bayes.GaussianNB(*, priors=None, var_smoothing=1e-09)\n",
    "\n",
    "#GNB: Cross validation 10 folds\n",
    "\n",
    "GNB_corr_basc197 = GaussianNB()\n",
    "cv = StratifiedKFold(n_splits=10)\n",
    "y_pred_corr_basc197_gnb = cross_val_predict(GNB_corr_basc197, X_train_basc197, y_train_basc197, cv = cv)"
   ]
  },
  {
   "cell_type": "code",
   "execution_count": 192,
   "id": "2adba717-e341-4c22-8943-7497f3aa74da",
   "metadata": {},
   "outputs": [
    {
     "data": {
      "image/png": "[encoded data removed]",
      "text/plain": [
       "<Figure size 640x480 with 2 Axes>"
      ]
     },
     "metadata": {},
     "output_type": "display_data"
    }
   ],
   "source": [
    "# Matrice de confusion\n",
    "\n",
    "conf_matrix_corr_basc197_gnb = confusion_matrix(y_train_basc197, y_pred_corr_basc197_gnb)\n",
    "\n",
    "disp = ConfusionMatrixDisplay(conf_matrix_corr_basc197_gnb, display_labels=[\"ASD\",\"TD\"])\n",
    "disp.plot()\n",
    "plt.show()"
   ]
  },
  {
   "cell_type": "code",
   "execution_count": 194,
   "id": "2e5ed390-435e-484d-a27c-ffde7d4f850e",
   "metadata": {},
   "outputs": [
    {
     "name": "stdout",
     "output_type": "stream",
     "text": [
      "Accuracy :  0.549\n",
      "Sensitivité :  0.443\n",
      "Spécificité :  0.663\n",
      "Classification Report :\n",
      "               precision    recall  f1-score   support\n",
      "\n",
      "           1       0.53      0.66      0.59       181\n",
      "           2       0.59      0.44      0.50       194\n",
      "\n",
      "    accuracy                           0.55       375\n",
      "   macro avg       0.56      0.55      0.55       375\n",
      "weighted avg       0.56      0.55      0.54       375\n",
      "\n"
     ]
    }
   ],
   "source": [
    "#Affichage des métriques\n",
    "\n",
    "# Calcul de l'accuracy\n",
    "accuracy_corr_basc197_gnb = accuracy_score(y_train_basc197, y_pred_corr_basc197_gnb)\n",
    "print(\"Accuracy : \", round(accuracy_corr_basc197_gnb,3))\n",
    "\n",
    "# Calcul de la sensitivité\n",
    "sensitivity_corr_basc197_gnb = conf_matrix_corr_basc197_gnb[1,1] / (conf_matrix_corr_basc197_gnb[1,0] + conf_matrix_corr_basc197_gnb[1,1])\n",
    "print(\"Sensitivité : \", round(sensitivity_corr_basc197_gnb,3))\n",
    "\n",
    "# Calcul de la spécificité\n",
    "specificity_corr_basc197_gnb = conf_matrix_corr_basc197_gnb[0,0] / (conf_matrix_corr_basc197_gnb[0,0] + conf_matrix_corr_basc197_gnb[0,1])\n",
    "print(\"Spécificité : \", round(specificity_corr_basc197_gnb,3))\n",
    "\n",
    "# Calcul du classification report\n",
    "class_report_corr_basc197_gnb = classification_report(y_train_basc197, y_pred_corr_basc197_gnb)\n",
    "print(\"Classification Report :\\n\", class_report_corr_basc197_gnb)"
   ]
  },
  {
   "cell_type": "markdown",
   "id": "631e059f-af4c-47bd-8867-e8c5d2f2acf5",
   "metadata": {
    "jp-MarkdownHeadingCollapsed": true
   },
   "source": [
    "##### Kernel SVM"
   ]
  },
  {
   "cell_type": "code",
   "execution_count": 196,
   "id": "a085ea28-93b1-4010-af67-adfa577c701f",
   "metadata": {},
   "outputs": [
    {
     "name": "stdout",
     "output_type": "stream",
     "text": [
      "Best parameters for Logistic Regression: {'C': 10, 'degree': 2, 'kernel': 'poly'}\n"
     ]
    }
   ],
   "source": [
    "# Optimisation hyperparamètres\n",
    "\n",
    "param_grid_SVM = {'C': [0.01, 0.1, 1, 10, 100],\n",
    "    'kernel': ['linear', 'poly', 'rbf','sigmoid'],\n",
    "    'degree' : [2,3,4,5]}\n",
    "\n",
    "SVM_opt = SVC()\n",
    "grid_search_SVM = GridSearchCV(SVM_opt, param_grid_SVM, cv=5, scoring='accuracy')\n",
    "grid_search_SVM.fit(X_train_basc197, y_train_basc197)\n",
    "\n",
    "print(\"Best parameters for Logistic Regression:\", grid_search_SVM.best_params_)"
   ]
  },
  {
   "cell_type": "code",
   "execution_count": 199,
   "id": "d638d059-5032-4301-a419-37c859481bc8",
   "metadata": {},
   "outputs": [],
   "source": [
    "#sklearn.svm.SVC(*, C=1.0, kernel='rbf', degree=3, gamma='scale', coef0=0.0, shrinking=True, probability=False, tol=0.001, cache_size=200, class_weight=None, verbose=False, max_iter=-1, decision_function_shape='ovr', break_ties=False, random_state=None)\n",
    "\n",
    "# SVM : Cross-validation 10 folds\n",
    "svm = SVC (kernel = 'poly', C=10, degree = 2)\n",
    "cv = StratifiedKFold(n_splits=10)\n",
    "y_pred_corr_basc197_svm = cross_val_predict(svm, X_train_basc197, y_train_basc197, cv = cv)"
   ]
  },
  {
   "cell_type": "code",
   "execution_count": 200,
   "id": "e1f4e929-2477-4dbf-85d2-87bd43d342a7",
   "metadata": {},
   "outputs": [
    {
     "data": {
      "image/png": "[encoded data removed]",
      "text/plain": [
       "<Figure size 640x480 with 2 Axes>"
      ]
     },
     "metadata": {},
     "output_type": "display_data"
    }
   ],
   "source": [
    "# Matrice de confusion\n",
    "\n",
    "conf_matrix_corr_basc197_svm = confusion_matrix(y_train_basc197, y_pred_corr_basc197_svm)\n",
    "\n",
    "disp = ConfusionMatrixDisplay(conf_matrix_corr_basc197_svm, display_labels=[\"ASD\",\"TD\"])\n",
    "disp.plot()\n",
    "plt.show()"
   ]
  },
  {
   "cell_type": "code",
   "execution_count": 201,
   "id": "4326005e-60bc-49c4-a0a6-f14b63bee8aa",
   "metadata": {},
   "outputs": [
    {
     "name": "stdout",
     "output_type": "stream",
     "text": [
      "Accuracy :  0.691\n",
      "Sensitivité :  0.691\n",
      "Spécificité :  0.691\n",
      "Classification Report :\n",
      "               precision    recall  f1-score   support\n",
      "\n",
      "           1       0.68      0.69      0.68       181\n",
      "           2       0.71      0.69      0.70       194\n",
      "\n",
      "    accuracy                           0.69       375\n",
      "   macro avg       0.69      0.69      0.69       375\n",
      "weighted avg       0.69      0.69      0.69       375\n",
      "\n"
     ]
    }
   ],
   "source": [
    "#Affichage des métriques\n",
    "\n",
    "# Calcul de l'accuracy\n",
    "accuracy_corr_basc197_svm = accuracy_score(y_train_basc197, y_pred_corr_basc197_svm)\n",
    "print(\"Accuracy : \", round(accuracy_corr_basc197_svm,3))\n",
    "\n",
    "# Calcul de la sensitivité\n",
    "sensitivity_corr_basc197_svm = conf_matrix_corr_basc197_svm[1,1] / (conf_matrix_corr_basc197_svm[1,0] + conf_matrix_corr_basc197_svm[1,1])\n",
    "print(\"Sensitivité : \", round(sensitivity_corr_basc197_svm,3))\n",
    "\n",
    "# Calcul de la spécificité\n",
    "specificity_corr_basc197_svm = conf_matrix_corr_basc197_svm[0,0] / (conf_matrix_corr_basc197_svm[0,0] + conf_matrix_corr_basc197_svm[0,1])\n",
    "print(\"Spécificité : \", round(specificity_corr_basc197_svm,3))\n",
    "\n",
    "# Calcul du classification report\n",
    "class_report_corr_basc197_svm = classification_report(y_train_basc197, y_pred_corr_basc197_svm)\n",
    "print(\"Classification Report :\\n\", class_report_corr_basc197_svm)"
   ]
  },
  {
   "cell_type": "markdown",
   "id": "9336fa51-8214-47ad-a360-5fd10df1206c",
   "metadata": {
    "jp-MarkdownHeadingCollapsed": true
   },
   "source": [
    "##### Random Forest"
   ]
  },
  {
   "cell_type": "code",
   "execution_count": 197,
   "id": "0b342878-ee3d-4803-bb11-2c397c95985c",
   "metadata": {},
   "outputs": [
    {
     "name": "stdout",
     "output_type": "stream",
     "text": [
      "Best parameters for Logistic Regression: {'criterion': 'entropy', 'max_depth': 5, 'n_estimators': 200}\n"
     ]
    }
   ],
   "source": [
    "# Optimisation hyperparamètres\n",
    "\n",
    "param_grid_RF = {'n_estimators': [100, 200, 300],\n",
    "                'max_depth': [5,10,20],\n",
    "                'criterion' : ['gini','entropy','log_loss']}\n",
    "\n",
    "RF_opt = RandomForestClassifier()\n",
    "grid_search_RF = GridSearchCV(RF_opt, param_grid_RF, cv=5, scoring='accuracy')\n",
    "grid_search_RF.fit(X_train_basc197, y_train_basc197)\n",
    "\n",
    "print(\"Best parameters for Logistic Regression:\", grid_search_RF.best_params_)"
   ]
  },
  {
   "cell_type": "code",
   "execution_count": 206,
   "id": "96a68724-d3ab-44a8-9b5c-c31f8a6bd429",
   "metadata": {},
   "outputs": [],
   "source": [
    "#class sklearn.ensemble.RandomForestClassifier(n_estimators=100, *, criterion='gini', max_depth=None, min_samples_split=2, min_samples_leaf=1, min_weight_fraction_leaf=0.0, max_features='sqrt', max_leaf_nodes=None, min_impurity_decrease=0.0, bootstrap=True, oob_score=False, n_jobs=None, random_state=None, verbose=0, warm_start=False, class_weight=None, ccp_alpha=0.0, max_samples=None, monotonic_cst=None)\n",
    "\n",
    "RF = RandomForestClassifier(n_estimators=200, criterion ='entropy', max_depth=5, random_state=123)\n",
    "cv = StratifiedKFold(n_splits=10)\n",
    "y_pred_corr_basc197_rf = cross_val_predict(RF, X_train_basc197, y_train_basc197, cv = cv)"
   ]
  },
  {
   "cell_type": "code",
   "execution_count": 207,
   "id": "2272e0b0-531d-46ce-8fc8-a63df089c1ab",
   "metadata": {},
   "outputs": [
    {
     "data": {
      "image/png": "[encoded data removed]",
      "text/plain": [
       "<Figure size 640x480 with 2 Axes>"
      ]
     },
     "metadata": {},
     "output_type": "display_data"
    }
   ],
   "source": [
    "# Matrice de confusion\n",
    "\n",
    "conf_matrix_corr_basc197_rf = confusion_matrix(y_train_basc197, y_pred_corr_basc197_rf)\n",
    "\n",
    "disp = ConfusionMatrixDisplay(conf_matrix_corr_basc197_rf, display_labels=[\"ASD\",\"TD\"])\n",
    "disp.plot()\n",
    "plt.show()"
   ]
  },
  {
   "cell_type": "code",
   "execution_count": 208,
   "id": "9fbd20b1-3e40-4f57-ad0e-c6d6069a3ea9",
   "metadata": {},
   "outputs": [
    {
     "name": "stdout",
     "output_type": "stream",
     "text": [
      "Accuracy :  0.605\n",
      "Sensitivité :  0.655\n",
      "Spécificité :  0.552\n",
      "Classification Report :\n",
      "               precision    recall  f1-score   support\n",
      "\n",
      "           1       0.60      0.55      0.57       181\n",
      "           2       0.61      0.65      0.63       194\n",
      "\n",
      "    accuracy                           0.61       375\n",
      "   macro avg       0.60      0.60      0.60       375\n",
      "weighted avg       0.60      0.61      0.60       375\n",
      "\n"
     ]
    }
   ],
   "source": [
    "#Affichage des métriques\n",
    "\n",
    "# Calcul de l'accuracy\n",
    "accuracy_corr_basc197_rf = accuracy_score(y_train_basc197, y_pred_corr_basc197_rf)\n",
    "print(\"Accuracy : \", round(accuracy_corr_basc197_rf,3))\n",
    "\n",
    "# Calcul de la sensitivité\n",
    "sensitivity_corr_basc197_rf = conf_matrix_corr_basc197_rf[1,1] / (conf_matrix_corr_basc197_rf[1,0] + conf_matrix_corr_basc197_rf[1,1])\n",
    "print(\"Sensitivité : \", round(sensitivity_corr_basc197_rf,3))\n",
    "\n",
    "# Calcul de la spécificité\n",
    "specificity_corr_basc197_rf = conf_matrix_corr_basc197_rf[0,0] / (conf_matrix_corr_basc197_rf[0,0] + conf_matrix_corr_basc197_rf[0,1])\n",
    "print(\"Spécificité : \", round(specificity_corr_basc197_rf,3))\n",
    "\n",
    "# Calcul du classification report\n",
    "class_report_corr_basc197_rf = classification_report(y_train_basc197, y_pred_corr_basc197_rf)\n",
    "print(\"Classification Report :\\n\", class_report_corr_basc197_rf)"
   ]
  },
  {
   "cell_type": "markdown",
   "id": "83b9f99b-184a-4d67-b904-e7f4da23fc2a",
   "metadata": {},
   "source": [
    "#### Sélection du modèle"
   ]
  },
  {
   "cell_type": "markdown",
   "id": "748f43cc-7902-4bc6-8c5f-bac1f1d8d59a",
   "metadata": {
    "jp-MarkdownHeadingCollapsed": true
   },
   "source": [
    "##### Tableau récapitulatif"
   ]
  },
  {
   "cell_type": "code",
   "execution_count": 218,
   "id": "1fac0a2c-8158-43a2-b125-5d0ffe8c572c",
   "metadata": {},
   "outputs": [
    {
     "data": {
      "text/html": [
       "<div>\n",
       "<style scoped>\n",
       "    .dataframe tbody tr th:only-of-type {\n",
       "        vertical-align: middle;\n",
       "    }\n",
       "\n",
       "    .dataframe tbody tr th {\n",
       "        vertical-align: top;\n",
       "    }\n",
       "\n",
       "    .dataframe thead tr th {\n",
       "        text-align: left;\n",
       "    }\n",
       "</style>\n",
       "<table border=\"1\" class=\"dataframe\">\n",
       "  <thead>\n",
       "    <tr>\n",
       "      <th></th>\n",
       "      <th colspan=\"3\" halign=\"left\">Harvard Oxford</th>\n",
       "      <th colspan=\"3\" halign=\"left\">Destrieux</th>\n",
       "      <th colspan=\"3\" halign=\"left\">Basc 197</th>\n",
       "    </tr>\n",
       "    <tr>\n",
       "      <th></th>\n",
       "      <th>Accuracy</th>\n",
       "      <th>Sensitivity</th>\n",
       "      <th>Specificity</th>\n",
       "      <th>Accuracy</th>\n",
       "      <th>Sensitivity</th>\n",
       "      <th>Specificity</th>\n",
       "      <th>Accuracy</th>\n",
       "      <th>Sensitivity</th>\n",
       "      <th>Specificity</th>\n",
       "    </tr>\n",
       "  </thead>\n",
       "  <tbody>\n",
       "    <tr>\n",
       "      <th>LR</th>\n",
       "      <td>0.629</td>\n",
       "      <td>0.727</td>\n",
       "      <td>0.525</td>\n",
       "      <td>0.680</td>\n",
       "      <td>0.732</td>\n",
       "      <td>0.624</td>\n",
       "      <td>0.685</td>\n",
       "      <td>0.701</td>\n",
       "      <td>0.669</td>\n",
       "    </tr>\n",
       "    <tr>\n",
       "      <th>GNB</th>\n",
       "      <td>0.547</td>\n",
       "      <td>0.495</td>\n",
       "      <td>0.602</td>\n",
       "      <td>0.549</td>\n",
       "      <td>0.464</td>\n",
       "      <td>0.641</td>\n",
       "      <td>0.549</td>\n",
       "      <td>0.443</td>\n",
       "      <td>0.663</td>\n",
       "    </tr>\n",
       "    <tr>\n",
       "      <th>kSVM</th>\n",
       "      <td>0.629</td>\n",
       "      <td>0.660</td>\n",
       "      <td>0.597</td>\n",
       "      <td>0.677</td>\n",
       "      <td>0.737</td>\n",
       "      <td>0.613</td>\n",
       "      <td>0.691</td>\n",
       "      <td>0.691</td>\n",
       "      <td>0.691</td>\n",
       "    </tr>\n",
       "    <tr>\n",
       "      <th>RF</th>\n",
       "      <td>0.576</td>\n",
       "      <td>0.603</td>\n",
       "      <td>0.547</td>\n",
       "      <td>0.611</td>\n",
       "      <td>0.686</td>\n",
       "      <td>0.530</td>\n",
       "      <td>0.605</td>\n",
       "      <td>0.655</td>\n",
       "      <td>0.552</td>\n",
       "    </tr>\n",
       "  </tbody>\n",
       "</table>\n",
       "</div>"
      ],
      "text/plain": [
       "     Harvard Oxford                         Destrieux                          \\\n",
       "           Accuracy Sensitivity Specificity  Accuracy Sensitivity Specificity   \n",
       "LR            0.629       0.727       0.525     0.680       0.732       0.624   \n",
       "GNB           0.547       0.495       0.602     0.549       0.464       0.641   \n",
       "kSVM          0.629       0.660       0.597     0.677       0.737       0.613   \n",
       "RF            0.576       0.603       0.547     0.611       0.686       0.530   \n",
       "\n",
       "     Basc 197                          \n",
       "     Accuracy Sensitivity Specificity  \n",
       "LR      0.685       0.701       0.669  \n",
       "GNB     0.549       0.443       0.663  \n",
       "kSVM    0.691       0.691       0.691  \n",
       "RF      0.605       0.655       0.552  "
      ]
     },
     "execution_count": 218,
     "metadata": {},
     "output_type": "execute_result"
    }
   ],
   "source": [
    "# Define index and columns\n",
    "\n",
    "arrays = [\n",
    "    ['Harvard Oxford','Harvard Oxford','Harvard Oxford','Destrieux','Destrieux','Destrieux','Basc 197','Basc 197','Basc 197'],\n",
    "    ['Accuracy', 'Sensitivity','Specificity','Accuracy', 'Sensitivity','Specificity','Accuracy', 'Sensitivity','Specificity']\n",
    "]\n",
    "multi_index = pd.MultiIndex.from_arrays(arrays, names=('', ''))\n",
    "\n",
    "index = [\"LR\", \"GNB\",\"kSVM\",\"RF\"]\n",
    "\n",
    "multi_index = pd.MultiIndex.from_arrays(arrays, names=('', ''))\n",
    "\n",
    "# Data\n",
    "data = [\n",
    "    [accuracy_corr_ho_lr, sensitivity_corr_ho_lr, specificity_corr_ho_lr, accuracy_corr_destrieux_lr, sensitivity_corr_destrieux_lr, specificity_corr_destrieux_lr, accuracy_corr_basc197_lr, sensitivity_corr_basc197_lr, specificity_corr_basc197_lr],\n",
    "    [accuracy_corr_ho_gnb, sensitivity_corr_ho_gnb, specificity_corr_ho_gnb, accuracy_corr_destrieux_gnb, sensitivity_corr_destrieux_gnb, specificity_corr_destrieux_gnb, accuracy_corr_basc197_gnb, sensitivity_corr_basc197_gnb, specificity_corr_basc197_gnb],\n",
    "    [accuracy_corr_ho_svm, sensitivity_corr_ho_svm, specificity_corr_ho_svm, accuracy_corr_destrieux_svm, sensitivity_corr_destrieux_svm, specificity_corr_destrieux_svm, accuracy_corr_basc197_svm, sensitivity_corr_basc197_svm, specificity_corr_basc197_svm],\n",
    "    [accuracy_corr_ho_rf, sensitivity_corr_ho_rf, specificity_corr_ho_rf, accuracy_corr_destrieux_rf, sensitivity_corr_destrieux_rf, specificity_corr_destrieux_rf, accuracy_corr_basc197_rf, sensitivity_corr_basc197_rf, specificity_corr_basc197_rf]\n",
    "]\n",
    "\n",
    "# Create the DataFrame\n",
    "recap = pd.DataFrame(data, index = index, columns=multi_index)\n",
    "recap.round(3)"
   ]
  },
  {
   "cell_type": "markdown",
   "id": "3654b020-e971-4d04-b511-5358e555ca17",
   "metadata": {},
   "source": [
    "Meilleure spécificité : 69,1% - Atlas Basc197 et modèle kSVM\n",
    "<br>\n",
    "Meilleure sensibilité : 73,7% - Atlas Destrieux et modèle kSVM\n",
    "<br>\n",
    "Meilleur accuracy : 69,1% - Atlas Basc197 et modèle kSVM\n",
    "<br>\n",
    "Globalement, les modèles avec l'atlas Destrieux et l'atlas Basc197 avec les classifieurs LR et kSVM semblent intéressants. On sélectionne l'atlas basc197 et le modèle kSVM."
   ]
  },
  {
   "cell_type": "markdown",
   "id": "389e0ec8-b691-4f9e-b92b-eb5dfd7802bb",
   "metadata": {
    "jp-MarkdownHeadingCollapsed": true
   },
   "source": [
    "##### Courbes ROC"
   ]
  },
  {
   "cell_type": "markdown",
   "id": "f0719a0d-578c-46f5-8403-051457cd7c09",
   "metadata": {
    "jp-MarkdownHeadingCollapsed": true
   },
   "source": [
    "###### Atlas Destrieux - LR"
   ]
  },
  {
   "cell_type": "code",
   "execution_count": 310,
   "id": "0e1ba005-955f-442f-b434-9735cf43acc9",
   "metadata": {},
   "outputs": [
    {
     "name": "stderr",
     "output_type": "stream",
     "text": [
      "C:\\Users\\elodi\\anaconda3\\Lib\\site-packages\\sklearn\\linear_model\\_logistic.py:458: ConvergenceWarning: lbfgs failed to converge (status=1):\n",
      "STOP: TOTAL NO. of ITERATIONS REACHED LIMIT.\n",
      "\n",
      "Increase the number of iterations (max_iter) or scale the data as shown in:\n",
      "    https://scikit-learn.org/stable/modules/preprocessing.html\n",
      "Please also refer to the documentation for alternative solver options:\n",
      "    https://scikit-learn.org/stable/modules/linear_model.html#logistic-regression\n",
      "  n_iter_i = _check_optimize_result(\n",
      "C:\\Users\\elodi\\anaconda3\\Lib\\site-packages\\sklearn\\linear_model\\_logistic.py:458: ConvergenceWarning: lbfgs failed to converge (status=1):\n",
      "STOP: TOTAL NO. of ITERATIONS REACHED LIMIT.\n",
      "\n",
      "Increase the number of iterations (max_iter) or scale the data as shown in:\n",
      "    https://scikit-learn.org/stable/modules/preprocessing.html\n",
      "Please also refer to the documentation for alternative solver options:\n",
      "    https://scikit-learn.org/stable/modules/linear_model.html#logistic-regression\n",
      "  n_iter_i = _check_optimize_result(\n",
      "C:\\Users\\elodi\\anaconda3\\Lib\\site-packages\\sklearn\\linear_model\\_logistic.py:458: ConvergenceWarning: lbfgs failed to converge (status=1):\n",
      "STOP: TOTAL NO. of ITERATIONS REACHED LIMIT.\n",
      "\n",
      "Increase the number of iterations (max_iter) or scale the data as shown in:\n",
      "    https://scikit-learn.org/stable/modules/preprocessing.html\n",
      "Please also refer to the documentation for alternative solver options:\n",
      "    https://scikit-learn.org/stable/modules/linear_model.html#logistic-regression\n",
      "  n_iter_i = _check_optimize_result(\n",
      "C:\\Users\\elodi\\anaconda3\\Lib\\site-packages\\sklearn\\linear_model\\_logistic.py:458: ConvergenceWarning: lbfgs failed to converge (status=1):\n",
      "STOP: TOTAL NO. of ITERATIONS REACHED LIMIT.\n",
      "\n",
      "Increase the number of iterations (max_iter) or scale the data as shown in:\n",
      "    https://scikit-learn.org/stable/modules/preprocessing.html\n",
      "Please also refer to the documentation for alternative solver options:\n",
      "    https://scikit-learn.org/stable/modules/linear_model.html#logistic-regression\n",
      "  n_iter_i = _check_optimize_result(\n",
      "C:\\Users\\elodi\\anaconda3\\Lib\\site-packages\\sklearn\\linear_model\\_logistic.py:458: ConvergenceWarning: lbfgs failed to converge (status=1):\n",
      "STOP: TOTAL NO. of ITERATIONS REACHED LIMIT.\n",
      "\n",
      "Increase the number of iterations (max_iter) or scale the data as shown in:\n",
      "    https://scikit-learn.org/stable/modules/preprocessing.html\n",
      "Please also refer to the documentation for alternative solver options:\n",
      "    https://scikit-learn.org/stable/modules/linear_model.html#logistic-regression\n",
      "  n_iter_i = _check_optimize_result(\n",
      "C:\\Users\\elodi\\anaconda3\\Lib\\site-packages\\sklearn\\linear_model\\_logistic.py:458: ConvergenceWarning: lbfgs failed to converge (status=1):\n",
      "STOP: TOTAL NO. of ITERATIONS REACHED LIMIT.\n",
      "\n",
      "Increase the number of iterations (max_iter) or scale the data as shown in:\n",
      "    https://scikit-learn.org/stable/modules/preprocessing.html\n",
      "Please also refer to the documentation for alternative solver options:\n",
      "    https://scikit-learn.org/stable/modules/linear_model.html#logistic-regression\n",
      "  n_iter_i = _check_optimize_result(\n",
      "C:\\Users\\elodi\\anaconda3\\Lib\\site-packages\\sklearn\\linear_model\\_logistic.py:458: ConvergenceWarning: lbfgs failed to converge (status=1):\n",
      "STOP: TOTAL NO. of ITERATIONS REACHED LIMIT.\n",
      "\n",
      "Increase the number of iterations (max_iter) or scale the data as shown in:\n",
      "    https://scikit-learn.org/stable/modules/preprocessing.html\n",
      "Please also refer to the documentation for alternative solver options:\n",
      "    https://scikit-learn.org/stable/modules/linear_model.html#logistic-regression\n",
      "  n_iter_i = _check_optimize_result(\n",
      "C:\\Users\\elodi\\anaconda3\\Lib\\site-packages\\sklearn\\linear_model\\_logistic.py:458: ConvergenceWarning: lbfgs failed to converge (status=1):\n",
      "STOP: TOTAL NO. of ITERATIONS REACHED LIMIT.\n",
      "\n",
      "Increase the number of iterations (max_iter) or scale the data as shown in:\n",
      "    https://scikit-learn.org/stable/modules/preprocessing.html\n",
      "Please also refer to the documentation for alternative solver options:\n",
      "    https://scikit-learn.org/stable/modules/linear_model.html#logistic-regression\n",
      "  n_iter_i = _check_optimize_result(\n",
      "C:\\Users\\elodi\\anaconda3\\Lib\\site-packages\\sklearn\\linear_model\\_logistic.py:458: ConvergenceWarning: lbfgs failed to converge (status=1):\n",
      "STOP: TOTAL NO. of ITERATIONS REACHED LIMIT.\n",
      "\n",
      "Increase the number of iterations (max_iter) or scale the data as shown in:\n",
      "    https://scikit-learn.org/stable/modules/preprocessing.html\n",
      "Please also refer to the documentation for alternative solver options:\n",
      "    https://scikit-learn.org/stable/modules/linear_model.html#logistic-regression\n",
      "  n_iter_i = _check_optimize_result(\n",
      "C:\\Users\\elodi\\anaconda3\\Lib\\site-packages\\sklearn\\linear_model\\_logistic.py:458: ConvergenceWarning: lbfgs failed to converge (status=1):\n",
      "STOP: TOTAL NO. of ITERATIONS REACHED LIMIT.\n",
      "\n",
      "Increase the number of iterations (max_iter) or scale the data as shown in:\n",
      "    https://scikit-learn.org/stable/modules/preprocessing.html\n",
      "Please also refer to the documentation for alternative solver options:\n",
      "    https://scikit-learn.org/stable/modules/linear_model.html#logistic-regression\n",
      "  n_iter_i = _check_optimize_result(\n"
     ]
    },
    {
     "data": {
      "image/png": "[encoded data removed]",
      "text/plain": [
       "<Figure size 640x480 with 1 Axes>"
      ]
     },
     "metadata": {},
     "output_type": "display_data"
    }
   ],
   "source": [
    "y_train_destrieux_binary = np.where(y_train_destrieux == 2, 0, 1)\n",
    "\n",
    "# Définir le modèle SVM\n",
    "LR_corr_destrieux_proba = LogisticRegression(C = 1, penalty='l2')\n",
    "cv = StratifiedKFold(n_splits=10)\n",
    "y_pred_prob_destrieux_lr = cross_val_predict(LR_corr_destrieux_proba, X_train_destrieux, y_train_destrieux_binary, cv=cv, method='predict_proba')[:, 1]\n",
    "\n",
    "# Calculer les points de la courbe ROC\n",
    "fpr, tpr, thresholds = roc_curve(y_train_destrieux, y_pred_prob_destrieux_lr, pos_label=1)\n",
    "\n",
    "# Calculer l'aire sous la courbe ROC\n",
    "roc_auc = auc(fpr, tpr)\n",
    "\n",
    "# Tracer la courbe ROC\n",
    "plt.figure()\n",
    "plt.plot(fpr, tpr, color='darkorange', lw=2, label='ROC curve (area = %0.2f)' % roc_auc)\n",
    "plt.plot([0, 1], [0, 1], color='navy', lw=2, linestyle='--')\n",
    "plt.xlim([0.0, 1.0])\n",
    "plt.ylim([0.0, 1.05])\n",
    "plt.xlabel('False Positive Rate')\n",
    "plt.ylabel('True Positive Rate')\n",
    "plt.title('Receiver Operating Characteristic (ROC)')\n",
    "plt.legend(loc='lower right')\n",
    "plt.show()"
   ]
  },
  {
   "cell_type": "markdown",
   "id": "ca61f67f-e7ee-42a2-8ffa-ef218852532f",
   "metadata": {
    "jp-MarkdownHeadingCollapsed": true
   },
   "source": [
    "###### Atlas Destrieux - SVM"
   ]
  },
  {
   "cell_type": "code",
   "execution_count": 308,
   "id": "9f1b43a9-b588-4582-abb9-1a2033b62eed",
   "metadata": {},
   "outputs": [
    {
     "data": {
      "image/png": "[encoded data removed]",
      "text/plain": [
       "<Figure size 640x480 with 1 Axes>"
      ]
     },
     "metadata": {},
     "output_type": "display_data"
    }
   ],
   "source": [
    "y_train_destrieux_binary = np.where(y_train_destrieux == 2, 0, 1)\n",
    "\n",
    "# Définir le modèle SVM\n",
    "SVM_corr_destrieux_proba = SVC(kernel = 'linear', C=0.1, probability = True)\n",
    "cv = StratifiedKFold(n_splits=10)\n",
    "y_pred_prob_destrieux_svm = cross_val_predict(SVM_corr_destrieux_proba, X_train_destrieux, y_train_destrieux_binary, cv=cv, method='predict_proba')[:, 1]\n",
    "\n",
    "# Calculer les points de la courbe ROC\n",
    "fpr, tpr, thresholds = roc_curve(y_train_destrieux_binary, y_pred_prob_destrieux_svm, pos_label=1)\n",
    "\n",
    "# Calculer l'aire sous la courbe ROC\n",
    "roc_auc = auc(fpr, tpr)\n",
    "\n",
    "# Tracer la courbe ROC\n",
    "plt.figure()\n",
    "plt.plot(fpr, tpr, color='darkorange', lw=2, label='ROC curve (area = %0.2f)' % roc_auc)\n",
    "plt.plot([0, 1], [0, 1], color='navy', lw=2, linestyle='--')\n",
    "plt.xlim([0, 1.0])\n",
    "plt.ylim([0.0, 1.05])\n",
    "plt.xlabel('False Positive Rate')\n",
    "plt.ylabel('True Positive Rate')\n",
    "plt.title('Receiver Operating Characteristic (ROC)')\n",
    "plt.legend(loc='lower right')\n",
    "plt.show()"
   ]
  },
  {
   "cell_type": "markdown",
   "id": "74ac3654-c1f9-400b-a799-3f06620a15ac",
   "metadata": {
    "jp-MarkdownHeadingCollapsed": true
   },
   "source": [
    "###### Atlas Basc197 - LR"
   ]
  },
  {
   "cell_type": "code",
   "execution_count": 314,
   "id": "ee81a1fc-274f-43ba-9a0f-7bed5043712e",
   "metadata": {},
   "outputs": [
    {
     "name": "stderr",
     "output_type": "stream",
     "text": [
      "C:\\Users\\elodi\\anaconda3\\Lib\\site-packages\\sklearn\\linear_model\\_logistic.py:458: ConvergenceWarning: lbfgs failed to converge (status=1):\n",
      "STOP: TOTAL NO. of ITERATIONS REACHED LIMIT.\n",
      "\n",
      "Increase the number of iterations (max_iter) or scale the data as shown in:\n",
      "    https://scikit-learn.org/stable/modules/preprocessing.html\n",
      "Please also refer to the documentation for alternative solver options:\n",
      "    https://scikit-learn.org/stable/modules/linear_model.html#logistic-regression\n",
      "  n_iter_i = _check_optimize_result(\n",
      "C:\\Users\\elodi\\anaconda3\\Lib\\site-packages\\sklearn\\linear_model\\_logistic.py:458: ConvergenceWarning: lbfgs failed to converge (status=1):\n",
      "STOP: TOTAL NO. of ITERATIONS REACHED LIMIT.\n",
      "\n",
      "Increase the number of iterations (max_iter) or scale the data as shown in:\n",
      "    https://scikit-learn.org/stable/modules/preprocessing.html\n",
      "Please also refer to the documentation for alternative solver options:\n",
      "    https://scikit-learn.org/stable/modules/linear_model.html#logistic-regression\n",
      "  n_iter_i = _check_optimize_result(\n",
      "C:\\Users\\elodi\\anaconda3\\Lib\\site-packages\\sklearn\\linear_model\\_logistic.py:458: ConvergenceWarning: lbfgs failed to converge (status=1):\n",
      "STOP: TOTAL NO. of ITERATIONS REACHED LIMIT.\n",
      "\n",
      "Increase the number of iterations (max_iter) or scale the data as shown in:\n",
      "    https://scikit-learn.org/stable/modules/preprocessing.html\n",
      "Please also refer to the documentation for alternative solver options:\n",
      "    https://scikit-learn.org/stable/modules/linear_model.html#logistic-regression\n",
      "  n_iter_i = _check_optimize_result(\n",
      "C:\\Users\\elodi\\anaconda3\\Lib\\site-packages\\sklearn\\linear_model\\_logistic.py:458: ConvergenceWarning: lbfgs failed to converge (status=1):\n",
      "STOP: TOTAL NO. of ITERATIONS REACHED LIMIT.\n",
      "\n",
      "Increase the number of iterations (max_iter) or scale the data as shown in:\n",
      "    https://scikit-learn.org/stable/modules/preprocessing.html\n",
      "Please also refer to the documentation for alternative solver options:\n",
      "    https://scikit-learn.org/stable/modules/linear_model.html#logistic-regression\n",
      "  n_iter_i = _check_optimize_result(\n",
      "C:\\Users\\elodi\\anaconda3\\Lib\\site-packages\\sklearn\\linear_model\\_logistic.py:458: ConvergenceWarning: lbfgs failed to converge (status=1):\n",
      "STOP: TOTAL NO. of ITERATIONS REACHED LIMIT.\n",
      "\n",
      "Increase the number of iterations (max_iter) or scale the data as shown in:\n",
      "    https://scikit-learn.org/stable/modules/preprocessing.html\n",
      "Please also refer to the documentation for alternative solver options:\n",
      "    https://scikit-learn.org/stable/modules/linear_model.html#logistic-regression\n",
      "  n_iter_i = _check_optimize_result(\n",
      "C:\\Users\\elodi\\anaconda3\\Lib\\site-packages\\sklearn\\linear_model\\_logistic.py:458: ConvergenceWarning: lbfgs failed to converge (status=1):\n",
      "STOP: TOTAL NO. of ITERATIONS REACHED LIMIT.\n",
      "\n",
      "Increase the number of iterations (max_iter) or scale the data as shown in:\n",
      "    https://scikit-learn.org/stable/modules/preprocessing.html\n",
      "Please also refer to the documentation for alternative solver options:\n",
      "    https://scikit-learn.org/stable/modules/linear_model.html#logistic-regression\n",
      "  n_iter_i = _check_optimize_result(\n",
      "C:\\Users\\elodi\\anaconda3\\Lib\\site-packages\\sklearn\\linear_model\\_logistic.py:458: ConvergenceWarning: lbfgs failed to converge (status=1):\n",
      "STOP: TOTAL NO. of ITERATIONS REACHED LIMIT.\n",
      "\n",
      "Increase the number of iterations (max_iter) or scale the data as shown in:\n",
      "    https://scikit-learn.org/stable/modules/preprocessing.html\n",
      "Please also refer to the documentation for alternative solver options:\n",
      "    https://scikit-learn.org/stable/modules/linear_model.html#logistic-regression\n",
      "  n_iter_i = _check_optimize_result(\n",
      "C:\\Users\\elodi\\anaconda3\\Lib\\site-packages\\sklearn\\linear_model\\_logistic.py:458: ConvergenceWarning: lbfgs failed to converge (status=1):\n",
      "STOP: TOTAL NO. of ITERATIONS REACHED LIMIT.\n",
      "\n",
      "Increase the number of iterations (max_iter) or scale the data as shown in:\n",
      "    https://scikit-learn.org/stable/modules/preprocessing.html\n",
      "Please also refer to the documentation for alternative solver options:\n",
      "    https://scikit-learn.org/stable/modules/linear_model.html#logistic-regression\n",
      "  n_iter_i = _check_optimize_result(\n",
      "C:\\Users\\elodi\\anaconda3\\Lib\\site-packages\\sklearn\\linear_model\\_logistic.py:458: ConvergenceWarning: lbfgs failed to converge (status=1):\n",
      "STOP: TOTAL NO. of ITERATIONS REACHED LIMIT.\n",
      "\n",
      "Increase the number of iterations (max_iter) or scale the data as shown in:\n",
      "    https://scikit-learn.org/stable/modules/preprocessing.html\n",
      "Please also refer to the documentation for alternative solver options:\n",
      "    https://scikit-learn.org/stable/modules/linear_model.html#logistic-regression\n",
      "  n_iter_i = _check_optimize_result(\n",
      "C:\\Users\\elodi\\anaconda3\\Lib\\site-packages\\sklearn\\linear_model\\_logistic.py:458: ConvergenceWarning: lbfgs failed to converge (status=1):\n",
      "STOP: TOTAL NO. of ITERATIONS REACHED LIMIT.\n",
      "\n",
      "Increase the number of iterations (max_iter) or scale the data as shown in:\n",
      "    https://scikit-learn.org/stable/modules/preprocessing.html\n",
      "Please also refer to the documentation for alternative solver options:\n",
      "    https://scikit-learn.org/stable/modules/linear_model.html#logistic-regression\n",
      "  n_iter_i = _check_optimize_result(\n"
     ]
    },
    {
     "data": {
      "image/png": "[encoded data removed]",
      "text/plain": [
       "<Figure size 640x480 with 1 Axes>"
      ]
     },
     "metadata": {},
     "output_type": "display_data"
    }
   ],
   "source": [
    "y_train_basc197_binary = np.where(y_train_basc197 == 2, 0, 1)\n",
    "\n",
    "# Définir le modèle SVM\n",
    "LR_corr_basc197_proba = LogisticRegression(C = 0.1, penalty='l2')\n",
    "cv = StratifiedKFold(n_splits=10)\n",
    "y_pred_prob_basc197_lr = cross_val_predict(LR_corr_basc197_proba, X_train_basc197, y_train_basc197_binary, cv=cv, method='predict_proba')[:, 1]\n",
    "\n",
    "# Calculer les points de la courbe ROC\n",
    "fpr, tpr, thresholds = roc_curve(y_train_basc197, y_pred_prob_basc197_lr, pos_label=1)\n",
    "\n",
    "# Calculer l'aire sous la courbe ROC\n",
    "roc_auc = auc(fpr, tpr)\n",
    "\n",
    "# Tracer la courbe ROC\n",
    "plt.figure()\n",
    "plt.plot(fpr, tpr, color='darkorange', lw=2, label='ROC curve (area = %0.2f)' % roc_auc)\n",
    "plt.plot([0, 1], [0, 1], color='navy', lw=2, linestyle='--')\n",
    "plt.xlim([0.0, 1.0])\n",
    "plt.ylim([0.0, 1.05])\n",
    "plt.xlabel('False Positive Rate')\n",
    "plt.ylabel('True Positive Rate')\n",
    "plt.title('Receiver Operating Characteristic (ROC)')\n",
    "plt.legend(loc='lower right')\n",
    "plt.show()"
   ]
  },
  {
   "cell_type": "markdown",
   "id": "77fabbfd-cc89-4bf2-80a2-6ab4122ca161",
   "metadata": {
    "jp-MarkdownHeadingCollapsed": true
   },
   "source": [
    "###### Atlas Basc197 - SVM"
   ]
  },
  {
   "cell_type": "code",
   "execution_count": 316,
   "id": "9184399c-6ac8-4f14-8964-5c57cb59bb18",
   "metadata": {},
   "outputs": [
    {
     "data": {
      "image/png": "[encoded data removed]",
      "text/plain": [
       "<Figure size 640x480 with 1 Axes>"
      ]
     },
     "metadata": {},
     "output_type": "display_data"
    }
   ],
   "source": [
    "y_train_basc197_binary = np.where(y_train_basc197 == 2, 0, 1)\n",
    "\n",
    "# Définir le modèle SVM\n",
    "SVM_corr_basc197_proba = SVC(kernel = 'poly', C=10, degree = 2, probability = True)\n",
    "cv = StratifiedKFold(n_splits=10)\n",
    "y_pred_prob_basc197_svm = cross_val_predict(SVM_corr_basc197_proba, X_train_basc197, y_train_basc197_binary, cv=cv, method='predict_proba')[:, 1]\n",
    "\n",
    "# Calculer les points de la courbe ROC\n",
    "fpr, tpr, thresholds = roc_curve(y_train_basc197_binary, y_pred_prob_basc197_svm, pos_label=1)\n",
    "\n",
    "# Calculer l'aire sous la courbe ROC\n",
    "roc_auc = auc(fpr, tpr)\n",
    "\n",
    "# Tracer la courbe ROC\n",
    "plt.figure()\n",
    "plt.plot(fpr, tpr, color='darkorange', lw=2, label='ROC curve (area = %0.2f)' % roc_auc)\n",
    "plt.plot([0, 1], [0, 1], color='navy', lw=2, linestyle='--')\n",
    "plt.xlim([0, 1.0])\n",
    "plt.ylim([0.0, 1.05])\n",
    "plt.xlabel('False Positive Rate')\n",
    "plt.ylabel('True Positive Rate')\n",
    "plt.title('Receiver Operating Characteristic (ROC)')\n",
    "plt.legend(loc='lower right')\n",
    "plt.show()"
   ]
  },
  {
   "cell_type": "markdown",
   "id": "9836d883-73da-436f-8f95-73b66a22681c",
   "metadata": {
    "jp-MarkdownHeadingCollapsed": true
   },
   "source": [
    "##### Essai sur la base de test : Atlas Basc197 et modèle kSVM"
   ]
  },
  {
   "cell_type": "code",
   "execution_count": 362,
   "id": "1ddcdfce-96d1-4aae-b449-0c117af52f69",
   "metadata": {},
   "outputs": [],
   "source": [
    "# SVM\n",
    "svm = SVC (kernel = 'poly', C=10, degree = 2)\n",
    "svm.fit(X_train_basc197, y_train_basc197)\n",
    "y_pred = svm.predict(X_test_basc197)"
   ]
  },
  {
   "cell_type": "code",
   "execution_count": 363,
   "id": "60636ea7-35c5-40ba-bdb9-234d8dc639ce",
   "metadata": {},
   "outputs": [
    {
     "data": {
      "text/plain": [
       "\"\\n# LR\\nlr = LogisticRegression(C = 0.1, penalty='l2', max_iter = 200)\\nlr.fit(X_train_basc197, y_train_basc197)\\ny_pred = svm.predict(X_test_basc197)\\n\""
      ]
     },
     "execution_count": 363,
     "metadata": {},
     "output_type": "execute_result"
    }
   ],
   "source": [
    "\"\"\"\n",
    "# LR\n",
    "lr = LogisticRegression(C = 0.1, penalty='l2', max_iter = 200)\n",
    "lr.fit(X_train_basc197, y_train_basc197)\n",
    "y_pred = svm.predict(X_test_basc197)\n",
    "\"\"\""
   ]
  },
  {
   "cell_type": "code",
   "execution_count": 364,
   "id": "7c2eabca-af2d-42fc-891d-9f5e2f277ad9",
   "metadata": {},
   "outputs": [
    {
     "data": {
      "image/png": "[encoded data removed]",
      "text/plain": [
       "<Figure size 640x480 with 2 Axes>"
      ]
     },
     "metadata": {},
     "output_type": "display_data"
    }
   ],
   "source": [
    "# Matrice de confusion\n",
    "\n",
    "conf_matrix_test = confusion_matrix(y_test_basc197, y_pred)\n",
    "\n",
    "disp = ConfusionMatrixDisplay(conf_matrix_test, display_labels=[\"ASD\",\"TD\"])\n",
    "disp.plot()\n",
    "plt.show()"
   ]
  },
  {
   "cell_type": "code",
   "execution_count": 368,
   "id": "00fb9d0f-5d85-4b86-bb6f-edc35bfb96ff",
   "metadata": {},
   "outputs": [
    {
     "name": "stdout",
     "output_type": "stream",
     "text": [
      "Accuracy :  0.688\n",
      "Sensitivité :  0.719\n",
      "Spécificité :  0.656\n",
      "Classification Report :\n",
      "               precision    recall  f1-score   support\n",
      "\n",
      "           1       0.69      0.66      0.67        61\n",
      "           2       0.69      0.72      0.70        64\n",
      "\n",
      "    accuracy                           0.69       125\n",
      "   macro avg       0.69      0.69      0.69       125\n",
      "weighted avg       0.69      0.69      0.69       125\n",
      "\n"
     ]
    }
   ],
   "source": [
    "#Affichage des métriques\n",
    "\n",
    "# Calcul de l'accuracy\n",
    "accuracy_test = accuracy_score(y_test_basc197, y_pred)\n",
    "print(\"Accuracy : \", round(accuracy_test,3))\n",
    "\n",
    "# Calcul de la sensitivité\n",
    "sensitivity_test = conf_matrix_test[1,1] / (conf_matrix_test[1,0] + conf_matrix_test[1,1])\n",
    "print(\"Sensitivité : \", round(sensitivity_test,3))\n",
    "\n",
    "# Calcul de la spécificité\n",
    "specificity_test = conf_matrix_test[0,0] / (conf_matrix_test[0,0] + conf_matrix_test[0,1])\n",
    "print(\"Spécificité : \", round(specificity_test,3))\n",
    "\n",
    "# Calcul du classification report\n",
    "class_test = classification_report(y_test_basc197, y_pred)\n",
    "print(\"Classification Report :\\n\", class_test)"
   ]
  }
 ],
 "metadata": {
  "kernelspec": {
   "display_name": "Python 3 (ipykernel)",
   "language": "python",
   "name": "python3"
  },
  "language_info": {
   "codemirror_mode": {
    "name": "ipython",
    "version": 3
   },
   "file_extension": ".py",
   "mimetype": "text/x-python",
   "name": "python",
   "nbconvert_exporter": "python",
   "pygments_lexer": "ipython3",
   "version": "3.11.7"
  }
 },
 "nbformat": 4,
 "nbformat_minor": 5
}
